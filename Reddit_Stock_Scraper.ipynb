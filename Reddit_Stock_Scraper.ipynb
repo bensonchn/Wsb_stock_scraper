{
  "nbformat": 4,
  "nbformat_minor": 0,
  "metadata": {
    "colab": {
      "name": "Reddit Stock Scraper.ipynb",
      "provenance": [],
      "collapsed_sections": []
    },
    "kernelspec": {
      "name": "python3",
      "display_name": "Python 3"
    }
  },
  "cells": [
    {
      "cell_type": "markdown",
      "metadata": {
        "id": "wHubbFEBM9jI"
      },
      "source": [
        "# Summary\n"
      ]
    },
    {
      "cell_type": "markdown",
      "metadata": {
        "id": "QW3FZL9pQNq8"
      },
      "source": [
        "**GOAL**:Scrape reddit posts to see which common stock is the hottest based on term frequency. Pages visited is /wallstreetbets with 1.1million subcribed users. Will be scraping hottest post and top post through all the comments. Desired number of post can be changed\n",
        "\n",
        "**Conclusion**: Currently the hottest stock is GME as of Feb 15 2021\n",
        "\n",
        "**Improvements** Some stopper words ('a'), slangs('CEO'), or mispelled words may be misinterpreted as tickers. Vader model can be improved with more updated version of words of today's standards\n",
        "\n"
      ]
    },
    {
      "cell_type": "markdown",
      "metadata": {
        "id": "sIEaXT3vfpNP"
      },
      "source": [
        "In the following you will see an example the number of times (freq) a ticker was said for \n",
        "\n",
        "**2 post on Feb 14 2021 and it's final (average) sentiment**\n",
        "\n",
        "***In conclusion: We can see that GME was mentioned the most\n",
        "However it has a less positive sentiment versus PLTR with 72% more.***\n",
        "\n",
        "![picture](https://drive.google.com/uc?export=view&id=1Z2p4MTDt4AS0yE5aX3hWi5DI_5KVgBIv)\n",
        "\n",
        "**Here is another example with 4 post on that day**\n",
        "\n",
        "\"this is your post:What a lovely day!\n",
        "\n",
        "this is your post:Happy Valentines Day\n",
        "\n",
        "this is your post:Can anyone guess when I discovered options trading?\n",
        "\n",
        "this is your post:Soon may the tendie man cone\"\n",
        "\n",
        "***We can see that although GME was mentioned the most - it does not mean it has the highest rating positive sentiment. And a lower freq does not mean a better final sentiment (like TLSA vs APPL)***\n",
        "\n",
        "![image.png](data:image/png;base64,iVBORw0KGgoAAAANSUhEUgAAAcQAAAF6CAYAAACHnygaAAAgAElEQVR4Ae2da5LkSI6D5yp5/xvtRepnrnFzMYViwuWKl8IV+sJMQzpI+gNCBKXq6p7/fPOBARiAARiAARj4/g8cwAAMwAAMwAAMfNMQEQEMwAAMwAAMFAO8IaIDGIABGIABGKAhogEYgAEYgAEY+GGAN0SUAAMwAAMwAAO8IaIBGIABGIABGPhhgDdElAADMAADMAADvCGiARiAARiAARj4YYA3RJQAAzAAAzAAA7whzjXw9fX17de8ggzxBRO3MSDeZG+r3p/96vn37+R3pvYm6xkJ8/i9vuaVvXeed9edff/v5q/W5w1x4y4gsN/k7OFkT87vmZ+DvHPt55zg+78PYPfMt+f8e3LuWfvRmtm+ZvFXr//o/I/U7zn7npxH9rBV+861t/Z1a4yGuMHYp9zkjSPeHFqdk9X3t4fwR87wSO2evb0y5917f/f6W9yuvLfa9+r72+LWYzREZ6P5o5vsuPut/L8iGeUId9vnuHXsc5WfPqOcjnt9inm81uk5vnaP9fFWrmK9psb6pJjHlbfH9rlUIzyNFRvZqlEs1QtLeR7zeM2nj+buVvFe57XKUa3Gsj1XebLKe9SO5hMu29cR7rbn1HhvPNXOMJ+7/PQZ5XTc61PM47VOz/G1e6yPt3IV6zU11ifFPK68s1gaYrhTs5vs8SrX2Kfq2K1jn2uv39dIdT3Hx/LL1kdjnydhHt9T53O4n2o9Lr9syh1h/5e883+0RkrvMR/f6m/t1efq+6iYPikvYcqXHeUkvGOzsda4xWrObvscio/witcn5Sk2im/h/zfpxv+k9Xp6z/Gx/LL10djnSJjH99T5HO6nWo/LL5tyR9j/JZ/sf2iIGzdMQugpHZ+Nq95z3NfcCVNsr9UcZdNHcY855n7l9PEI8/lGOT7XHl9zjnL3rKM59lpfK9X0uI9v9Uf738L7nnxNxRKmmOxWTsX84+NUlzCvv8WfzTWKd7yP+x5G8RHe6/tYdWXTR3GPOeZ+5fTxCPP5Rjk+1x5fc45y96yjOc5oaYgbd81F4WkjXDmKJ1s5wpU/wjy+19fcsl4nLNm0B+WlORzr/qzO48kX5vaZ++v71Vjradxtj/v4Vr/m9hpfa4R7jXLK+ke4Y93fyvGY+zWHxsn2Ne4Za95R7Sje8T4e7b2vk+p6zmisWlnPE5Zs5QlXTR+nHOW6ndV5PPnC3Ka1FZ+t7fGz+DTEjTuVbnylj3BNdU98VqO5b7F9zj7uc/V4H1d+wmbz9DqfY+T3OfscaTzC0lwJ873siXv+rf7WXn0u30fH+3hrzq15RrE+fx973TP82fyjeMdvHWvvvU74rbbP08d9vh7v48pP2GyeXudzjPw+Z58jjUdYmmt1jIa4cYdcNJ42wpWjeNn0UVwxjUf5yrvVal7VaTxaR/Ger3HZnuMx+SnHsZlf8fTxuor38QhLcyVM8+1Zv+dq3Pcww9NaXuP77Hgf97W91v1U1+Oaq+OzWs+/1Z/NPYp3/Nax9tnrhN9q+zwal00fxRXr48ITpnzZlOPYzK94+nhdxft4hKW5VsdoiBt3KN34W26+6t1qOcfcV/we6/PIT/Mo5rbyNFZNH3e84v5RfreVI2zL11zKddvr0jjVC7vF+rrl+6fHFBdeuSPfY8pR/Sjm8VFO4f5Jc1fccfe9tuf1WI9rnpR3KzaaS3i3ml/4aFy4ctz2fI+Vv/fT60a1ozzhWq+PO97nV363VSdsy0/zj+r6PKp1vGrP+qEhLnLnXICLbIltwAAMwMClGKAhLnK7aYiL3Ai2AQMwcFkGaIiL3Hoa4mtvhPgd2deuzuxnZWCkF+FnPRf7zgzQEDMvoDAAAzAAAxdjgIZ4sRvOcWEABmAABjIDNMTMCygMwAAMwMDFGKAhXuyGc1wYgAEYgIHMAA0x8wIKAzAAAzBwMQZoiBe74RwXBmAABmAgM0BDzLyAwgAMwAAMXIwBGuLFbjjHhQEYgAEYyAzEhvg///M/31xwgAbQABpAA6/SQG5J70VjQ/zz5883FxygATSABtDAqzTw3taXV6ch0vx5+EEDaAANHK6B3JLei9IQ+SIc/kV41RMn8/I2gwbOo4H3tr68Og2RhkhDRANoAA0croHckt6L0hD5Ihz+ReAp/jxP8dwr7tWrNPDe1pdXpyHSEGmIaAANoIHDNZBb0ntRGiJfhMO/CK964mRe3mbQwHk08N7Wl1enIdIQaYhoAA2ggcM1kFvSe1EaIl+Ew78IPMWf5ymee8W9epUG3tv68uo0RBoiDRENoAE0cLgGckt6L/r0hvj19fXdr/6E4fEeq3GKO9b9NMc7sb4/jUd7qvgoBn7tJ3RpR3aPHpSbdOWxPfGeM6vfsz9yfjR9L5f9njifs5jW7DXC3W7leMz9rfU9r/wVP09tiE5m952Me2K9xsc+96p+7TftTedIMTCaYdfASEfK63Efu78nXzmye+qVi93W7r1cVl2qLb5nMb8nozmU43H3U9yxlKt4tx/dEIsIXX5wYU6UY45X3Sgm3Oc+i9/PqH0LlxWO3f4xuQo/SRcJEx9bscpJccfc15xuUzxhXoOftZx4S5jzp7jsrTHP3/L7/H1ctR3TWHZrfsUu0RB1WLedpBoLk1W+xp5TsT5W/hmszuR7dcx9z8HPPyZX4SXpImHiYyumnG69pvx+eb7nCk+YYtixfhNvCUscbuWlWMLSvMJ6fh9XXsK2cM3t9rIN0UkQaSK07Mz3GuW77fOvNNbZ+p4cd7/nMR7/qFyBG9f5TCeKe03iaBRXvdc45n7laB7Px9+n186l+NzDX6pVXYoJK6tL+d0q1/G9WNWkXJ/L/cs1RJEvKzJ8vMcX0crtVvOuaGuvfV8d6+Oez3jfj8yn8ZR0kTCdu2I93sfKlb01rjVUJ6v5sPu0mnhLWOJzKy/FCut4H2udhO/Fao6Uq7m7pSH+/19tLtKcOPmyInZr3Mlddexn0Ln6XntOjzPe9yPzaTwlXSRM506xhCm/7Kvjvhb+Xx0n3hOWONvKS7G92EgPj9anMxS24udpf8u0SNPVCej4aFy4akc5ip/B+nm0X50rWeVg//5wXJmLkX5GnMzyH42nddOcKQ/sX00n3hKWeNvKS7FHsFp/b/0oN52hsBU/T2uIIqPIS5eTorgwjct2rI89V75yVrN+nq297c3bmoPYvz84n8BH0kXCdNYUc8z9VNPjt441J3auxc5tcZawxOVWXoo9go32leYc5aYzFLbi56kNUYQUWX51QhRzvBPcczRO1udZye9nGu1tb96oHnz+A3RWjrre+zm6dvbke06ab2+81zK+TYfOc/mdv4RVzgjfis3W2qpVzOcoLF1be+v5l2iI/dCMs3DgBV7QABq4sgZoiIOniiuLgrPzo4gG0MAVNUBDpCHGP2a44peBM9ME0MC1NUBDpCHSENEAGkADaOAqf6mGp75rP/Vx/7n/aAAN7NEAb4g8GfJkiAbQABpAA7wh8tS056mJHHSCBtDAFTTAGyJPhjwZogE0gAbQAG+IPPVd4amPM6JzNIAG9miAN0SeDHkyRANoAA2gAd4QeWra89REDjpBA2jgCho4zRviihtlTzAAAzAAAzDwSgbif9z7lQsyNwzAAAzAAAysyAANccW7wp5gAAZgAAYOZ4CGeDjlLAgDMAADMLAiAzTEFe8Ke4IBGIABGDicARri4ZSzIAzAAAzAwIoM0BBXvCvsCQZgAAZg4HAGaIiHU86CMAADMAADKzJAQ1zxrrAnGIABGICBwxmgIR5OOQvCAAzAAAysyMDTG+LX19e3rn5g4WXTZyvusVF9mnMFbGu/W7EV9s4e3s/Ardq/JX9Lf/fG3s/Y+ju45R7VaWb5Pd7vXY93hl4d7+utOn5bQ7zlhvWbpfGqpPq+tva6FfM58K/LQGmkfxKmnBRLWOUX/uyY9oEdM5A4T5hmSLGO9bFqy6aYY+6rzjH374mr5gz2qQ2xiBN57osIYbLCywqTVUzjsvokTLGVrPYs63sTJusxfBgQA0kfCbs1X3PIqr6sMNm9Mc/DHzOwxWuqmuWnuM+T4o65rzrH3L8nrpoz2Lc0xCKmk6xxWfnK87FITZhiq9mtvW7FVjsH+1mDgS3NpFjHfOx+P929sT4P438ZSLwm7N+qf0eeX36/PNtzhSdMsbIed185CVOs1zu+uv/WhihSyyZfxCq2Opmj/W3tfys2mg/82gzMNFNxvzpbXu/+Vt4tsZ7L+F8GEucJ+7fq35Hnu6+sjtXYL+WN7LPrR+ushj+tIYpsP2DHfLzHr7k8z+c+k19nGH22YqMa8OsyMNNLijvmfrHYx87svTGfA/83A4nXhP2u/EH25HqO+5ozYaNYyk3YqF74GezTG2IR1S8RIdzH5Tu5KcfjvVbjlW3av/a7FVMOFgaKgT1aSTnCZJ3NhCl+b0z12MxA4jVhqfqevFSTsFov4XuxUX06x6rY2xtike2Ej8Ypx7FVCZ6J5CxnWJnfK+xtr05SnrCyoytxqLpbYykf7C8DideE/a348UY5CXfMfc25F6v8vbkpT+udxT6lIRYRIzI85r6IHmFOoHK69ZyV/dr36LMVG9WAX4uBWzSSchMmBl8R09zYzEDiPGFevRXvsdm45t2To/V77q31mucM9q0NcUTs6AYUrusM5GqP6Tx7YsrBXpcB6b1bZ6TrayvX68rvtR6/N+Zz4GcGZvfIue+5GvvMwmQ9Vr5wWY8L63YrZyumeTznLP5TGuJZDss+YQAGYAAGYGDEAA1xxAw4DMAADMDApRigIV7qdnNYGIABGICBEQM0xBEz4DAAAzAAA5digIZ4qdvNYWEABmAABkYM0BBHzIDDAAzAAAxcigEa4qVuN4eFARiAARgYMUBDHDEDDgMwAAMwcCkGaIiXut0cFgZgAAZgYMQADXHEDDgMwAAMwMClGKAhXup2c1gYgAEYgIERA7Eh/vnz55sLDtAAGkADaOBVGhg1pXfiNESaPw8/aAANoIHDNfDOxjdam4bIF+HwL8KrnjiZl7cZNHAeDYya0jtxGiINkYaIBtAAGjhcA+9sfKO1aYh8EQ7/IvAUf56neO4V9+pVGhg1pXfiNEQaIg0RDaABNHC4Bt7Z+EZr0xD5Ihz+RXjVEyfz8jaDBs6jgVFTeidOQ6Qh0hDRABpAA4dr4J2Nb7Q2DZEvwuFfBJ7iz/MUz73iXr1KA6Om9E6chkhDpCGiATSABg7XwDsb32jtpzTEr6+v73T5k4XijpUvfGRnOX2+1cZ1rrSnft6UA8bT+a06meU/Eu+1GqPT23Uq7mRnHCpPtucLl31mXHN262tsxTzP/VFTeif+0oZYJIkAEaaxrPCRrbxRTLjmWs2O9ld432vCeg7j2394zsxZ0kTCdMYUc8z9VDOLq8ZtqvE4/m/NJs4SJu5SzDH3U82jcc3p1ud0XzkJU0z2nY1vtPZTG6IOWrYIcVL62HPlj3JuxTXfO63OLut72Yt5Df7vH5ZP5+RWnczyH413vtN8PYfxb90m3hIm7lLMMfdTzaNxzSnb5+vjykuY6mVHTemdOA3xxf/sIAljLybhYH//qFyVk6SdLS5m+R53X3MmbE9MOdjf2k2cJmyLu1n+LfGUmzDtp8f6uPISpnrZdza+0dpPbYhFQr90eOEaJzvKEZ5smmclrPbc97MX63WMf/+4XIET1/2t5x1pTXP6fD035Si/5wrHzjWauEtY51L3Y2/u3vo+n9bp9TXuubdgfb5RU3on/tKG6ARskay8UY7wblW3sq099/3txXod4/mPzadzlLQzOvOe3J5TY101b49rrRGuOHas1cRdwrY43MrfimnOnlNjXZXT46O6Ue6oXvOUXfHz1Iboh+2+k91jGo9yOq5xWdWuatMe92Krnol9jX/sXs1N0k5a81l5o3lGeNoL2L96SdwlbIu3Uf4I73PN8kbxhO/F+h5oiJMGVsSOyO34KLeT/u5x33ftZy/27r2z/r8/ZEfzca9OUt29uktzJexobs68XuIvYTpjiu3Fjrjvt+xFZyq74ufwN8Qir18iSbjGsgkXVlZ5K9q0v73YiudhT8c1yXt0kmp0z1LMMferpo+35lEMO9dH4jVh4jLFOtbHqi2bYo65P8q/Fe9z+n7k0xBDM3TiyvexiJvhqUa177ajvelMsu/eJ+vPf8jewZH0Idv3ULgw5XSreNmtWI97nfu+puP4+zW05z44n1v5Pabx3vrKU01Zr3N/Ftszh8/3sQ3RD4m//0sBV3CFBtDAVTVAQ3zxv/N3VWFxbn5U0QAaOJsGaIg0xOEfR5xNzOyXH2A0gAYe0QANkYZIQ0QDaAANoIFP/lumjzwlUMtTJhpAA2jgehrgDZEnQ54M0QAaQANogDfE6z0B8dTLPUcDaAANZA3whsiTIU+GaAANoAE0wBtifkrg6Qle0AAaQAPX0wBviDwZ8mSIBtAAGkADvCFe7wmIp17uORpAA2gga+A0b4grbpQ9wQAMwAAMwMArGYj/bxevXJC5YQAGYAAGYGBFBmiIK94V9gQDMAADMHA4AzTEwylnQRiAARiAgRUZoCGueFfYEwzAAAzAwOEM0BAPp5wFYQAGYAAGVmSAhrjiXWFPMAADMAADhzNAQzycchaEARiAARhYkQEa4op3hT3BAAzAAAwczgAN8XDKWRAGYAAGYGBFBp7eEL++vr519QMLL5s+Ke6Y+6n+bNinneds/J9pv6WVPR/XVKq5Nd7nmNXv2SM53//9jRSfM06UJ9vzhcvO4pXnH9XJeky+YrNa5anuTPZtDXFGqkgUuckq54w2nf+M52DPr2dA2p+t1DVV+Y65r7k61sfK63MJ38pXDvZfBhJnCVNVijnm/qgm5YxyC+/5s7Hmku35wle3T22IRYKIcF8kCJMVXlaYrGJ93HOVdyZbZ+IDA3sYkFZkt2pSjmPuax7H3FfcbYonzGvwfzOQOEuYKlPMMfdTTYorr2yKO+a+1438W/NH87wDf0tDrIN20jQuK195PhZJPU/4GWw6zxn2zR7fx8AezaSchPkpPF5+vzw3+V6f4mC/GUicJex35V/E891XhmPl90t5ZT1XuGPuK75lb83fmuvo2Fsboogrm/wiw2NOzgj3nFX9flaNV90v+3o/A3s1ou+FbNq5Yn3OPq7ahPmcs7jn4v8wkDhLWOercnR5LNU65r7qOlZjv5RXVrmjeMp17Ez+0xqiyPLDd8zHe/yay/O25vbY6n46U2F8YGDEwB59pJyE+RqPxGe1vg7+XwYSbwn7W/Hb83z3lZkwxcp63H3lOFa+j3u9arZwz1nZf3pDFHluRYAwH5fvZKccj3ttwhVf2aZ9J2zlM7C3YxnYo4+UkzDf+b3xWZ2vgf8vA4m7hP1b9e/I891XVsIUK+tx95XjmPspLqzP6/hZ/Lc3xCLbCZ+NRXrPOwvh2n/fr3PQY4xhYI8+Uo5j7otRx9xP8S1MMeycgb08a6ZZ/rvjW/tU7Cz2KQ2xbki6KUWCx9z3mNdu5SgmexaS+z79vIolTDEsDOzRR8pxzH0x6pj7Fe/jEaa5sPsYuJXXWf6t8Z7fx/0+z+I6dcpT7Cz2rQ2xE6+xE1t+us5C8Gif/UyjPHAYKAb8O+GMdHymq0fivVZj3w/+PgbEnWyvKtw/ypP1WPnCZY+Oaw993bONn9IQz3Zo9gsDMAADMAADnQEaYmeEMQzAAAzAwCUZoCFe8rZzaBiAARiAgc4ADbEzwhgGYAAGYOCSDNAQL3nbOTQMwAAMwEBngIbYGWEMAzAAAzBwSQZoiJe87RwaBmAABmCgM0BD7IwwhgEYgAEYuCQDNMRL3nYODQMwAAMw0BmgIXZGGMMADMAADFySARriJW87h4YBGIABGOgMxIb458+fby44QANoAA2ggVdpoDejFcY0RJo/Dz9oAA2ggcM1sEID7HugIfJFOPyL8KonTublbQYNnEcDvRmtMKYh0hBpiGgADaCBwzWwQgPse6Ah8kU4/IvAU/x5nuK5V9yrV2mgN6MVxjREGiINEQ2gATRwuAZWaIB9DzREvgiHfxFe9cTJvLzNoIHzaKA3oxXGNEQaIg0RDaABNHC4BlZogH0PNES+CId/EXiKP89TPPeKe/UqDfRmtMKYhkhDpCGiATSABg7XwAoNsO/hsIb49fX13a/+5KH4XrznnWmss7o90/7Z6zFvDq6P8m/hPeXP5pvFff00v8fxxxq5heficZa/Fe8xjfv9EV52K3ZPvM9X4xU/hzREJ7r7TpTHEu7Y2f0kqrOfif2PfwDv4SZpJGFpbn2XPJZqHXNfdQmrWOGjmGqxWQ+Jt4SJvxRzzP2tGsXK9pqtcY/1+lnc13X/kg2xyNLlZAhzMh1LuNef2feznfkc7D3/4D2Ll6SThPX1lCOreB8X7pj7e2pSvuqwY20k3hImDlPMMfe3akaxVK/csinumPuqS5hispduiCLBbZHmxGksq9w+Fn5Wq/O4PetZ2Pf4h+9RbkoffY6EeY7H3fcc9z3HfeV0zMfuKx8710PiLWHiMsUcc3+rZhRL9cotm+KOua+6hCkmS0Ns/+C6SHPifDzyReaZrZ9Z50iYYtj5j8wncpQ0kTA/u8fd7zkVS3Hhsl5Xvte43/MYjzWbeEuYOEyxjtXYL9V22+sqLmyr3mPK19x97HMqJ1kaIg3x1xO/hJJEpRh2/OPyydwkTSRMHPRYHyvPree4rxzH3K94H6sGu63XxFvCxGOKOeb+Vk3FRrkd97H7af5ZXDXd0hBvaIi6eUW2rk7oJ42TqD7pfJxl+0cy8ZM0kbCqTXjC+jqe477yhMkKH63pcfx8z2/lcpY/i/t92Jvree5rLsfcT3Fh3V66IXbSaqxLRI3GHVf+WW2dp+89YT2Hcf6B+VRekiYSVucvfHSJn1TrmPu9ZjR3qlEtNus1cZYw8Zdijrm/t0Z5ZWf1j8Z9Lfcv2RBFeJGaLidI8YSlm+J5Z/L7Wfr4TGdhr/lH7xm8JF0kbLRWz+3jqnPMfc2ZsD0x5WB/6yNxmjBxl2KOub+3RnllZ/WPxn0t9y/bEEV6EeuXk+M5e/Ged6ax85AEd6azsNffP3rP4mSmky3tpNie+Txn6xxp/q18Yn914hwnHju2J99zEtd9Ts/x2pT3aNzXkn/phigSsH+/FHABF2gADVxVAzTE9pdqrioEzs2PIBpAA1fXAA2RhvjrL9Nc/UvB+WkMaOCaGqAh0hBpiGgADaABNHDl/7g3T4DXfALkvnPf0QAaGGmAN0SeDHkyRANoAA2gAd4QeVIaPSmBow00gAaupgHeEHky5MkQDaABNIAGeEPkCfBqT4CcF82jATQw0gBviDwZ8mSIBtAAGkADvCHypDR6UgJHG2gADVxNA6d5Q1xxo+wJBmAABmAABl7JwH9eOTlzwwAMwAAMwMBZGKAhnuVOsU8YgAEYgIGXMkBDfCm9TA4DMAADMHAWBmiIZ7lT7BMGYAAGYOClDNAQX0ovk8MADMAADJyFARriWe4U+4QBGIABGHgpAzTEl9LL5DAAAzAAA2dhgIZ4ljvFPmEABmAABl7KAA3xpfQyOQzAAAzAwFkYeHlD/Pr6+h5dTtIop/BP/KTzfuI5OdNjDHSd3DJb+u7M5ns0fsv+rpw747lzM8t/dbz242vcur+ev+r4rQ2xCNbHyU6+8j7F+tk/5Uyc47kMJI0kLK2q75DHUq1j7qvOMfdTXBh2m4FbeZzlvzpep+lr+Nh9nTxhiq1sD2uInYQizEnrY+WPcMXPaP3cZ9w/ez6GgaSThPXdKEdW8T4u3DH3U80srhrsNgO38jjLf0fcTzhb33NX92mIb7hDJaB+vWEbLLk4A/f80HiN+3XUPu7Yo/HF6VxmezOe+0Zn+e+I+x5n63vu6v5hDbFI65eT02M+9rxP8Ots/ZOwnsP4WgwkTSTMWfG4+5WTxo65r/wRVniP+T7wxwwk3hKmGVLMMferpsaOuf9IXPOm+bRX2Z4jfHX71obopDnZyV+dyEf351w8Ohf1n8FA0kTCdNoe6+PKK0yXxqrXeBQfzef1+HMGbuVxT77umXJltZtH4qrVXGV9fveVkzDFVraHNcROQie5j5U/whX/FHtWAX0K/yueI2kiYbX3hCesn3OW43H3NU/CFMNmBhJnCVN1iiVM+WWfGU9zOea+9pAwxVa2NMQ33J0kloS9YWssuRADSRMJqy0XPrq2jjSaTzUedz/FhWG3GbiVx1vza/VU47u6JZ5yHXNfayRMsZXtYQ2xCEqXyEkxx5T3CbbO5Z8+9hj+dRlIukjYiKGe++xxrdvnHO0F/C8DibOEqSLFHHO/al497mv09Xpc5ziDfWtDdIKK1NHleZ/i97N+yrk4x3MZmOmk4qNPivl8qe6WeJo/zQn2mwHnOfHYsT35yvm92r9/gvBovO+t5tPasmmNM2Avb4hnIIE9wgAMwAAMwAANEQ3AAAzAAAzAwPf3Nw0RGcAADMAADMAADRENwAAMwAAMwMAPA7whogQYgAEYgAEY4A0RDcAADMAADMDADwO8IaIEGIABGIABGOANEQ3AAAzAAAzAwA8DvCGiBBiAARiAARjgDRENwAAMwAAMwMAPA7whogQYgAEYgAEYGL0h/vnz55sLDtAAGkADaOBVGlixA8c3xFcRwLx8udAAGkADaKA0sOKHhsjbMH8agAbQABo4XAM0RER3uOh4GudpHA2ggRU1QEOkIdIQ0QAaQANogD8y5Sltxac09oQu0QAaeIcGeEPkyZAnQzSABtAAGuANkaewdzyFsSa6QwNoYEUN8IbIkyFPhmgADaABNMAbIk9pKz6lsSd0iQbQwDs08JFviF9fX99bl4hOOYqVVdyx5CuvbIqfEfuks5yR/5X37Hrfo5NZ/qvjK3O50t5m96HvdZb/7HjN53t4dH6fS/5lG2In08ciR5jGI6u8sqOcM+E6z5n2zF6PeawOS1wAABPSSURBVKNIGk+Y7keKOeZ+qnk0rjmx2/qY8dz5m+U/Gq/10hzaR4o55v5WjWKyH9kQdbiyRcyInI733D72eeV7jvuKn83WGWrPsmfbP/vd/uF7lJ+ki4RpnRRzzP1U82hcc2K3dTHjufM3y39F3Pfw6Pw+l/s0xI1/mF6kJ+KdQM9x33PO4vtZ3T/L/tnn9o/eM/hJukiY1koxx9zfqlGsrNe4r5yEKYbNGkmcJWyLP893XzWOuT+KV45fyiu7p97zRzU95/IN0QnvJCvWSfOx57jvOWfx/fzun2X/7DP/2D2Tl6SLhPmaFferx3xc/p75VJNyE6Z8bNZI4ixhW/x5vvuqccz9d8S1ZreXbYhFRN2UdIkkxTTuNsUT1utWHNe+fV997DH8/KNyBV6SLhImLlLMMfe3akaxW+s1D/ZfDT/KY6/v4+LbMfd1LxKm2K31aa6E+fzlr/h56v/bRZGwhwgR7rmzWsWT7USvPPYza58JUwz774/JlfhIukiYOEkxx9zfqqnY3tyUp7mxWbuJs4Ql/lLeDJvFZ+vM6mfxNH9hK34OaYhFWCetY33cSVQ82Z678jjtX9jK+2Zv+cftlbyULvr8CVNOijnm/t4a5ZXdW+81+L91cy+PqW7PfUl1jrmv++WY+/fEVdPt5RtiEdsvkdTxNFauW+U5dja/znC2PbPf3z90z+Yk6SJhWjfFHHN/VJNyRrmFb+WrDvuvVhJnCXPetuIp5pj7mtMx9ys+G/ecnt/jWrPbyzZEEVTE+eUEOT7yPV++cjU+o60znHHf7PnfH7pX8CF9y/Y1unaUJ5vyFZvVKs/nECbrMfz9ehB/sp27woUpp1vFy27FVoj7XuV/fEPUQbH7vxhwBVdoAA1cUQM0xI1/D/GKguDM/BCiATRwVQ3QEGmI//1jkKt+CTg3DQANoIHSwIqfp/4tU4SO0NEAGkADaGCPBmiIvCHyhogG0AAaQAO8IfLUtOepiRx0ggbQwBU0wBsiT4Y8GaIBNIAG0ABviDz1XeGpjzOiczSABvZogDdEngx5MkQDaAANoAHeEHlq2vPURA46QQNo4Aoa4A2RJ0OeDNEAGkADaOBMb4grdm72BAMwAAMwAAOvZCD+i/mvXJC5YQAGYAAGYGBFBmiIK94V9gQDMAADMHA4AzTEwylnQRiAARiAgRUZoCGueFfYEwzAAAzAwOEM0BAPp5wFYQAGYAAGVmSAhrjiXWFPMAADMAADhzNAQzycchaEARiAARhYkQEa4op3hT3BAAzAAAwczgAN8XDKWRAGYAAGYGBFBp7WEL++vr51pYMqVrZ/9sRGNR0/4zhxcsZzsOfXMbBXI/5dSjWvjr+Ogc+aeXYf+mln+T1eY/9sxVNsVu9zl5/m6DlnGL+kIT5CZifNifaYcMfO6H/KOc7I/Vn2vFcjldc/jrmvPMfcvyeuGuw2AzOee/We/JTj88zinlu+57uvvI71sfLOZt/eEItIkem+iBQm23GNz2j93GfcP3t+PQO3aES5vivH3FeOY+7fE1cNdpuBGc+9epaf4j7HLO655ff8Pu45Kd7nPMv46Q2xk+XjIq6T55j7IlCYbMc1Pput8+jjvjAsDDgDezSSchJ2y7xe777mSJhi2MxA4ixhufoH9fzy++W1Pea1nid/Fq88z7l1fq2zon1ZQxRhIkskChcZ98a9TnOdyToP7p/pDOz1OAb2aCTlJMx3fUu859a4Yz43fmYgcZawXP2Der77qnHM/RQXVjblely+57mf4sLOYN/aEIvITmbHfDzyz0C07zGd2eP4MNAZ6Jrp8RqnnISpdiu2NV/VqVZWc2LnDCTOEjaaaU/uLGcUH+G+l2fl+Jyr+C9piHU4kSYrLI0L65cIEt7HHVd8dVv77p+E9RzG12Zgj0ZSTsKKyREulmfxW/OUj83cP5vv2Xyj+AjXfZvFb81T/ir2pQ2xyHMCR2PhbkWQsD7uuOKrW+072dX3zv7ex0DpZfZJOXsxnzvVeNz9W3K97sp+4ixhnaNRTsIdc19z7sWUXzbVjPBRrs+3ov+2hliEjUjzmPsiUNioXnlnsZ9yjrPwfcZ97tFIyulYH3cutuI91sd9LsaZgcRbwrx6K95jt461Tq8TXvaW2Fauz7mi/7KGmEgsokSW+50Yj7nveSPcc87i11n4wMAWAyONdFzfC1mfU1i3yum4xoqXFVaWz/0MOI+JS8d6rsa+ujBZj5UvXLbHlTPCVefWcx0v/6yfpzXEsxLAvmEABmAABmCgGKAhogMYgAEYgAEYoCGiARiAARiAARj4YYA3RJQAAzAAAzAAA7whogEYgAEYgAEY+GGAN0SUAAMwAAMwAAO8IaIBGIABGIABGPhhgDdElAADMAADMAADvCGiARiAARiAARj4YYA3RJQAAzAAAzAAA7whogEYgAEYgAEY+GEgviH++fPnmwsO0AAaQANo4FUaWLEJ0xBp/jz8oAE0gAYO1wANEdEdLrpXPd0xL28OaAANPKIBGiINkYaIBtAAGkADf/6s2A/z/9vFI12fWp4a0QAaQANoYKaBFTsi/wyRp1WeVtEAGkADh2uAhojoDhfd7CmNOE/yaAANvEMDNEQaIg0RDaABNIAG+GeIPIW94ymMNdEdGkADK2qAN0SeDHkyRANoAA2ggU98Q/z6+vrWlZ5AFCvb4x6TP8qZ4aP6XrfqOPGz6l7Z17FvG9K27C38z3R1T1z7kL1lP+T+1o54lN3LUeWPcu+JaX3ZPrdw2VvjPb/GK34e+lumIkfWDy1MdiumnLKjvIQLU73GZ7Jn3vuZeD7jXvv3oc6QsHS2ma7uiae1E5b2A5abYedlD59b9+6eWFrTMfe1X8fcT3Fh3dIQ//8LXQR2EoU57ljCRbDyND6L1Zlkz7Jv9vn7x+0VnCRdJKyvrRzZZ8XTfAnr6zHOekncJcz5U1z2mbE0V2Fba+2J+7zuf2xDTKSIxLLyledjJ6jjqpVV7mysvJWtn9X9lffM3vIP26t4SbpImK/vcfeV45j7e+KzfM2B3aeTR/hMteL93pjqy/oc7ivHMfdTXFi3H98QRUzZ5BchHusE9bHnjvxb5+xrvGssfrT/d+2Ddff9eL2DJ9eI1k+YYmU97r5yHHP/lnjV6VId9nYdzfjf4jTVKv/emOrL+hzuK8cx91NcWLc0xEFDLEL9EnHCajzye0y1K9s6i++vjz2Gf/sPzadwlnSRMJ23x149rnX7GtoLdq7bxF3CEpdbeffGtE6v7+PKc8z90RzC3X50Q3SSnKDyt8aqU95Wruds5Tnpq/m+b+0tYYph5z8sn8pR0kXC6vwJd8x98eWY+ym+Zw3VYfdpdg/nIy5TrXLvjVV9qp1hs7j21e0lGmKR4wSNxp4joka5PT7LU/6KVntPdsX9sqd9P26v4Kk00udNWOUkPQl7Rlxz7N1Pz2P8W0fpXiYscbeV9+xYms8x97XXhCkmS0P8/38ht8gaXSKrrHIS5oSnPK9Z3fezrL5X9vf7h+1VnCRdJGy0/iz31njKT9hoP+D/aidxl7DE21bePbFbazzffe01YYrJfnxDrIN2ImrcMeUpJiuiZPfiozzNs7qt/a++R/b374/ZUXxI27J93S3tbMVqnnvi2ods3w/j23QiHmU7f4V3rMYj/J6Y1u7W192KaU3P8dqR/3ENcXRQ8Nu+FPAFX2gADVxNAzRE/huG8Wnval8EzsuPPxpAAzREGiINEQ2gATSABj7xv2XKUx5PeWgADaABNHCPBnhD5MmQJ0M0gAbQABrgDZGnqHueoqhBN2gADXyiBnhD5MmQJ0M0gAbQABrgDZGnvE98yuNM6BoNoIF7NMAbIk+GPBmiATSABtAAb4g8Rd3zFEUNukEDaOATNcAbIk+GPBmiATSABtDAmd4QV+zc7AkGYAAGYAAGXsnAf145OXPDAAzAAAzAwFkYoCGe5U6xTxiAARiAgZcyQEN8Kb1MDgMwAAMwcBYGaIhnuVPsEwZgAAZg4KUM0BBfSi+TwwAMwAAMnIUBGuJZ7hT7hAEYgAEYeCkDNMSX0svkMAADMAADZ2GAhniWO8U+YQAGYAAGXsoADfGl9DI5DMAADMDAWRg4tCF+fX19b11FmuJnIfAZ+6wz84GBxIC+D7IpxzHlyXqsfOFuPcfx8vtnFu/5jDMDt/I4y9+K95jGvjNhbh+Je+2ZfBrim++WBPjmbbD8ggyUNvonYcpJsY71sWrLpphj7qsuYYphMwOJs4SpOsUcc3+rRrGyvaaPPTflezzVJsxrVvUPbYiJhCLOyevjVPMpmM4t+ynn4hzPYSDpImFaLcUcc181blPcMfdVlzDFsJmBxFnCVJ1ijrm/VTOKpXrllr0nPqvx+Vfy39oQi7ROXMJWIuxZe/Fzu/+s+Znn/AwkXSRs66SeX36/vNZzhSdMsbKzuOfi/zCQOEuY+Eoxx9zfqhnFqr5fyi3bY329PlaNz3EW/20NUSR3okZ4zzv72EXk/tnPxf6fx0DSRcL6ipWjy2Op1jH3VZcwxcrO4p6L/8NA4ixh4ivFOlZjv1Tbba+r+Ax7NN73sPKYhviGu9MF1sdv2BJLLshA0kXCtrY+y/e4+5ozYXtiysH+ZiBxmjBVpphj7m/VVCzlqsbtLM/j7muOhCm2sn1LQyyyRoRtxVYmcu/e0rkTtnc+8j6XgaSLhG0xMMv3uPuaM2EVG+Gqw44ZSNwlTDOkmGPub9VULOWqxu0sz+Pua46EKbayPbwhFlFbZM3iK5O5Z286X7J76sm5DgPpe5IwMZJijrmfambxVCMMu5+BvTxrxln+LL41T8Vm9Y/Gtf4Z7KENsYjdunRz0g04A5n37vFq572Xp6vVJV0kTLykmGPuV81svDdH62P3MdB5Tzz7TLP8WVxzpby0ds+7dZzm1B5WtzTEBe5QF9wCW2ILizBQ2vCrb6trx3N7rGofifdajfueGM8ZEHeyvaJw/yhP1mPlC5ftceUkXDHVlu0fj90T7/OtOj60Ia5KAvuCARiAARiAARoiGoABGIABGICB7+9vGiIygAEYgAEYgAEaIhqAARiAARiAgR8GeENECTAAAzAAAzDAGyIagAEYgAEYgIEfBnhDRAkwAAMwAAMwwBsiGoABGIABGICBHwZ4Q0QJMAADMAADMMAbIhqAARiAARiAgR8GeENECTAAAzAAAzAwekP88+fPNxccoAE0gAbQwKs0sGIHjm+IryKAeflyoQE0gAbQQGlgxQ8Nkbdh/jQADaABNHC4BmiIiO5w0fE0ztM4GkADK2qAhkhDpCGiATSABtAAf2TKU9qKT2nsCV2iATTwDg3whsiTIU+GaAANoAE0wBsiT2HveApjTXSHBtDAihrgDZEnQ54M0QAaQANogDdEntJWfEpjT+gSDaCBd2jg498Qv76+vnWNCFa8bM/xmPueJ9yxs/uJi7Ofif0/50dWeped8ao8t6pxzH3FZbdilTOLax7sWAPOYfl7udqTO8vZio9ihffL97wV8zz3aYiTL1Mn1cciUpjGZ7efdp6z34+V9l/a6PtJmOfM4p5bfs9/dNznZ/y7KXaO031IvFVdqvXcWc5WfBbzddxPe0qY15S/4udp/6UaJ9N9J8Fx95WzB0s5qj+brbPUnmXPtn/2+/vH7pmcJF0kTGtuxZTjtuf3seeWP4v3fMZZH4nHhDl/ist6TL5issJlhcsKLytMNsUcc/+emqpf8UNDfNM/4HcRue9Cw88/KFfhJekiYeKjYv1SLNk+Vx/3mlm85zPO+k08JizxN8pz3H3N4Zj7isumWGH9Un7ZUY3nJJ+GaK/8ItiJEpas8hTT+Ky2zqG9uy8Mm39MrsRL0kXCxEmKJazyEy6srC7N7TWKKd9z8Oe6TbwlLHE5ynPcfc3hmPuKy6bYDJvFNXe3H9sQi5BOSsf6uMjpmMbdOpGKOXY2v87ge+5jj+HPf2A+laOki4RtnX+Un/DCOu7jWXxrH8T+6tg5FS8JU8xtyuvYrePZ/B6X72u4n+LCuv34hljE9EskdNzHPUfjZFWXYmfAav99nwnrOYz//qB8GhfStKzOl3SRMOUnO8pP+AybxdP6V8aKL7/ExSM89to+rjUcc39r/T0x5Ty6huahITaB1M3yG9bHIs7tnhzPX83X/pNdba/s571NuDTS70HClJNie7GaY5Y7i2sf2G3dPMJjr63x6NI93Yr3e9Xn1xxbeXtr+hwf2RBFdj+siFQ8keY53U/zeY7PK39Uszo+4mb1fbO/7R++R/lJukiY1umxPh7lbeE+h/tbNYphsz4e4THVdp5nOVvxFOvYbFz76Tl9jzVe8fPw3zKtg48Or5hsIsVj7qfcwpST7KhmdbzOsvoe2V/+cXs1L13nfb2unVl+1fcan3NWP4v7XPhjzcx4HN2jEe5cz3K24qNY4X75euV7bDRHr/nIhtgPyXj8JYAbuEEDaAAN/GiAhvimf+cPAfIjhAbQABpYSwM0RBoifzSKBtAAGkADn/rPEHnqWuupi/vB/UADaOAMGuANkSdDngzRABpAA2iAN0Se2s7w1MYe0SkaQANHaIA3RJ4MeTJEA2gADaAB3hB56jriqYs10BkaQANn0ABviDwZ8mSIBtAAGkADvCHy1HaGpzb2iE7RABo4QgO8IfJkyJMhGkADaAANnOkNccXOzZ5gAAZgAAZg4JUMxP+49ysXZG4YgAEYgAEYWJEBGuKKd4U9wQAMwAAMHM4ADfFwylkQBmAABmBgRQZoiCveFfYEAzAAAzBwOAP/Cx8ZrO9nclAIAAAAAElFTkSuQmCC)"
      ]
    },
    {
      "cell_type": "markdown",
      "metadata": {
        "id": "28gpK9LHNDj3"
      },
      "source": [
        "\n",
        "# *Install dependency*"
      ]
    },
    {
      "cell_type": "code",
      "metadata": {
        "id": "shQTD9syIbBe",
        "colab": {
          "base_uri": "https://localhost:8080/"
        },
        "outputId": "e05b4c44-75e1-4eb3-e026-b876ddc8c28b"
      },
      "source": [
        "!pip install praw"
      ],
      "execution_count": null,
      "outputs": [
        {
          "output_type": "stream",
          "text": [
            "Requirement already satisfied: praw in /usr/local/lib/python3.6/dist-packages (7.1.4)\n",
            "Requirement already satisfied: update-checker>=0.18 in /usr/local/lib/python3.6/dist-packages (from praw) (0.18.0)\n",
            "Requirement already satisfied: prawcore<2.0,>=1.5.0 in /usr/local/lib/python3.6/dist-packages (from praw) (1.5.0)\n",
            "Requirement already satisfied: websocket-client>=0.54.0 in /usr/local/lib/python3.6/dist-packages (from praw) (0.57.0)\n",
            "Requirement already satisfied: requests>=2.3.0 in /usr/local/lib/python3.6/dist-packages (from update-checker>=0.18->praw) (2.23.0)\n",
            "Requirement already satisfied: six in /usr/local/lib/python3.6/dist-packages (from websocket-client>=0.54.0->praw) (1.15.0)\n",
            "Requirement already satisfied: certifi>=2017.4.17 in /usr/local/lib/python3.6/dist-packages (from requests>=2.3.0->update-checker>=0.18->praw) (2020.12.5)\n",
            "Requirement already satisfied: urllib3!=1.25.0,!=1.25.1,<1.26,>=1.21.1 in /usr/local/lib/python3.6/dist-packages (from requests>=2.3.0->update-checker>=0.18->praw) (1.24.3)\n",
            "Requirement already satisfied: idna<3,>=2.5 in /usr/local/lib/python3.6/dist-packages (from requests>=2.3.0->update-checker>=0.18->praw) (2.10)\n",
            "Requirement already satisfied: chardet<4,>=3.0.2 in /usr/local/lib/python3.6/dist-packages (from requests>=2.3.0->update-checker>=0.18->praw) (3.0.4)\n"
          ],
          "name": "stdout"
        }
      ]
    },
    {
      "cell_type": "markdown",
      "metadata": {
        "id": "OQvRuY5HMuDa"
      },
      "source": [
        "# *Import praw*"
      ]
    },
    {
      "cell_type": "code",
      "metadata": {
        "id": "7C6MkHmEIhRJ",
        "colab": {
          "base_uri": "https://localhost:8080/"
        },
        "outputId": "b5b3d438-417d-4443-e79b-06444b7cd102"
      },
      "source": [
        "import praw\n",
        "import nltk\n",
        "from nltk.sentiment.vader import SentimentIntensityAnalyzer\n",
        "from collections import Counter\n",
        "import pprint\n",
        "nltk.download('vader_lexicon')"
      ],
      "execution_count": null,
      "outputs": [
        {
          "output_type": "stream",
          "text": [
            "[nltk_data] Downloading package vader_lexicon to /root/nltk_data...\n",
            "[nltk_data]   Package vader_lexicon is already up-to-date!\n"
          ],
          "name": "stdout"
        },
        {
          "output_type": "stream",
          "text": [
            "/usr/local/lib/python3.6/dist-packages/nltk/twitter/__init__.py:20: UserWarning: The twython library has not been installed. Some functionality from the twitter package will not be available.\n",
            "  warnings.warn(\"The twython library has not been installed. \"\n"
          ],
          "name": "stderr"
        },
        {
          "output_type": "execute_result",
          "data": {
            "text/plain": [
              "True"
            ]
          },
          "metadata": {
            "tags": []
          },
          "execution_count": 2
        }
      ]
    },
    {
      "cell_type": "markdown",
      "metadata": {
        "id": "flLa69gvNS2C"
      },
      "source": [
        "# *Open source follow below link to get your client id,secret key,user_agent*\n",
        "1.   visit https://gilberttanner.com/blog/scraping-redditdata \n",
        "\n",
        "2.   get your client id,client secret,user_agent and back to below code."
      ]
    },
    {
      "cell_type": "code",
      "metadata": {
        "id": "arYEWSJPIiu9"
      },
      "source": [
        "reddit = praw.Reddit(client_id='G_iHfGndqC3Nyw', client_secret='PgocTUf1AZQf9-N1q1uwByHxC1CSrg', user_agent='benchen',check_for_async=False)"
      ],
      "execution_count": null,
      "outputs": []
    },
    {
      "cell_type": "markdown",
      "metadata": {
        "id": "L_ZBD2gkNlT8"
      },
      "source": [
        "#  *Goes into desired subreddit post and extract comments*\n",
        "\n"
      ]
    },
    {
      "cell_type": "code",
      "metadata": {
        "colab": {
          "base_uri": "https://localhost:8080/"
        },
        "id": "ZfB16vehbDHp",
        "outputId": "2ac93e44-097f-40a3-a5db-30ca450675e4"
      },
      "source": [
        "#documention for API: https://praw.readthedocs.io/en/latest/tutorials/comments.html\n",
        "\n",
        "hot_post_comments = []                                        #This posts extracts the replies and \"more comments\"\n",
        "hot_posts = reddit.subreddit('wallstreetbets').hot(limit=5)   #You decide which subreddit\n",
        "\n",
        "#First forloop - to go through the posts\n",
        "  #not sticked (so ignore the pinned by moderator)\n",
        "  #.replace_more : expand reply comment\n",
        "#Second loop go through comments\n",
        "for post in hot_posts:\n",
        "  if not post.stickied:\n",
        "    print(\"this is your post:\" +str(post.title))\n",
        "    post.comments.replace_more(limit=None)\n",
        "\n",
        "    for comment in post.comments.list():\n",
        "      # if hasattr(comment, \"body\"):\n",
        "        hot_post_comments.append(comment.body)"
      ],
      "execution_count": null,
      "outputs": [
        {
          "output_type": "stream",
          "text": [
            "this is your post:What a lovely day!\n",
            "this is your post:Happy Valentines Day\n",
            "this is your post:Can anyone guess when I discovered options trading?\n",
            "this is your post:Soon may the tendie man cone\n"
          ],
          "name": "stdout"
        }
      ]
    },
    {
      "cell_type": "code",
      "metadata": {
        "id": "79-kwKcSMmrq",
        "colab": {
          "base_uri": "https://localhost:8080/"
        },
        "outputId": "8d48deb7-86e2-4819-c415-96a15e638ebd"
      },
      "source": [
        "#Verify length\n",
        "len(hot_post_comments)"
      ],
      "execution_count": null,
      "outputs": [
        {
          "output_type": "execute_result",
          "data": {
            "text/plain": [
              "2801"
            ]
          },
          "metadata": {
            "tags": []
          },
          "execution_count": 119
        }
      ]
    },
    {
      "cell_type": "code",
      "metadata": {
        "id": "hFDM2LG0PhCM"
      },
      "source": [
        "hot_post_comments"
      ],
      "execution_count": null,
      "outputs": []
    },
    {
      "cell_type": "markdown",
      "metadata": {
        "id": "q3pzKXK5OVyp"
      },
      "source": [
        "# *Make list of ticker*"
      ]
    },
    {
      "cell_type": "code",
      "metadata": {
        "id": "T7CTonmLL2xz",
        "colab": {
          "resources": {
            "http://localhost:8080/nbextensions/google.colab/files.js": {
              "data": "Ly8gQ29weXJpZ2h0IDIwMTcgR29vZ2xlIExMQwovLwovLyBMaWNlbnNlZCB1bmRlciB0aGUgQXBhY2hlIExpY2Vuc2UsIFZlcnNpb24gMi4wICh0aGUgIkxpY2Vuc2UiKTsKLy8geW91IG1heSBub3QgdXNlIHRoaXMgZmlsZSBleGNlcHQgaW4gY29tcGxpYW5jZSB3aXRoIHRoZSBMaWNlbnNlLgovLyBZb3UgbWF5IG9idGFpbiBhIGNvcHkgb2YgdGhlIExpY2Vuc2UgYXQKLy8KLy8gICAgICBodHRwOi8vd3d3LmFwYWNoZS5vcmcvbGljZW5zZXMvTElDRU5TRS0yLjAKLy8KLy8gVW5sZXNzIHJlcXVpcmVkIGJ5IGFwcGxpY2FibGUgbGF3IG9yIGFncmVlZCB0byBpbiB3cml0aW5nLCBzb2Z0d2FyZQovLyBkaXN0cmlidXRlZCB1bmRlciB0aGUgTGljZW5zZSBpcyBkaXN0cmlidXRlZCBvbiBhbiAiQVMgSVMiIEJBU0lTLAovLyBXSVRIT1VUIFdBUlJBTlRJRVMgT1IgQ09ORElUSU9OUyBPRiBBTlkgS0lORCwgZWl0aGVyIGV4cHJlc3Mgb3IgaW1wbGllZC4KLy8gU2VlIHRoZSBMaWNlbnNlIGZvciB0aGUgc3BlY2lmaWMgbGFuZ3VhZ2UgZ292ZXJuaW5nIHBlcm1pc3Npb25zIGFuZAovLyBsaW1pdGF0aW9ucyB1bmRlciB0aGUgTGljZW5zZS4KCi8qKgogKiBAZmlsZW92ZXJ2aWV3IEhlbHBlcnMgZm9yIGdvb2dsZS5jb2xhYiBQeXRob24gbW9kdWxlLgogKi8KKGZ1bmN0aW9uKHNjb3BlKSB7CmZ1bmN0aW9uIHNwYW4odGV4dCwgc3R5bGVBdHRyaWJ1dGVzID0ge30pIHsKICBjb25zdCBlbGVtZW50ID0gZG9jdW1lbnQuY3JlYXRlRWxlbWVudCgnc3BhbicpOwogIGVsZW1lbnQudGV4dENvbnRlbnQgPSB0ZXh0OwogIGZvciAoY29uc3Qga2V5IG9mIE9iamVjdC5rZXlzKHN0eWxlQXR0cmlidXRlcykpIHsKICAgIGVsZW1lbnQuc3R5bGVba2V5XSA9IHN0eWxlQXR0cmlidXRlc1trZXldOwogIH0KICByZXR1cm4gZWxlbWVudDsKfQoKLy8gTWF4IG51bWJlciBvZiBieXRlcyB3aGljaCB3aWxsIGJlIHVwbG9hZGVkIGF0IGEgdGltZS4KY29uc3QgTUFYX1BBWUxPQURfU0laRSA9IDEwMCAqIDEwMjQ7CgpmdW5jdGlvbiBfdXBsb2FkRmlsZXMoaW5wdXRJZCwgb3V0cHV0SWQpIHsKICBjb25zdCBzdGVwcyA9IHVwbG9hZEZpbGVzU3RlcChpbnB1dElkLCBvdXRwdXRJZCk7CiAgY29uc3Qgb3V0cHV0RWxlbWVudCA9IGRvY3VtZW50LmdldEVsZW1lbnRCeUlkKG91dHB1dElkKTsKICAvLyBDYWNoZSBzdGVwcyBvbiB0aGUgb3V0cHV0RWxlbWVudCB0byBtYWtlIGl0IGF2YWlsYWJsZSBmb3IgdGhlIG5leHQgY2FsbAogIC8vIHRvIHVwbG9hZEZpbGVzQ29udGludWUgZnJvbSBQeXRob24uCiAgb3V0cHV0RWxlbWVudC5zdGVwcyA9IHN0ZXBzOwoKICByZXR1cm4gX3VwbG9hZEZpbGVzQ29udGludWUob3V0cHV0SWQpOwp9CgovLyBUaGlzIGlzIHJvdWdobHkgYW4gYXN5bmMgZ2VuZXJhdG9yIChub3Qgc3VwcG9ydGVkIGluIHRoZSBicm93c2VyIHlldCksCi8vIHdoZXJlIHRoZXJlIGFyZSBtdWx0aXBsZSBhc3luY2hyb25vdXMgc3RlcHMgYW5kIHRoZSBQeXRob24gc2lkZSBpcyBnb2luZwovLyB0byBwb2xsIGZvciBjb21wbGV0aW9uIG9mIGVhY2ggc3RlcC4KLy8gVGhpcyB1c2VzIGEgUHJvbWlzZSB0byBibG9jayB0aGUgcHl0aG9uIHNpZGUgb24gY29tcGxldGlvbiBvZiBlYWNoIHN0ZXAsCi8vIHRoZW4gcGFzc2VzIHRoZSByZXN1bHQgb2YgdGhlIHByZXZpb3VzIHN0ZXAgYXMgdGhlIGlucHV0IHRvIHRoZSBuZXh0IHN0ZXAuCmZ1bmN0aW9uIF91cGxvYWRGaWxlc0NvbnRpbnVlKG91dHB1dElkKSB7CiAgY29uc3Qgb3V0cHV0RWxlbWVudCA9IGRvY3VtZW50LmdldEVsZW1lbnRCeUlkKG91dHB1dElkKTsKICBjb25zdCBzdGVwcyA9IG91dHB1dEVsZW1lbnQuc3RlcHM7CgogIGNvbnN0IG5leHQgPSBzdGVwcy5uZXh0KG91dHB1dEVsZW1lbnQubGFzdFByb21pc2VWYWx1ZSk7CiAgcmV0dXJuIFByb21pc2UucmVzb2x2ZShuZXh0LnZhbHVlLnByb21pc2UpLnRoZW4oKHZhbHVlKSA9PiB7CiAgICAvLyBDYWNoZSB0aGUgbGFzdCBwcm9taXNlIHZhbHVlIHRvIG1ha2UgaXQgYXZhaWxhYmxlIHRvIHRoZSBuZXh0CiAgICAvLyBzdGVwIG9mIHRoZSBnZW5lcmF0b3IuCiAgICBvdXRwdXRFbGVtZW50Lmxhc3RQcm9taXNlVmFsdWUgPSB2YWx1ZTsKICAgIHJldHVybiBuZXh0LnZhbHVlLnJlc3BvbnNlOwogIH0pOwp9CgovKioKICogR2VuZXJhdG9yIGZ1bmN0aW9uIHdoaWNoIGlzIGNhbGxlZCBiZXR3ZWVuIGVhY2ggYXN5bmMgc3RlcCBvZiB0aGUgdXBsb2FkCiAqIHByb2Nlc3MuCiAqIEBwYXJhbSB7c3RyaW5nfSBpbnB1dElkIEVsZW1lbnQgSUQgb2YgdGhlIGlucHV0IGZpbGUgcGlja2VyIGVsZW1lbnQuCiAqIEBwYXJhbSB7c3RyaW5nfSBvdXRwdXRJZCBFbGVtZW50IElEIG9mIHRoZSBvdXRwdXQgZGlzcGxheS4KICogQHJldHVybiB7IUl0ZXJhYmxlPCFPYmplY3Q+fSBJdGVyYWJsZSBvZiBuZXh0IHN0ZXBzLgogKi8KZnVuY3Rpb24qIHVwbG9hZEZpbGVzU3RlcChpbnB1dElkLCBvdXRwdXRJZCkgewogIGNvbnN0IGlucHV0RWxlbWVudCA9IGRvY3VtZW50LmdldEVsZW1lbnRCeUlkKGlucHV0SWQpOwogIGlucHV0RWxlbWVudC5kaXNhYmxlZCA9IGZhbHNlOwoKICBjb25zdCBvdXRwdXRFbGVtZW50ID0gZG9jdW1lbnQuZ2V0RWxlbWVudEJ5SWQob3V0cHV0SWQpOwogIG91dHB1dEVsZW1lbnQuaW5uZXJIVE1MID0gJyc7CgogIGNvbnN0IHBpY2tlZFByb21pc2UgPSBuZXcgUHJvbWlzZSgocmVzb2x2ZSkgPT4gewogICAgaW5wdXRFbGVtZW50LmFkZEV2ZW50TGlzdGVuZXIoJ2NoYW5nZScsIChlKSA9PiB7CiAgICAgIHJlc29sdmUoZS50YXJnZXQuZmlsZXMpOwogICAgfSk7CiAgfSk7CgogIGNvbnN0IGNhbmNlbCA9IGRvY3VtZW50LmNyZWF0ZUVsZW1lbnQoJ2J1dHRvbicpOwogIGlucHV0RWxlbWVudC5wYXJlbnRFbGVtZW50LmFwcGVuZENoaWxkKGNhbmNlbCk7CiAgY2FuY2VsLnRleHRDb250ZW50ID0gJ0NhbmNlbCB1cGxvYWQnOwogIGNvbnN0IGNhbmNlbFByb21pc2UgPSBuZXcgUHJvbWlzZSgocmVzb2x2ZSkgPT4gewogICAgY2FuY2VsLm9uY2xpY2sgPSAoKSA9PiB7CiAgICAgIHJlc29sdmUobnVsbCk7CiAgICB9OwogIH0pOwoKICAvLyBXYWl0IGZvciB0aGUgdXNlciB0byBwaWNrIHRoZSBmaWxlcy4KICBjb25zdCBmaWxlcyA9IHlpZWxkIHsKICAgIHByb21pc2U6IFByb21pc2UucmFjZShbcGlja2VkUHJvbWlzZSwgY2FuY2VsUHJvbWlzZV0pLAogICAgcmVzcG9uc2U6IHsKICAgICAgYWN0aW9uOiAnc3RhcnRpbmcnLAogICAgfQogIH07CgogIGNhbmNlbC5yZW1vdmUoKTsKCiAgLy8gRGlzYWJsZSB0aGUgaW5wdXQgZWxlbWVudCBzaW5jZSBmdXJ0aGVyIHBpY2tzIGFyZSBub3QgYWxsb3dlZC4KICBpbnB1dEVsZW1lbnQuZGlzYWJsZWQgPSB0cnVlOwoKICBpZiAoIWZpbGVzKSB7CiAgICByZXR1cm4gewogICAgICByZXNwb25zZTogewogICAgICAgIGFjdGlvbjogJ2NvbXBsZXRlJywKICAgICAgfQogICAgfTsKICB9CgogIGZvciAoY29uc3QgZmlsZSBvZiBmaWxlcykgewogICAgY29uc3QgbGkgPSBkb2N1bWVudC5jcmVhdGVFbGVtZW50KCdsaScpOwogICAgbGkuYXBwZW5kKHNwYW4oZmlsZS5uYW1lLCB7Zm9udFdlaWdodDogJ2JvbGQnfSkpOwogICAgbGkuYXBwZW5kKHNwYW4oCiAgICAgICAgYCgke2ZpbGUudHlwZSB8fCAnbi9hJ30pIC0gJHtmaWxlLnNpemV9IGJ5dGVzLCBgICsKICAgICAgICBgbGFzdCBtb2RpZmllZDogJHsKICAgICAgICAgICAgZmlsZS5sYXN0TW9kaWZpZWREYXRlID8gZmlsZS5sYXN0TW9kaWZpZWREYXRlLnRvTG9jYWxlRGF0ZVN0cmluZygpIDoKICAgICAgICAgICAgICAgICAgICAgICAgICAgICAgICAgICAgJ24vYSd9IC0gYCkpOwogICAgY29uc3QgcGVyY2VudCA9IHNwYW4oJzAlIGRvbmUnKTsKICAgIGxpLmFwcGVuZENoaWxkKHBlcmNlbnQpOwoKICAgIG91dHB1dEVsZW1lbnQuYXBwZW5kQ2hpbGQobGkpOwoKICAgIGNvbnN0IGZpbGVEYXRhUHJvbWlzZSA9IG5ldyBQcm9taXNlKChyZXNvbHZlKSA9PiB7CiAgICAgIGNvbnN0IHJlYWRlciA9IG5ldyBGaWxlUmVhZGVyKCk7CiAgICAgIHJlYWRlci5vbmxvYWQgPSAoZSkgPT4gewogICAgICAgIHJlc29sdmUoZS50YXJnZXQucmVzdWx0KTsKICAgICAgfTsKICAgICAgcmVhZGVyLnJlYWRBc0FycmF5QnVmZmVyKGZpbGUpOwogICAgfSk7CiAgICAvLyBXYWl0IGZvciB0aGUgZGF0YSB0byBiZSByZWFkeS4KICAgIGxldCBmaWxlRGF0YSA9IHlpZWxkIHsKICAgICAgcHJvbWlzZTogZmlsZURhdGFQcm9taXNlLAogICAgICByZXNwb25zZTogewogICAgICAgIGFjdGlvbjogJ2NvbnRpbnVlJywKICAgICAgfQogICAgfTsKCiAgICAvLyBVc2UgYSBjaHVua2VkIHNlbmRpbmcgdG8gYXZvaWQgbWVzc2FnZSBzaXplIGxpbWl0cy4gU2VlIGIvNjIxMTU2NjAuCiAgICBsZXQgcG9zaXRpb24gPSAwOwogICAgd2hpbGUgKHBvc2l0aW9uIDwgZmlsZURhdGEuYnl0ZUxlbmd0aCkgewogICAgICBjb25zdCBsZW5ndGggPSBNYXRoLm1pbihmaWxlRGF0YS5ieXRlTGVuZ3RoIC0gcG9zaXRpb24sIE1BWF9QQVlMT0FEX1NJWkUpOwogICAgICBjb25zdCBjaHVuayA9IG5ldyBVaW50OEFycmF5KGZpbGVEYXRhLCBwb3NpdGlvbiwgbGVuZ3RoKTsKICAgICAgcG9zaXRpb24gKz0gbGVuZ3RoOwoKICAgICAgY29uc3QgYmFzZTY0ID0gYnRvYShTdHJpbmcuZnJvbUNoYXJDb2RlLmFwcGx5KG51bGwsIGNodW5rKSk7CiAgICAgIHlpZWxkIHsKICAgICAgICByZXNwb25zZTogewogICAgICAgICAgYWN0aW9uOiAnYXBwZW5kJywKICAgICAgICAgIGZpbGU6IGZpbGUubmFtZSwKICAgICAgICAgIGRhdGE6IGJhc2U2NCwKICAgICAgICB9LAogICAgICB9OwogICAgICBwZXJjZW50LnRleHRDb250ZW50ID0KICAgICAgICAgIGAke01hdGgucm91bmQoKHBvc2l0aW9uIC8gZmlsZURhdGEuYnl0ZUxlbmd0aCkgKiAxMDApfSUgZG9uZWA7CiAgICB9CiAgfQoKICAvLyBBbGwgZG9uZS4KICB5aWVsZCB7CiAgICByZXNwb25zZTogewogICAgICBhY3Rpb246ICdjb21wbGV0ZScsCiAgICB9CiAgfTsKfQoKc2NvcGUuZ29vZ2xlID0gc2NvcGUuZ29vZ2xlIHx8IHt9OwpzY29wZS5nb29nbGUuY29sYWIgPSBzY29wZS5nb29nbGUuY29sYWIgfHwge307CnNjb3BlLmdvb2dsZS5jb2xhYi5fZmlsZXMgPSB7CiAgX3VwbG9hZEZpbGVzLAogIF91cGxvYWRGaWxlc0NvbnRpbnVlLAp9Owp9KShzZWxmKTsK",
              "ok": true,
              "headers": [
                [
                  "content-type",
                  "application/javascript"
                ]
              ],
              "status": 200,
              "status_text": ""
            }
          },
          "base_uri": "https://localhost:8080/",
          "height": 90
        },
        "outputId": "18108037-10f2-4f74-90ac-c3f0f56bf770"
      },
      "source": [
        "#list of tickers\n",
        "#you have to download all 3: NYSE, NASDAQ, AMEX and merge all the ticker symbol\n",
        "#this was done manually through excel (for ease of sake)\n",
        "# https://www.nasdaq.com/market-activity/stocks/screener?exchange=NASDAQ&render=download\n",
        "import pandas as pd\n",
        "from google.colab import files\n",
        "\n",
        "uploaded = files.upload()\n",
        "filename = next(iter(uploaded))\n",
        "type(filename)"
      ],
      "execution_count": null,
      "outputs": [
        {
          "output_type": "display_data",
          "data": {
            "text/html": [
              "\n",
              "     <input type=\"file\" id=\"files-f3e54e87-2c98-4939-9c3b-8c91f0dc7dbb\" name=\"files[]\" multiple disabled\n",
              "        style=\"border:none\" />\n",
              "     <output id=\"result-f3e54e87-2c98-4939-9c3b-8c91f0dc7dbb\">\n",
              "      Upload widget is only available when the cell has been executed in the\n",
              "      current browser session. Please rerun this cell to enable.\n",
              "      </output>\n",
              "      <script src=\"/nbextensions/google.colab/files.js\"></script> "
            ],
            "text/plain": [
              "<IPython.core.display.HTML object>"
            ]
          },
          "metadata": {
            "tags": []
          }
        },
        {
          "output_type": "stream",
          "text": [
            "Saving nasdaq_screener final version - nasdaq_screener_1611638403833 (1).csv to nasdaq_screener final version - nasdaq_screener_1611638403833 (1) (1).csv\n"
          ],
          "name": "stdout"
        },
        {
          "output_type": "execute_result",
          "data": {
            "text/plain": [
              "str"
            ]
          },
          "metadata": {
            "tags": []
          },
          "execution_count": 8
        }
      ]
    },
    {
      "cell_type": "code",
      "metadata": {
        "id": "IcZOjeqVuYR7"
      },
      "source": [
        "import io\n",
        "df2 = pd.read_csv(io.BytesIO(uploaded[filename]))"
      ],
      "execution_count": null,
      "outputs": []
    },
    {
      "cell_type": "code",
      "metadata": {
        "id": "5mHOEtN_lZNt",
        "colab": {
          "base_uri": "https://localhost:8080/"
        },
        "outputId": "c22c6bea-f0a1-46bd-cf89-a82362dbaf5e"
      },
      "source": [
        "df2['Symbol']"
      ],
      "execution_count": null,
      "outputs": [
        {
          "output_type": "execute_result",
          "data": {
            "text/plain": [
              "0        AACG\n",
              "1        AACQ\n",
              "2       AACQU\n",
              "3       AACQW\n",
              "4         AAL\n",
              "        ...  \n",
              "7243      ZTO\n",
              "7244      ZTR\n",
              "7245      ZTS\n",
              "7246      ZUO\n",
              "7247     ZYME\n",
              "Name: Symbol, Length: 7248, dtype: object"
            ]
          },
          "metadata": {
            "tags": []
          },
          "execution_count": 40
        }
      ]
    },
    {
      "cell_type": "code",
      "metadata": {
        "id": "Pa_JsBh1la9E",
        "colab": {
          "base_uri": "https://localhost:8080/"
        },
        "outputId": "9157a8d6-62e2-4521-99dc-a5da194e42f8"
      },
      "source": [
        "products_list = df2['Symbol'].values.tolist()\n",
        "print(products_list)"
      ],
      "execution_count": null,
      "outputs": [
        {
          "output_type": "stream",
          "text": [
            "['AACG', 'AACQ', 'AACQU', 'AACQW', 'AAL', 'AAME', 'AAOI', 'AAON', 'AAPL', 'AAWW', 'AAXN', 'ABCB', 'ABCL', 'ABCM', 'ABEO', 'ABIO', 'ABMD', 'ABNB', 'ABST', 'ABTX', 'ABUS', 'ACAC', 'ACACU', 'ACACW', 'ACAD', 'ACBI', 'ACCD', 'ACER', 'ACET', 'ACEV', 'ACEVU', 'ACEVW', 'ACGL', 'ACGLO', 'ACGLP', 'ACHC', 'ACHV', 'ACIA', 'ACIU', 'ACIW', 'ACKIU', 'ACLS', 'ACMR', 'ACNB', 'ACOR', 'ACRS', 'ACRX', 'ACST', 'ACTC', 'ACTCU', 'ACTCW', 'ACTG', 'ADAP', 'ADBE', 'ADERU', 'ADES', 'ADI', 'ADIL', 'ADILW', 'ADMA', 'ADMP', 'ADMS', 'ADOC', 'ADOCR', 'ADOCW', 'ADP', 'ADPT', 'ADSK', 'ADTN', 'ADTX', 'ADUS', 'ADV', 'ADVM', 'ADVWW', 'ADXN', 'ADXS', 'AEACU', 'AEGN', 'AEHL', 'AEHR', 'AEIS', 'AEMD', 'AEP', 'AEPPL', 'AEPPZ', 'AERI', 'AESE', 'AEY', 'AEYE', 'AEZS', 'AFBI', 'AFIB', 'AFIN', 'AFINO', 'AFINP', 'AFMD', 'AFRM', 'AFYA', 'AGBA', 'AGBAR', 'AGBAU', 'AGBAW', 'AGC', 'AGCUU', 'AGCWW', 'AGEN', 'AGFS', 'AGFY', 'AGIO', 'AGLE', 'AGMH', 'AGNC', 'AGNCM', 'AGNCN', 'AGNCO', 'AGNCP', 'AGRX', 'AGTC', 'AGYS', 'AHAC', 'AHACU', 'AHACW', 'AHCO', 'AHPI', 'AIH', 'AIHS', 'AIKI', 'AIMC', 'AINV', 'AIRG', 'AIRT', 'AIRTP', 'AIRTW', 'AKAM', 'AKBA', 'AKER', 'AKICU', 'AKRO', 'AKTS', 'AKTX', 'AKU', 'AKUS', 'ALAC', 'ALACR', 'ALACU', 'ALACW', 'ALBO', 'ALCO', 'ALDX', 'ALEC', 'ALGM', 'ALGN', 'ALGS', 'ALGT', 'ALIM', 'ALJJ', 'ALKS', 'ALLK', 'ALLO', 'ALLT', 'ALNA', 'ALNY', 'ALOT', 'ALPN', 'ALRM', 'ALRN', 'ALRS', 'ALSK', 'ALT', 'ALTA', 'ALTM', 'ALTR', 'ALTUU', 'ALVR', 'ALXN', 'ALXO', 'ALYA', 'AMAL', 'AMAT', 'AMBA', 'AMCI', 'AMCIU', 'AMCIW', 'AMCX', 'AMD', 'AMED', 'AMEH', 'AMGN', 'AMHC', 'AMHCU', 'AMHCW', 'AMKR', 'AMNB', 'AMOT', 'AMPH', 'AMRB', 'AMRK', 'AMRN', 'AMRS', 'AMSC', 'AMSF', 'AMST', 'AMSWA', 'AMTB', 'AMTBB', 'AMTI', 'AMTX', 'AMWD', 'AMYT', 'AMZN', 'ANAB', 'ANAT', 'ANCN', 'ANDA', 'ANDAR', 'ANDAU', 'ANDAW', 'ANDE', 'ANGI', 'ANGO', 'ANIK', 'ANIP', 'ANIX', 'ANNX', 'ANPC', 'ANSS', 'ANTE', 'ANY', 'AOSL', 'AOUT', 'APA', 'APDN', 'APEI', 'APEN', 'APHA', 'API', 'APLS', 'APLT', 'APM', 'APOG', 'APOP', 'APOPW', 'APPF', 'APPN', 'APPS', 'APRE', 'APTO', 'APTX', 'APVO', 'APWC', 'APXT', 'APXTU', 'APXTW', 'APYX', 'AQB', 'AQMS', 'AQST', 'ARAV', 'ARAY', 'ARBG', 'ARBGU', 'ARBGW', 'ARCB', 'ARCC', 'ARCE', 'ARCT', 'ARDS', 'ARDX', 'AREC', 'ARGX', 'ARKO', 'ARKOW', 'ARKR', 'ARLP', 'ARNA', 'AROW', 'ARPO', 'ARQT', 'ARRY', 'ARTL', 'ARTLW', 'ARTNA', 'ARTW', 'ARVN', 'ARWR', 'ARYA', 'ASLE', 'ASLEW', 'ASLN', 'ASMB', 'ASML', 'ASND', 'ASO', 'ASPS', 'ASPU', 'ASRT', 'ASRV', 'ASRVP', 'ASTC', 'ASTE', 'ASUR', 'ASYS', 'ATAX', 'ATCX', 'ATEC', 'ATEX', 'ATHA', 'ATHE', 'ATHX', 'ATIF', 'ATLC', 'ATLO', 'ATNF', 'ATNFW', 'ATNI', 'ATNX', 'ATOM', 'ATOS', 'ATRA', 'ATRC', 'ATRI', 'ATRO', 'ATRS', 'ATSG', 'ATVI', 'ATXI', 'AUB', 'AUBAP', 'AUBN', 'AUDC', 'AUPH', 'AUTL', 'AUTO', 'AUUD', 'AUUDW', 'AUVI', 'AVAV', 'AVCO', 'AVCT', 'AVCTW', 'AVDL', 'AVEO', 'AVGO', 'AVGOP', 'AVGR', 'AVID', 'AVIR', 'AVNW', 'AVO', 'AVRO', 'AVT', 'AVXL', 'AWH', 'AWRE', 'AXAS', 'AXDX', 'AXGN', 'AXLA', 'AXNX', 'AXSM', 'AXTI', 'AY', 'AYLA', 'AYRO', 'AYTU', 'AYTUP', 'AZN', 'AZPN', 'AZRX', 'AZYO', 'BAND', 'BANF', 'BANFP', 'BANR', 'BANX', 'BASI', 'BATRA', 'BATRK', 'BBBY', 'BBCP', 'BBGI', 'BBI', 'BBIG', 'BBIO', 'BBQ', 'BBSI', 'BCAB', 'BCAC', 'BCACU', 'BCACW', 'BCBP', 'BCDA', 'BCDAW', 'BCEL', 'BCLI', 'BCML', 'BCOR', 'BCOV', 'BCOW', 'BCPC', 'BCRX', 'BCTG', 'BCTX', 'BCTXW', 'BCYC', 'BCYPU', 'BDGE', 'BDSI', 'BDSX', 'BDTX', 'BEAM', 'BEAT', 'BECN', 'BEEM', 'BEEMW', 'BELFA', 'BELFB', 'BENEU', 'BFC', 'BFI', 'BFIIW', 'BFIN', 'BFRA', 'BFST', 'BGCP', 'BGFV', 'BGNE', 'BHAT', 'BHF', 'BHFAL', 'BHFAN', 'BHFAO', 'BHFAP', 'BHSE', 'BHSEU', 'BHSEW', 'BHTG', 'BIDU', 'BIGC', 'BIIB', 'BILI', 'BIMI', 'BIOC', 'BIOL', 'BIOT', 'BIOTU', 'BIOTW', 'BIVI', 'BJRI', 'BKCC', 'BKEP', 'BKEPP', 'BKNG', 'BKSC', 'BKYI', 'BL', 'BLBD', 'BLCM', 'BLCT', 'BLDP', 'BLDR', 'BLFS', 'BLI', 'BLIN', 'BLKB', 'BLMN', 'BLNK', 'BLNKW', 'BLPH', 'BLRX', 'BLSA', 'BLTSU', 'BLU', 'BLUE', 'BLUWU', 'BMRA', 'BMRC', 'BMRN', 'BMTC', 'BNFT', 'BNGO', 'BNGOW', 'BNR', 'BNSO', 'BNTC', 'BNTX', 'BOCH', 'BOKF', 'BOKFL', 'BOMN', 'BOOM', 'BOSC', 'BOTJ', 'BOWX', 'BOWXU', 'BOWXW', 'BOXL', 'BPFH', 'BPMC', 'BPOP', 'BPOPM', 'BPOPN', 'BPRN', 'BPTH', 'BPY', 'BPYPN', 'BPYPO', 'BPYPP', 'BPYU', 'BPYUP', 'BREZ', 'BREZR', 'BREZW', 'BRID', 'BRKL', 'BRKR', 'BRKS', 'BRLI', 'BRLIR', 'BRLIU', 'BRLIW', 'BROG', 'BROGW', 'BRP', 'BRPA', 'BRPAR', 'BRPAU', 'BRPAW', 'BRQS', 'BRY', 'BSBK', 'BSET', 'BSGM', 'BSQR', 'BSRR', 'BSVN', 'BSY', 'BTAI', 'BTAQ', 'BTAQU', 'BTAQW', 'BTBT', 'BTNB', 'BTNBU', 'BTNBW', 'BTRS', 'BTRSW', 'BTWN', 'BTWNU', 'BTWNW', 'BUSE', 'BVXV', 'BWAC', 'BWACU', 'BWACW', 'BWAY', 'BWB', 'BWEN', 'BWFG', 'BWMX', 'BXRX', 'BYFC', 'BYND', 'BYSI', 'BZUN', 'CAAS', 'CABA', 'CAC', 'CACC', 'CAKE', 'CALA', 'CALB', 'CALM', 'CALT', 'CAMP', 'CAMT', 'CAN', 'CAPA', 'CAPAU', 'CAPAW', 'CAPR', 'CAR', 'CARA', 'CARE', 'CARG', 'CARV', 'CASA', 'CASH', 'CASI', 'CASS', 'CASY', 'CATB', 'CATC', 'CATM', 'CATY', 'CBAN', 'CBAT', 'CBAY', 'CBFV', 'CBIO', 'CBLI', 'CBMB', 'CBMG', 'CBNK', 'CBPO', 'CBRL', 'CBSH', 'CBTX', 'CCAP', 'CCB', 'CCBG', 'CCCC', 'CCD', 'CCLP', 'CCMP', 'CCNC', 'CCNE', 'CCNEP', 'CCOI', 'CCRC', 'CCRN', 'CCXI', 'CD', 'CDAK', 'CDEV', 'CDK', 'CDLX', 'CDMO', 'CDMOP', 'CDNA', 'CDNS', 'CDTX', 'CDW', 'CDXC', 'CDXS', 'CDZI', 'CECE', 'CELC', 'CELH', 'CEMI', 'CENT', 'CENTA', 'CENX', 'CERC', 'CERE', 'CEREW', 'CERN', 'CERS', 'CERT', 'CETX', 'CETXP', 'CETXW', 'CEVA', 'CFAC', 'CFACU', 'CFACW', 'CFB', 'CFBK', 'CFFI', 'CFFN', 'CFFVU', 'CFFVW', 'CFII', 'CFIIU', 'CFIIW', 'CFIVU', 'CFMS', 'CFRX', 'CFV', 'CG', 'CGBD', 'CGC', 'CGEM', 'CGEN', 'CGIX', 'CGNTV', 'CGNX', 'CGO', 'CGRO', 'CGROU', 'CGROW', 'CHCI', 'CHCO', 'CHDN', 'CHEF', 'CHEK', 'CHEKZ', 'CHFS', 'CHI', 'CHKP', 'CHMA', 'CHMG', 'CHNG', 'CHNGU', 'CHNR', 'CHPM', 'CHPMU', 'CHPMW', 'CHRS', 'CHRW', 'CHSCL', 'CHSCM', 'CHSCN', 'CHSCO', 'CHSCP', 'CHTR', 'CHUY', 'CHW', 'CHX', 'CHY', 'CIDM', 'CIGI', 'CIH', 'CIIC', 'CIICU', 'CIICW', 'CINF', 'CIVB', 'CIZN', 'CJJD', 'CKPT', 'CLAR', 'CLBK', 'CLBS', 'CLCT', 'CLDB', 'CLDX', 'CLEU', 'CLFD', 'CLGN', 'CLIR', 'CLLS', 'CLMT', 'CLNE', 'CLNN', 'CLNNW', 'CLOV', 'CLOVW', 'CLPS', 'CLPT', 'CLRB', 'CLRBZ', 'CLRO', 'CLSD', 'CLSK', 'CLSN', 'CLVR', 'CLVRW', 'CLVS', 'CLWT', 'CLXT', 'CMBM', 'CMCO', 'CMCSA', 'CMCT', 'CMCTP', 'CME', 'CMFNL', 'CMLF', 'CMLFU', 'CMLFW', 'CMLS', 'CMPI', 'CMPR', 'CMPS', 'CMRX', 'CMTL', 'CNBKA', 'CNCE', 'CNDT', 'CNET', 'CNFR', 'CNFRL', 'CNNB', 'CNOB', 'CNSL', 'CNSP', 'CNST', 'CNTG', 'CNTY', 'CNXC', 'CNXN', 'COCP', 'CODA', 'CODX', 'COFS', 'COGT', 'COHR', 'COHU', 'COKE', 'COLB', 'COLL', 'COLM', 'COMM', 'COMS', 'COMSW', 'CONE', 'CONN', 'CONX', 'CONXU', 'CONXW', 'COOLU', 'COOP', 'CORE', 'CORT', 'COST', 'COUP', 'COWN', 'COWNL', 'COWNZ', 'CPAH', 'CPHC', 'CPIX', 'CPLP', 'CPRT', 'CPRX', 'CPSH', 'CPSI', 'CPSS', 'CPST', 'CPTA', 'CPTAG', 'CPTAL', 'CPZ', 'CRAI', 'CRBP', 'CRDF', 'CREE', 'CREG', 'CRESY', 'CREX', 'CREXW', 'CRIS', 'CRKN', 'CRMT', 'CRNC', 'CRNT', 'CRNX', 'CRON', 'CROX', 'CRSA', 'CRSAU', 'CRSAW', 'CRSP', 'CRSR', 'CRTD', 'CRTDW', 'CRTO', 'CRTX', 'CRUS', 'CRVL', 'CRVS', 'CRWD', 'CRWS', 'CSBR', 'CSCO', 'CSCW', 'CSGP', 'CSGS', 'CSII', 'CSIQ', 'CSOD', 'CSPI', 'CSQ', 'CSSE', 'CSSEN', 'CSSEP', 'CSTE', 'CSTL', 'CSTR', 'CSWC', 'CSWI', 'CSX', 'CTAQU', 'CTAS', 'CTBI', 'CTG', 'CTHR', 'CTIB', 'CTIC', 'CTMX', 'CTRE', 'CTRM', 'CTRN', 'CTSH', 'CTSO', 'CTXR', 'CTXRW', 'CTXS', 'CUBA', 'CUE', 'CURI', 'CURIW', 'CUTR', 'CVAC', 'CVBF', 'CVCO', 'CVCY', 'CVET', 'CVGI', 'CVGW', 'CVLB', 'CVLG', 'CVLT', 'CVLY', 'CVV', 'CWBC', 'CWBR', 'CWCO', 'CWST', 'CXDC', 'CXDO', 'CYAD', 'CYAN', 'CYBE', 'CYBR', 'CYCC', 'CYCCP', 'CYCN', 'CYRN', 'CYRX', 'CYTH', 'CYTHW', 'CYTK', 'CZNC', 'CZR', 'CZWI', 'DADA', 'DAIO', 'DAKT', 'DARE', 'DBDR', 'DBDRU', 'DBDRW', 'DBVT', 'DBX', 'DCBO', 'DCOM', 'DCOMP', 'DCPH', 'DCRB', 'DCRBU', 'DCRBW', 'DCT', 'DCTH', 'DDMXU', 'DDOG', 'DENN', 'DFFN', 'DFH', 'DFHT', 'DFHTU', 'DFHTW', 'DFPH', 'DFPHU', 'DFPHW', 'DGICA', 'DGICB', 'DGII', 'DGLY', 'DGNS', 'DHC', 'DHCNI', 'DHCNL', 'DHHC', 'DHHCU', 'DHHCW', 'DHIL', 'DIOD', 'DISCA', 'DISCB', 'DISCK', 'DISH', 'DJCO', 'DKNG', 'DLCAU', 'DLHC', 'DLPN', 'DLTH', 'DLTR', 'DMAC', 'DMLP', 'DMRC', 'DMTK', 'DNLI', 'DOCU', 'DOGZ', 'DOMO', 'DOOO', 'DORM', 'DOX', 'DOYU', 'DRIO', 'DRIOW', 'DRNA', 'DRRX', 'DRTT', 'DRVN', 'DSAC', 'DSACU', 'DSACW', 'DSGX', 'DSKE', 'DSKEW', 'DSPG', 'DSWL', 'DTEA', 'DTIL', 'DTSS', 'DUNEU', 'DUO', 'DUOT', 'DVAX', 'DWSN', 'DXCM', 'DXPE', 'DXYN', 'DYAI', 'DYN', 'DYNT', 'DZSI', 'EA', 'EACPU', 'EAR', 'EARS', 'EAST', 'EBAY', 'EBAYL', 'EBC', 'EBIX', 'EBMT', 'EBON', 'EBSB', 'EBTC', 'ECHO', 'ECOL', 'ECOLW', 'ECOR', 'ECPG', 'EDAP', 'EDIT', 'EDRY', 'EDSA', 'EDTK', 'EDTXU', 'EDUC', 'EEFT', 'EFOI', 'EFSC', 'EGAN', 'EGBN', 'EGLE', 'EGOV', 'EGRX', 'EH', 'EHTH', 'EIDX', 'EIGI', 'EIGR', 'EKSO', 'ELDN', 'ELOX', 'ELSE', 'ELTK', 'ELYS', 'EMCF', 'EMKR', 'EML', 'ENDP', 'ENFAU', 'ENG', 'ENLV', 'ENOB', 'ENPH', 'ENSG', 'ENTA', 'ENTG', 'ENTX', 'ENTXW', 'ENVB', 'ENVIU', 'EOLS', 'EOSE', 'EOSEW', 'EPAY', 'EPHYU', 'EPIX', 'EPSN', 'EPZM', 'EQ', 'EQBK', 'EQIX', 'EQOS', 'EQOSW', 'ERES', 'ERESU', 'ERESW', 'ERIC', 'ERIE', 'ERII', 'ERYP', 'ESBK', 'ESCA', 'ESEA', 'ESGR', 'ESGRO', 'ESGRP', 'ESLT', 'ESPR', 'ESQ', 'ESSA', 'ESSC', 'ESSCR', 'ESSCU', 'ESSCW', 'ESTA', 'ESXB', 'ETAC', 'ETACU', 'ETACW', 'ETNB', 'ETON', 'ETSY', 'ETTX', 'EUCR', 'EUCRU', 'EUCRW', 'EUSGU', 'EVBG', 'EVER', 'EVFM', 'EVGBC', 'EVGN', 'EVK', 'EVLMC', 'EVLO', 'EVOK', 'EVOL', 'EVOP', 'EWBC', 'EXAS', 'EXC', 'EXEL', 'EXFO', 'EXLS', 'EXPC', 'EXPCU', 'EXPCW', 'EXPD', 'EXPE', 'EXPI', 'EXPO', 'EXTR', 'EYE', 'EYEG', 'EYEN', 'EYES', 'EYESW', 'EYPT', 'EZGO', 'EZPW', 'FAMI', 'FANG', 'FANH', 'FARM', 'FARO', 'FAST', 'FAT', 'FATBP', 'FATBW', 'FATE', 'FB', 'FBIO', 'FBIOP', 'FBIZ', 'FBMS', 'FBNC', 'FBRX', 'FBSS', 'FCAC', 'FCACU', 'FCACW', 'FCAP', 'FCBC', 'FCBP', 'FCCO', 'FCCY', 'FCEL', 'FCFS', 'FCNCA', 'FCNCP', 'FCRD', 'FDBC', 'FDMT', 'FDUS', 'FDUSG', 'FDUSZ', 'FEIM', 'FELE', 'FENC', 'FEYE', 'FFBC', 'FFBW', 'FFHL', 'FFIC', 'FFIN', 'FFIV', 'FFNW', 'FFWM', 'FGBI', 'FGEN', 'FGF', 'FGFPP', 'FHB', 'FHTX', 'FIBK', 'FIII', 'FIIIU', 'FIIIW', 'FINMU', 'FISI', 'FISV', 'FITB', 'FITBI', 'FITBO', 'FITBP', 'FIVE', 'FIVN', 'FIXX', 'FIZZ', 'FLACU', 'FLDM', 'FLEX', 'FLGT', 'FLIC', 'FLIR', 'FLL', 'FLMN', 'FLMNW', 'FLNT', 'FLRZ', 'FLUX', 'FLWS', 'FLXN', 'FLXS', 'FMAO', 'FMBH', 'FMBI', 'FMBIO', 'FMBIP', 'FMNB', 'FMTX', 'FNCB', 'FNHC', 'FNKO', 'FNLC', 'FNWB', 'FOCS', 'FOLD', 'FONR', 'FORD', 'FORM', 'FORR', 'FORTY', 'FOSL', 'FOX', 'FOXA', 'FOXF', 'FOXWU', 'FPAY', 'FPRX', 'FRAF', 'FRBA', 'FRBK', 'FREE', 'FREEW', 'FREQ', 'FRG', 'FRGAP', 'FRGI', 'FRHC', 'FRLN', 'FRME', 'FROG', 'FRPH', 'FRPT', 'FRSX', 'FRTA', 'FSBW', 'FSDC', 'FSEA', 'FSFG', 'FSLR', 'FSRV', 'FSRVU', 'FSRVW', 'FSSI', 'FSSIU', 'FSSIW', 'FSTR', 'FSTX', 'FSV', 'FTCV', 'FTCVU', 'FTCVW', 'FTDR', 'FTEK', 'FTFT', 'FTHM', 'FTIV', 'FTIVU', 'FTIVW', 'FTNT', 'FTOC', 'FTOCU', 'FTOCW', 'FULC', 'FULT', 'FULTP', 'FUNC', 'FUND', 'FUSB', 'FUSN', 'FUTU', 'FUV', 'FVAM', 'FVCB', 'FVE', 'FWONA', 'FWONK', 'FWP', 'FWRD', 'FXNC', 'GABC', 'GAIA', 'GAIN', 'GAINL', 'GAINM', 'GALT', 'GAN', 'GASS', 'GBCI', 'GBDC', 'GBIO', 'GBLI', 'GBLIL', 'GBNY', 'GBS', 'GBT', 'GCBC', 'GCMG', 'GCMGW', 'GDEN', 'GDRX', 'GDS', 'GDYN', 'GDYNW', 'GECC', 'GECCL', 'GECCM', 'GECCN', 'GEG', 'GENC', 'GENE', 'GEOS', 'GERN', 'GEVO', 'GFED', 'GFN', 'GFNCP', 'GFNSZ', 'GGAL', 'GH', 'GHSI', 'GHVIU', 'GIFI', 'GIGM', 'GIII', 'GILD', 'GILT', 'GLAD', 'GLADL', 'GLAQU', 'GLBS', 'GLBZ', 'GLDD', 'GLG', 'GLMD', 'GLNG', 'GLPG', 'GLPI', 'GLRE', 'GLSI', 'GLTO', 'GLUU', 'GLYC', 'GMAB', 'GMBL', 'GMBLW', 'GMBTU', 'GMDA', 'GMIIU', 'GMLP', 'GMLPP', 'GMVD', 'GNACU', 'GNCA', 'GNFT', 'GNLN', 'GNMK', 'GNOG', 'GNOGW', 'GNPX', 'GNRS', 'GNRSU', 'GNRSW', 'GNSS', 'GNTX', 'GNTY', 'GNUS', 'GO', 'GOCO', 'GOEV', 'GOEVW', 'GOGL', 'GOGO', 'GOOD', 'GOODM', 'GOODN', 'GOOG', 'GOOGL', 'GOSS', 'GOVX', 'GOVXW', 'GP', 'GPACU', 'GPP', 'GPRE', 'GPRO', 'GRAY', 'GRBK', 'GRCL', 'GRCY', 'GRCYU', 'GRCYW', 'GRFS', 'GRIL', 'GRIN', 'GRMN', 'GRNQ', 'GRNV', 'GRNVR', 'GRNVU', 'GRNVW', 'GROW', 'GRPN', 'GRSV', 'GRSVU', 'GRSVW', 'GRTS', 'GRTX', 'GRVY', 'GRWG', 'GSAQU', 'GSBC', 'GSHD', 'GSIT', 'GSKY', 'GSM', 'GSMG', 'GSMGW', 'GSUM', 'GT', 'GTEC', 'GTH', 'GTHX', 'GTIM', 'GTLS', 'GTYH', 'GURE', 'GVP', 'GWAC', 'GWACW', 'GWGH', 'GWPH', 'GWRS', 'GXGX', 'GXGXU', 'GXGXW', 'GYRO', 'HA', 'HAAC', 'HAACU', 'HAACW', 'HAFC', 'HAIN', 'HALL', 'HALO', 'HAPP', 'HARP', 'HAS', 'HAYN', 'HBAN', 'HBANN', 'HBANO', 'HBCP', 'HBIO', 'HBMD', 'HBNC', 'HBP', 'HBT', 'HCAP', 'HCAPZ', 'HCAR', 'HCARU', 'HCARW', 'HCAT', 'HCCCU', 'HCCI', 'HCDI', 'HCICU', 'HCII', 'HCIIU', 'HCIIW', 'HCKT', 'HCM', 'HCSG', 'HDSN', 'HEAR', 'HEC', 'HECCU', 'HECCW', 'HEES', 'HELE', 'HEPA', 'HFBL', 'HFEN', 'HFFG', 'HFWA', 'HGBL', 'HGEN', 'HGSH', 'HHR', 'HIBB', 'HIFS', 'HIHO', 'HIMX', 'HJLI', 'HJLIW', 'HLAHU', 'HLG', 'HLIO', 'HLIT', 'HLNE', 'HLXA', 'HMCOU', 'HMHC', 'HMNF', 'HMST', 'HMSY', 'HMTV', 'HNNA', 'HNRG', 'HOFT', 'HOFV', 'HOFVW', 'HOL', 'HOLI', 'HOLUU', 'HOLUW', 'HOLX', 'HOMB', 'HONE', 'HOOK', 'HOPE', 'HOTH', 'HOVNP', 'HPK', 'HPKEW', 'HQI', 'HQY', 'HRMY', 'HROW', 'HRTX', 'HRZN', 'HSAQ', 'HSDT', 'HSIC', 'HSII', 'HSKA', 'HSON', 'HST', 'HSTM', 'HSTO', 'HTBI', 'HTBK', 'HTBX', 'HTGM', 'HTHT', 'HTIA', 'HTLD', 'HTLF', 'HTLFP', 'HTOO', 'HTOOW', 'HUBG', 'HUDI', 'HUGE', 'HUIZ', 'HURC', 'HURN', 'HUSN', 'HVBC', 'HWBK', 'HWC', 'HWCC', 'HWCPL', 'HWCPZ', 'HWKN', 'HX', 'HYFM', 'HYMC', 'HYMCL', 'HYMCW', 'HYMCZ', 'HYRE', 'HZNP', 'IAC', 'IART', 'IBCP', 'IBEX', 'IBKR', 'IBOC', 'IBTX', 'ICAD', 'ICBK', 'ICCC', 'ICCH', 'ICFI', 'ICHR', 'ICLK', 'ICLR', 'ICMB', 'ICON', 'ICPT', 'ICUI', 'IDCC', 'IDEX', 'IDN', 'IDRA', 'IDXG', 'IDXX', 'IDYA', 'IEA', 'IEAWW', 'IEC', 'IEP', 'IESC', 'IFMK', 'IFRX', 'IGAC', 'IGACU', 'IGACW', 'IGIC', 'IGICW', 'IGMS', 'IHRT', 'III', 'IIIIU', 'IIIN', 'IIIV', 'IIN', 'IIVI', 'IIVIP', 'IKNX', 'IKT', 'ILMN', 'ILPT', 'IMAB', 'IMAC', 'IMACW', 'IMBI', 'IMGN', 'IMKTA', 'IMMP', 'IMMR', 'IMNM', 'IMOS', 'IMRA', 'IMRN', 'IMRNW', 'IMTE', 'IMTX', 'IMTXW', 'IMUX', 'IMV', 'IMVT', 'IMXI', 'INAQ', 'INAQU', 'INAQW', 'INBK', 'INBKL', 'INBKZ', 'INBX', 'INCY', 'INDB', 'INDT', 'INFI', 'INFN', 'INGN', 'INKAU', 'INM', 'INMB', 'INMD', 'INO', 'INOD', 'INOV', 'INPX', 'INSE', 'INSG', 'INSM', 'INTC', 'INTG', 'INTU', 'INTZ', 'INVA', 'INVE', 'INVO', 'INZY', 'IONS', 'IOSP', 'IOVA', 'IPA', 'IPAR', 'IPDN', 'IPGP', 'IPHA', 'IPHI', 'IPLDP', 'IPWR', 'IQ', 'IRBT', 'IRCP', 'IRDM', 'IRIX', 'IRMD', 'IROQ', 'IRTC', 'IRWD', 'ISBC', 'ISEE', 'ISIG', 'ISNS', 'ISRG', 'ISSC', 'ISTR', 'ISUN', 'ITAC', 'ITACU', 'ITACW', 'ITCI', 'ITI', 'ITIC', 'ITMR', 'ITOS', 'ITRI', 'ITRM', 'ITRN', 'IVA', 'IVAC', 'IZEA', 'JACK', 'JAGX', 'JAKK', 'JAMF', 'JAN', 'JAQC', 'JAQCU', 'JAQCW', 'JAZZ', 'JBHT', 'JBLU', 'JBSS', 'JCICU', 'JCOM', 'JCS', 'JCTCF', 'JD', 'JFIN', 'JFU', 'JG', 'JJSF', 'JKHY', 'JMPNL', 'JMPNZ', 'JNCE', 'JOBS', 'JOUT', 'JRJC', 'JRSH', 'JRVR', 'JSM', 'JUPW', 'JUPWW', 'JVA', 'JYAC', 'JYNT', 'KAIRU', 'KALA', 'KALU', 'KALV', 'KBAL', 'KBNT', 'KBNTW', 'KBSF', 'KC', 'KCAPL', 'KDMN', 'KDNY', 'KDP', 'KE', 'KELYA', 'KELYB', 'KEQU', 'KERN', 'KERNW', 'KFFB', 'KFRC', 'KHC', 'KIDS', 'KIN', 'KINS', 'KINZU', 'KIRK', 'KLAC', 'KLAQU', 'KLDO', 'KLIC', 'KLXE', 'KMDA', 'KMPH', 'KNDI', 'KNSA', 'KNSL', 'KNTE', 'KOD', 'KOPN', 'KOR', 'KOSS', 'KPTI', 'KRBP', 'KRKR', 'KRMD', 'KRNT', 'KRNY', 'KRON', 'KROS', 'KRTX', 'KRUS', 'KRYS', 'KSMT', 'KSMTU', 'KSMTW', 'KSPN', 'KTCC', 'KTOS', 'KTRA', 'KURA', 'KVHI', 'KXIN', 'KYMR', 'KZIA', 'KZR', 'LACQ', 'LACQU', 'LACQW', 'LAKE', 'LAMR', 'LANC', 'LAND', 'LANDM', 'LANDO', 'LANDP', 'LARK', 'LASR', 'LATN', 'LATNU', 'LATNW', 'LAUR', 'LAWS', 'LAZR', 'LAZRW', 'LAZY', 'LBAI', 'LBC', 'LBRDA', 'LBRDK', 'LBRDP', 'LBTYA', 'LBTYB', 'LBTYK', 'LCAP', 'LCAPU', 'LCAPW', 'LCNB', 'LCUT', 'LCY', 'LCYAU', 'LCYAW', 'LE', 'LECO', 'LEDS', 'LEGH', 'LEGN', 'LEGOU', 'LESL', 'LEVL', 'LEVLP', 'LEXX', 'LEXXW', 'LFTR', 'LFTRU', 'LFTRW', 'LFUS', 'LFVN', 'LGHL', 'LGHLW', 'LGIH', 'LGND', 'LHCG', 'LI', 'LIFE', 'LILA', 'LILAK', 'LINC', 'LIND', 'LIQT', 'LITE', 'LIVE', 'LIVK', 'LIVKU', 'LIVKW', 'LIVN', 'LIVX', 'LIXT', 'LIXTW', 'LIZI', 'LJAQU', 'LJPC', 'LKCO', 'LKFN', 'LKQ', 'LLIT', 'LLNW', 'LMACU', 'LMAO', 'LMAOU', 'LMAOW', 'LMAT', 'LMB', 'LMFA', 'LMNL', 'LMNR', 'LMNX', 'LMPX', 'LMRK', 'LMRKN', 'LMRKO', 'LMRKP', 'LMST', 'LNDC', 'LNSR', 'LNT', 'LNTH', 'LOAC', 'LOACR', 'LOACU', 'LOACW', 'LOAN', 'LOB', 'LOCO', 'LOGC', 'LOGI', 'LOOP', 'LOPE', 'LORL', 'LOTZ', 'LOTZW', 'LOVE', 'LPCN', 'LPLA', 'LPRO', 'LPSN', 'LPTH', 'LPTX', 'LQDA', 'LQDT', 'LRCX', 'LRMR', 'LSAQ', 'LSBK', 'LSCC', 'LSEA', 'LSEAW', 'LSTR', 'LSXMA', 'LSXMB', 'LSXMK', 'LTBR', 'LTRN', 'LTRPA', 'LTRPB', 'LTRX', 'LULU', 'LUMO', 'LUNA', 'LUNG', 'LUXA', 'LUXAU', 'LUXAW', 'LWACU', 'LWAY', 'LX', 'LXEH', 'LXRX', 'LYFT', 'LYL', 'LYRA', 'LYTS', 'MAAC', 'MAACU', 'MAACW', 'MACK', 'MACU', 'MACUU', 'MACUW', 'MAGS', 'MANH', 'MANT', 'MAR', 'MARA', 'MARK', 'MARKP', 'MARPS', 'MASI', 'MASS', 'MAT', 'MATW', 'MAXN', 'MAYS', 'MBCN', 'MBII', 'MBIN', 'MBINO', 'MBINP', 'MBIO', 'MBNKP', 'MBOT', 'MBRX', 'MBUU', 'MBWM', 'MCAC', 'MCACR', 'MCACU', 'MCADU', 'MCBC', 'MCBS', 'MCFE', 'MCFT', 'MCHP', 'MCHX', 'MCMJ', 'MCMJW', 'MCRB', 'MCRI', 'MDB', 'MDCA', 'MDGL', 'MDGS', 'MDGSW', 'MDIA', 'MDJH', 'MDLZ', 'MDNA', 'MDRR', 'MDRRP', 'MDRX', 'MDVL', 'MDWD', 'MDWT', 'MDXG', 'MEDP', 'MEDS', 'MEIP', 'MELI', 'MEOH', 'MERC', 'MESA', 'MESO', 'METC', 'METX', 'METXW', 'MFH', 'MFIN', 'MFINL', 'MFNC', 'MGEE', 'MGI', 'MGIC', 'MGLN', 'MGNI', 'MGNX', 'MGPI', 'MGRC', 'MGTA', 'MGTX', 'MGYR', 'MHLD', 'MICT', 'MIDD', 'MIK', 'MIME', 'MIND', 'MINDP', 'MIRM', 'MIST', 'MITK', 'MITO', 'MKD', 'MKGI', 'MKSI', 'MKTX', 'MLAB', 'MLAC', 'MLACU', 'MLACW', 'MLCO', 'MLHR', 'MLND', 'MLVF', 'MMAC', 'MMLP', 'MMSI', 'MMYT', 'MNDO', 'MNKD', 'MNOV', 'MNPR', 'MNRO', 'MNSB', 'MNSBP', 'MNST', 'MNTK', 'MNTX', 'MODV', 'MOFG', 'MOGO', 'MOHO', 'MOMO', 'MONCU', 'MOR', 'MORF', 'MORN', 'MOSY', 'MOTN', 'MOTNU', 'MOTNW', 'MOTS', 'MOXC', 'MPAA', 'MPB', 'MPWR', 'MRACU', 'MRAM', 'MRBK', 'MRCC', 'MRCCL', 'MRCY', 'MREO', 'MRIN', 'MRKR', 'MRLN', 'MRM', 'MRNA', 'MRNS', 'MRSN', 'MRTN', 'MRTX', 'MRUS', 'MRVI', 'MRVL', 'MSBI', 'MSEX', 'MSFT', 'MSGM', 'MSON', 'MSTR', 'MSVB', 'MTACU', 'MTBC', 'MTBCP', 'MTC', 'MTCH', 'MTCR', 'MTEM', 'MTEX', 'MTLS', 'MTP', 'MTRX', 'MTSC', 'MTSI', 'MTSL', 'MU', 'MUDSU', 'MVBF', 'MVIS', 'MVNR', 'MWK', 'MXIM', 'MYFW', 'MYGN', 'MYRG', 'MYSZ', 'MYT', 'NAACU', 'NAII', 'NAKD', 'NAOV', 'NARI', 'NATH', 'NATI', 'NATR', 'NAVI', 'NBAC', 'NBACR', 'NBACU', 'NBACW', 'NBEV', 'NBIX', 'NBLX', 'NBN', 'NBRV', 'NBSE', 'NBTB', 'NBTX', 'NCBS', 'NCMI', 'NCNA', 'NCNO', 'NCSM', 'NCTY', 'NDAQ', 'NDLS', 'NDRA', 'NDRAW', 'NDSN', 'NEBCU', 'NEO', 'NEOG', 'NEON', 'NEOS', 'NEPH', 'NEPT', 'NERV', 'NESR', 'NESRW', 'NETE', 'NEWA', 'NEWT', 'NEWTI', 'NEWTL', 'NEWTZ', 'NEXT', 'NFBK', 'NFE', 'NFLX', 'NGAC', 'NGACU', 'NGACW', 'NGHCO', 'NGHCP', 'NGHCZ', 'NGM', 'NGMS', 'NH', 'NHIC', 'NHICU', 'NHICW', 'NHLD', 'NHLDW', 'NHTC', 'NICE', 'NICK', 'NISN', 'NIU', 'NK', 'NKLA', 'NKSH', 'NKTR', 'NKTX', 'NLOK', 'NLSP', 'NLSPW', 'NLTX', 'NMCI', 'NMFC', 'NMFCL', 'NMIH', 'NMMC', 'NMMCU', 'NMMCW', 'NMRD', 'NMRK', 'NMTR', 'NNBR', 'NNDM', 'NNOX', 'NOACU', 'NODK', 'NOVN', 'NOVS', 'NOVSU', 'NOVSW', 'NOVT', 'NPA', 'NPAUU', 'NPAWW', 'NRBO', 'NRC', 'NRIM', 'NRIX', 'NSEC', 'NSIT', 'NSSC', 'NSTG', 'NSYS', 'NTAP', 'NTCT', 'NTEC', 'NTES', 'NTGR', 'NTIC', 'NTLA', 'NTNX', 'NTRA', 'NTRS', 'NTRSO', 'NTUS', 'NTWK', 'NUAN', 'NURO', 'NUVA', 'NUZE', 'NVAX', 'NVCN', 'NVCR', 'NVDA', 'NVEC', 'NVEE', 'NVFY', 'NVIV', 'NVMI', 'NWBI', 'NWE', 'NWFL', 'NWL', 'NWLI', 'NWPX', 'NWS', 'NWSA', 'NXGN', 'NXMD', 'NXMDW', 'NXPI', 'NXST', 'NXTC', 'NXTD', 'NYMT', 'NYMTM', 'NYMTN', 'NYMTO', 'NYMTP', 'NYMX', 'OAS', 'OBAS', 'OBCI', 'OBLN', 'OBNK', 'OBSV', 'OCAXU', 'OCC', 'OCCI', 'OCCIP', 'OCFC', 'OCFCP', 'OCG', 'OCGN', 'OCSI', 'OCSL', 'OCUL', 'OCUP', 'ODFL', 'ODP', 'ODT', 'OEG', 'OEPWU', 'OESX', 'OFED', 'OFIX', 'OFLX', 'OFS', 'OFSSG', 'OFSSI', 'OFSSL', 'OFSSZ', 'OGI', 'OIIM', 'OKTA', 'OLB', 'OLED', 'OLLI', 'OLMA', 'OM', 'OMAB', 'OMCL', 'OMEG', 'OMER', 'OMEX', 'OMP', 'ON', 'ONB', 'ONCR', 'ONCS', 'ONCT', 'ONCY', 'ONDS', 'ONEM', 'ONEW', 'ONTX', 'ONTXW', 'ONVO', 'OPBK', 'OPCH', 'OPEN', 'OPENW', 'OPGN', 'OPHC', 'OPI', 'OPINI', 'OPINL', 'OPK', 'OPNT', 'OPOF', 'OPRA', 'OPRT', 'OPRX', 'OPT', 'OPTN', 'OPTT', 'ORBC', 'ORGO', 'ORGS', 'ORIC', 'ORLY', 'ORMP', 'ORPH', 'ORRF', 'ORTX', 'OSBC', 'OSIS', 'OSMT', 'OSN', 'OSPN', 'OSS', 'OSTK', 'OSTRU', 'OSUR', 'OSW', 'OTEL', 'OTEX', 'OTIC', 'OTLK', 'OTLKW', 'OTRA', 'OTRAU', 'OTRAW', 'OTRK', 'OTRKP', 'OTTR', 'OVBC', 'OVID', 'OVLY', 'OXBR', 'OXBRW', 'OXFD', 'OXLC', 'OXLCM', 'OXLCO', 'OXLCP', 'OXSQ', 'OXSQL', 'OXSQZ', 'OYST', 'OZK', 'OZON', 'PAA', 'PAAS', 'PACB', 'PACW', 'PACXU', 'PAE', 'PAEWW', 'PAGP', 'PAHC', 'PAIC', 'PAICU', 'PAICW', 'PAND', 'PANL', 'PAQCU', 'PASG', 'PATI', 'PATK', 'PAVM', 'PAVMW', 'PAVMZ', 'PAX', 'PAYA', 'PAYAW', 'PAYS', 'PAYX', 'PBCT', 'PBCTP', 'PBFS', 'PBHC', 'PBIP', 'PBLA', 'PBPB', 'PBTS', 'PBYI', 'PCAR', 'PCB', 'PCH', 'PCOM', 'PCRX', 'PCSA', 'PCSB', 'PCTI', 'PCTY', 'PCVX', 'PCYG', 'PCYO', 'PDCE', 'PDCO', 'PDD', 'PDEX', 'PDFS', 'PDLB', 'PDSB', 'PEBK', 'PEBO', 'PEGA', 'PEIX', 'PENN', 'PEP', 'PERI', 'PESI', 'PETQ', 'PETS', 'PETZ', 'PFBC', 'PFBI', 'PFC', 'PFG', 'PFHD', 'PFIE', 'PFIN', 'PFIS', 'PFLT', 'PFMT', 'PFPT', 'PFSW', 'PFX', 'PFXNL', 'PGC', 'PGEN', 'PGNY', 'PHAR', 'PHAS', 'PHAT', 'PHCF', 'PHIC', 'PHICU', 'PHICW', 'PHIO', 'PHIOW', 'PHUN', 'PHUNW', 'PI', 'PICO', 'PINC', 'PIRS', 'PIXY', 'PKBK', 'PKOH', 'PLAB', 'PLAY', 'PLBC', 'PLCE', 'PLIN', 'PLL', 'PLMR', 'PLPC', 'PLRX', 'PLSE', 'PLTK', 'PLUG', 'PLUS', 'PLXP', 'PLXS', 'PLYA', 'PMBC', 'PMD', 'PME', 'PMVP', 'PNBK', 'PNFP', 'PNFPP', 'PNNT', 'PNNTG', 'PNRG', 'PNTG', 'POAI', 'PODD', 'POLA', 'POOL', 'POSH', 'POWI', 'POWL', 'POWRU', 'POWW', 'PPBI', 'PPBT', 'PPC', 'PPD', 'PPGHU', 'PPIH', 'PPSI', 'PRAA', 'PRAH', 'PRAX', 'PRCH', 'PRCHW', 'PRDO', 'PRFT', 'PRFX', 'PRGS', 'PRGX', 'PRIM', 'PRLD', 'PROF', 'PROG', 'PROV', 'PRPH', 'PRPL', 'PRPO', 'PRQR', 'PRSRU', 'PRTA', 'PRTC', 'PRTH', 'PRTK', 'PRTS', 'PRVB', 'PS', 'PSAC', 'PSACU', 'PSACW', 'PSEC', 'PSHG', 'PSMT', 'PSNL', 'PSTI', 'PSTV', 'PSTX', 'PT', 'PTC', 'PTCT', 'PTE', 'PTEN', 'PTGX', 'PTIC', 'PTICU', 'PTICW', 'PTMN', 'PTNR', 'PTON', 'PTPI', 'PTRS', 'PTSI', 'PTVCA', 'PTVCB', 'PTVE', 'PUBM', 'PULM', 'PUYI', 'PVAC', 'PVBC', 'PWFL', 'PWOD', 'PXLW', 'PXS', 'PXSAP', 'PXSAW', 'PYPD', 'PYPL', 'PZZA', 'QADA', 'QADB', 'QCOM', 'QCRH', 'QDEL', 'QELL', 'QELLU', 'QELLW', 'QFIN', 'QH', 'QIWI', 'QK', 'QLGN', 'QLI', 'QLYS', 'QMCO', 'QNST', 'QQQX', 'QRHC', 'QRTEA', 'QRTEB', 'QRTEP', 'QRVO', 'QTNT', 'QTRX', 'QTT', 'QUIK', 'QUMU', 'QURE', 'RAACU', 'RACA', 'RADA', 'RADI', 'RAIL', 'RAND', 'RAPT', 'RARE', 'RAVE', 'RAVN', 'RBB', 'RBBN', 'RBCAA', 'RBCN', 'RBKB', 'RBNC', 'RCEL', 'RCHG', 'RCHGU', 'RCHGW', 'RCII', 'RCKT', 'RCKY', 'RCM', 'RCMT', 'RCON', 'RDCM', 'RDFN', 'RDHL', 'RDI', 'RDIB', 'RDNT', 'RDUS', 'RDVT', 'RDWR', 'REAL', 'REDU', 'REED', 'REFR', 'REG', 'REGI', 'REGN', 'REKR', 'RELL', 'REPH', 'REPL', 'RESN', 'RETA', 'RETO', 'REYN', 'RFIL', 'RGCO', 'RGEN', 'RGLD', 'RGLS', 'RGNX', 'RGP', 'RIBT', 'RICK', 'RIDE', 'RIGL', 'RILY', 'RILYG', 'RILYH', 'RILYI', 'RILYL', 'RILYM', 'RILYN', 'RILYO', 'RILYP', 'RILYT', 'RILYZ', 'RIOT', 'RIVE', 'RKDA', 'RLAY', 'RLMD', 'RMBI', 'RMBL', 'RMBS', 'RMCF', 'RMGBU', 'RMNI', 'RMR', 'RMRM', 'RMTI', 'RNA', 'RNDB', 'RNET', 'RNLX', 'RNST', 'RNWK', 'ROAD', 'ROCC', 'ROCCU', 'ROCCW', 'ROCH', 'ROCHU', 'ROCHW', 'ROCK', 'ROIC', 'ROKU', 'ROLL', 'ROOT', 'ROST', 'RP', 'RPAY', 'RPD', 'RPRX', 'RPTX', 'RRBI', 'RRGB', 'RRR', 'RSSS', 'RSVA', 'RSVAU', 'RSVAW', 'RTLR', 'RUBY', 'RUHN', 'RUN', 'RUSHA', 'RUSHB', 'RUTH', 'RVMD', 'RVNC', 'RVPH', 'RVPHW', 'RVSB', 'RWLK', 'RXT', 'RYAAY', 'RYTM', 'RZLT', 'SABR', 'SABRP', 'SAFM', 'SAFT', 'SAGE', 'SAIA', 'SAII', 'SAIIU', 'SAIIW', 'SAL', 'SALM', 'SAMG', 'SANM', 'SANW', 'SASR', 'SATS', 'SAVA', 'SBAC', 'SBBP', 'SBCF', 'SBFG', 'SBGI', 'SBLK', 'SBLKZ', 'SBNY', 'SBNYP', 'SBRA', 'SBSI', 'SBT', 'SBTX', 'SBUX', 'SCHL', 'SCHN', 'SCKT', 'SCOAU', 'SCOR', 'SCPH', 'SCPL', 'SCPS', 'SCSC', 'SCVL', 'SCWX', 'SCYX', 'SDC', 'SDGR', 'SEAC', 'SECO', 'SEDG', 'SEED', 'SEEL', 'SEER', 'SEIC', 'SELB', 'SELF', 'SENEA', 'SENEB', 'SESN', 'SFBC', 'SFBS', 'SFET', 'SFIX', 'SFM', 'SFNC', 'SFST', 'SFT', 'SG', 'SGA', 'SGAM', 'SGAMU', 'SGAMW', 'SGBX', 'SGC', 'SGEN', 'SGH', 'SGLB', 'SGLBW', 'SGMA', 'SGMO', 'SGMS', 'SGOC', 'SGRP', 'SGRY', 'SGTX', 'SHACU', 'SHBI', 'SHC', 'SHEN', 'SHIP', 'SHIPW', 'SHIPZ', 'SHOO', 'SHSP', 'SHYF', 'SIBN', 'SIC', 'SIEB', 'SIEN', 'SIFY', 'SIGA', 'SIGI', 'SIGIP', 'SILC', 'SILK', 'SIMO', 'SINA', 'SINO', 'SINT', 'SIOX', 'SIRI', 'SITM', 'SIVB', 'SIVBP', 'SJ', 'SKYW', 'SLAB', 'SLCRU', 'SLCT', 'SLDB', 'SLGG', 'SLGL', 'SLGN', 'SLM', 'SLMBP', 'SLN', 'SLNO', 'SLP', 'SLRC', 'SLRX', 'SLS', 'SMBC', 'SMBK', 'SMCI', 'SMED', 'SMID', 'SMIT', 'SMMF', 'SMMT', 'SMPL', 'SMSI', 'SMTC', 'SMTI', 'SMTX', 'SNBR', 'SNCA', 'SNCR', 'SND', 'SNDE', 'SNDL', 'SNDX', 'SNES', 'SNEX', 'SNFCA', 'SNGX', 'SNGXW', 'SNOA', 'SNPS', 'SNRHU', 'SNSS', 'SNY', 'SOHO', 'SOHOB', 'SOHON', 'SOHOO', 'SOHU', 'SOLO', 'SOLOW', 'SOLY', 'SONA', 'SONM', 'SONN', 'SONO', 'SP', 'SPCB', 'SPEL', 'SPFI', 'SPI', 'SPKE', 'SPKEP', 'SPLK', 'SPNE', 'SPNS', 'SPOK', 'SPPI', 'SPRB', 'SPRO', 'SPRT', 'SPSC', 'SPT', 'SPTN', 'SPWH', 'SPWR', 'SQBG', 'SQFT', 'SRAC', 'SRACU', 'SRACW', 'SRAX', 'SRCE', 'SRCL', 'SRDX', 'SREV', 'SRGA', 'SRNE', 'SRPT', 'SRRA', 'SRRK', 'SRSA', 'SRSAU', 'SRSAW', 'SRTS', 'SSAA', 'SSAAU', 'SSAAW', 'SSB', 'SSBI', 'SSKN', 'SSNC', 'SSNT', 'SSP', 'SSPK', 'SSPKU', 'SSPKW', 'SSRM', 'SSSS', 'SSTI', 'SSYS', 'STAA', 'STAF', 'STAY', 'STBA', 'STCN', 'STEP', 'STFC', 'STIM', 'STKL', 'STKS', 'STLD', 'STMP', 'STND', 'STNE', 'STOK', 'STRA', 'STRL', 'STRM', 'STRO', 'STRR', 'STRRP', 'STRS', 'STRT', 'STSA', 'STTK', 'STWO', 'STWOU', 'STWOW', 'STX', 'STXB', 'SUMO', 'SUMR', 'SUNS', 'SUNW', 'SUPN', 'SURF', 'SV', 'SVA', 'SVAC', 'SVACU', 'SVACW', 'SVBI', 'SVC', 'SVFAU', 'SVMK', 'SVOKU', 'SVRA', 'SVSVU', 'SVSVW', 'SVVC', 'SWAV', 'SWBI', 'SWETU', 'SWIR', 'SWKH', 'SWKS', 'SWTX', 'SXTC', 'SY', 'SYBT', 'SYBX', 'SYKE', 'SYNA', 'SYNC', 'SYNH', 'SYNL', 'SYPR', 'SYRS', 'SYTA', 'SYTAW', 'TA', 'TACO', 'TACT', 'TAIT', 'TANH', 'TANNI', 'TANNL', 'TANNZ', 'TAOP', 'TARA', 'TARS', 'TAST', 'TATT', 'TAYD', 'TBBK', 'TBIO', 'TBK', 'TBKCP', 'TBLT', 'TBLTW', 'TBNK', 'TBPH', 'TC', 'TCBI', 'TCBIL', 'TCBIP', 'TCBK', 'TCDA', 'TCF', 'TCFC', 'TCFCP', 'TCMD', 'TCOM', 'TCON', 'TCPC', 'TCRR', 'TCX', 'TDAC', 'TDACU', 'TDACW', 'TEAM', 'TECH', 'TECTP', 'TEDU', 'TEKK', 'TEKKU', 'TEKKW', 'TELA', 'TELL', 'TENB', 'TENX', 'TER', 'TESS', 'TFFP', 'TFSL', 'TGA', 'TGLS', 'TGTX', 'TH', 'THBR', 'THBRU', 'THBRW', 'THCA', 'THCAU', 'THCAW', 'THCB', 'THCBU', 'THCBW', 'THFF', 'THMO', 'THRM', 'THRY', 'THTX', 'THWWW', 'TIG', 'TIGO', 'TIGR', 'TILE', 'TIPT', 'TITN', 'TLC', 'TLGT', 'TLMD', 'TLMDW', 'TLND', 'TLRY', 'TLS', 'TLSA', 'TMDI', 'TMDX', 'TMKRU', 'TMPM', 'TMPMU', 'TMPMW', 'TMTS', 'TMTSU', 'TMTSW', 'TMUS', 'TNAV', 'TNDM', 'TNXP', 'TOMZ', 'TOPS', 'TOUR', 'TOWN', 'TPCO', 'TPIC', 'TPTX', 'TRCH', 'TREE', 'TRHC', 'TRIB', 'TRIL', 'TRIP', 'TRIT', 'TRITW', 'TRMB', 'TRMD', 'TRMK', 'TRMT', 'TRNS', 'TROW', 'TRS', 'TRST', 'TRUE', 'TRUP', 'TRVG', 'TRVI', 'TRVN', 'TSBK', 'TSC', 'TSCAP', 'TSCBP', 'TSCO', 'TSEM', 'TSHA', 'TSIA', 'TSIAU', 'TSIAW', 'TSLA', 'TSRI', 'TTCF', 'TTCFW', 'TTD', 'TTEC', 'TTEK', 'TTGT', 'TTMI', 'TTNP', 'TTOO', 'TTWO', 'TURN', 'TUSK', 'TVACU', 'TVTX', 'TVTY', 'TW', 'TWCT', 'TWCTU', 'TWCTW', 'TWIN', 'TWNK', 'TWNKW', 'TWOU', 'TWST', 'TXG', 'TXMD', 'TXN', 'TXRH', 'TYHT', 'TYME', 'TZOO', 'TZPSU', 'UAL', 'UBCP', 'UBFO', 'UBOH', 'UBSI', 'UBX', 'UCBI', 'UCBIO', 'UCL', 'UCTT', 'UEIC', 'UEPS', 'UFCS', 'UFPI', 'UFPT', 'UG', 'UHAL', 'UIHC', 'UK', 'UKOMW', 'ULBI', 'ULH', 'ULTA', 'UMBF', 'UMPQ', 'UNAM', 'UNB', 'UNIT', 'UNTY', 'UONE', 'UONEK', 'UPLD', 'UPST', 'UPWK', 'URBN', 'URGN', 'UROV', 'USAK', 'USAP', 'USAT', 'USAU', 'USCR', 'USEG', 'USIO', 'USLM', 'USWS', 'USWSW', 'UTHR', 'UTMD', 'UTSI', 'UVSP', 'UXIN', 'VACQ', 'VACQU', 'VACQW', 'VALU', 'VBFC', 'VBIV', 'VBLT', 'VBTX', 'VC', 'VCEL', 'VCKAU', 'VCNX', 'VCTR', 'VCVC', 'VCVCU', 'VCVCW', 'VCYT', 'VECO', 'VEON', 'VERB', 'VERBW', 'VERI', 'VERO', 'VERU', 'VERX', 'VERY', 'VFF', 'VG', 'VIAC', 'VIACA', 'VIAV', 'VICR', 'VIE', 'VIH', 'VIHAU', 'VIHAW', 'VIIAU', 'VINC', 'VINCU', 'VINCW', 'VIOT', 'VIR', 'VIRC', 'VIRI', 'VIRT', 'VISL', 'VITL', 'VIVE', 'VIVO', 'VJET', 'VKTX', 'VKTXW', 'VLDR', 'VLDRW', 'VLGEA', 'VLY', 'VLYPO', 'VLYPP', 'VMAC', 'VMACU', 'VMACW', 'VMAR', 'VMD', 'VNDA', 'VNET', 'VNOM', 'VOD', 'VOSOU', 'VOXX', 'VRA', 'VRAY', 'VRCA', 'VRDN', 'VREX', 'VRM', 'VRME', 'VRMEW', 'VRNA', 'VRNS', 'VRNT', 'VRRM', 'VRSK', 'VRSN', 'VRTS', 'VRTU', 'VRTX', 'VS', 'VSAT', 'VSEC', 'VSPR', 'VSPRU', 'VSPRW', 'VSSYW', 'VSTA', 'VSTM', 'VTAQU', 'VTGN', 'VTIQU', 'VTNR', 'VTRS', 'VTRU', 'VTSI', 'VTVT', 'VUZI', 'VVOS', 'VVPR', 'VXRT', 'VYGR', 'VYNE', 'WABC', 'WAFD', 'WAFU', 'WASH', 'WATT', 'WB', 'WBA', 'WDAY', 'WDC', 'WDFC', 'WEN', 'WERN', 'WETF', 'WEYS', 'WHF', 'WHFBZ', 'WHLM', 'WHLR', 'WHLRD', 'WHLRP', 'WIFI', 'WILC', 'WIMI', 'WINA', 'WING', 'WINT', 'WIRE', 'WISA', 'WISH', 'WIX', 'WKEY', 'WKHS', 'WLDN', 'WLFC', 'WLTW', 'WMG', 'WNEB', 'WNW', 'WOOF', 'WORX', 'WPRT', 'WRAP', 'WRLD', 'WSBC', 'WSBCP', 'WSBF', 'WSC', 'WSFS', 'WSG', 'WSTG', 'WTBA', 'WTER', 'WTFC', 'WTFCM', 'WTFCP', 'WTRE', 'WTREP', 'WTRH', 'WVE', 'WVFC', 'WVVI', 'WVVIP', 'WW', 'WWD', 'WWR', 'WYNN', 'XAIR', 'XBIO', 'XBIOW', 'XBIT', 'XCUR', 'XEL', 'XELA', 'XELB', 'XENE', 'XENT', 'XERS', 'XFOR', 'XGN', 'XLNX', 'XLRN', 'XNCR', 'XNET', 'XOG', 'XOMA', 'XOMAP', 'XONE', 'XP', 'XPEL', 'XPER', 'XRAY', 'XSPA', 'XTLB', 'YGMZ', 'YI', 'YJ', 'YMAB', 'YMTX', 'YNDX', 'YORW', 'YQ', 'YRCW', 'YSAC', 'YSACU', 'YSACW', 'YTEN', 'YTRA', 'YVR', 'YY', 'Z', 'ZAGG', 'ZBRA', 'ZCMD', 'ZEAL', 'ZEUS', 'ZG', 'ZGNX', 'ZGYH', 'ZGYHR', 'ZGYHU', 'ZGYHW', 'ZI', 'ZION', 'ZIONL', 'ZIONN', 'ZIONO', 'ZIONP', 'ZIOP', 'ZIXI', 'ZKIN', 'ZLAB', 'ZM', 'ZNGA', 'ZNTE', 'ZNTEU', 'ZNTEW', 'ZNTL', 'ZS', 'ZSAN', 'ZUMZ', 'ZVO', 'ZYNE', 'ZYXI', 'AAMC', 'AAU', 'ACU', 'ACY', 'AE', 'AEF', 'AGE', 'AIM', 'AINC', 'AIRI', 'AMBO', 'AMPE', 'AMS', 'ANVS', 'AP.WS', 'APT', 'ARMP', 'ASM', 'ATNM', 'AUMN', 'AWX', 'AXU', 'BATL', 'BCV', 'BCV.PRA', 'BDL', 'BDR', 'BGI', 'BHB', 'BIOX', 'BKTI', 'BMTX', 'BMTX.WS', 'BRBS', 'BRG', 'BRG.PRA', 'BRG.PRC', 'BRG.PRD', 'BRMK.WS', 'BRN', 'BTG', 'BTN', 'BWL/A', 'CANF', 'CCF', 'CDOR', 'CEI', 'CET', 'CEV', 'CHAQ', 'CHAQ.U', 'CHAQ.WS', 'CHFW', 'CHFW.U', 'CHFW.WS', 'CIK', 'CIX', 'CKX', 'CLM', 'CMCL', 'CMT', 'COHN', 'CPHI', 'CQP', 'CRF', 'CRHM', 'CRMD', 'CTEK', 'CTO', 'CVM', 'CVR', 'CVU', 'DHY', 'DIT', 'DLA', 'DMF', 'DNN', 'DPW', 'DSS', 'DXF', 'DXR', 'EAD', 'ECF', 'ECF.PRA', 'EIM', 'ELA', 'ELLO', 'ELMD', 'EMAN', 'EMX', 'ENSV', 'ENX', 'EPM', 'EQX', 'ERC', 'ERH', 'ESP', 'EVBN', 'EVI', 'EVM', 'EVV', 'EVY', 'EXN', 'FAX', 'FCO', 'FEN', 'FRD', 'FSI', 'FSP', 'FTF', 'FTSI', 'FURY', 'GAU', 'GBR', 'GDP', 'GGN', 'GGN.PRB', 'GGO', 'GGO.PRA', 'GLDG', 'GLO', 'GLQ', 'GLU', 'GLU.PRA', 'GLU.PRB', 'GLV', 'GOED', 'GORO', 'GPL', 'GRF', 'GSAT', 'GSS', 'GSV', 'GTE', 'HLM.PR', 'HMG', 'HNW', 'HUSA', 'HWM.PR', 'IAF', 'IBIO', 'ID', 'IGC', 'IHT', 'IMH', 'IMO', 'INDO', 'INFU', 'INS', 'INTT', 'INUV', 'IOR', 'ISDR', 'ISR', 'ITP', 'ITRG', 'JOB', 'KIQ', 'KLR', 'KLR.WS', 'LCTX', 'LEU', 'LGL', 'LGL.WS', 'LNG', 'LODE', 'LOV', 'LSF', 'LXFR', 'MAG', 'MCF', 'MHH', 'MLSS', 'MMX', 'MSN', 'MTA', 'MTNB', 'MXC', 'MYO', 'NAK', 'NAVB', 'NBA', 'NBA.U', 'NBA.WS', 'NBH', 'NBO', 'NBW', 'NBY', 'NEN', 'NES', 'NG', 'NGD', 'NHC', 'NHS', 'NML', 'NNVC', 'NOG', 'NRO', 'NSPR', 'NSPR.WS', 'NSPR.WS.B', 'NTIP', 'NTN', 'NXE', 'OBLG', 'OCX', 'OGEN', 'ORLA', 'PCG.PRA', 'PCG.PRB', 'PCG.PRC', 'PCG.PRD', 'PCG.PRE', 'PCG.PRG', 'PCG.PRH', 'PCG.PRI', 'PED', 'PHGE', 'PHGE.U', 'PHGE.WS', 'PLAG', 'PLG', 'PLM', 'PLX', 'PLYM.PRA', 'PRK', 'PTK', 'PTK.U', 'PTK.WS', 'PTN', 'PW', 'PW.PRA', 'PZG', 'RCG', 'REI', 'RHE', 'RHE.PRA', 'RLGT', 'RMED', 'RVP', 'SACC', 'SACH', 'SCCB', 'SCCC', 'SDPI', 'SEB', 'SENS', 'SIF', 'SILV', 'SIM', 'SMTS', 'SNMP', 'SSY', 'STXS', 'SVM', 'SVT', 'SYN', 'TALO.WS', 'TDW.WS', 'TGB', 'TGC', 'THM', 'TKAT', 'TMBR', 'TMP', 'TMQ', 'TPHS', 'TRT', 'TRX', 'TRXC', 'UAMY', 'UAVS', 'UEC', 'UFAB', 'URG', 'USAS', 'UTG', 'UUU', 'UUUU', 'UUUU.WS', 'VCF', 'VFL', 'VGZ', 'VHAQ.U', 'VKI', 'VMM', 'VNRX', 'VOLT', 'WRN', 'WTT', 'WYY', 'XPL', 'XTNT', 'XXII', 'YCBD', 'YCBD.PRA', 'ZDGE', 'ZOM', 'A', 'AA', 'AAIC', 'AAIC.PRB', 'AAIC.PRC', 'AAN', 'AAP', 'AAT', 'AB', 'ABB', 'ABBV', 'ABC', 'ABEV', 'ABG', 'ABM', 'ABR', 'ABR.PRA', 'ABR.PRB', 'ABR.PRC', 'ABT', 'AC', 'ACA', 'ACB', 'ACC', 'ACCO', 'ACEL', 'ACH', 'ACI', 'ACIC', 'ACIC.U', 'ACIC.WS', 'ACM', 'ACN', 'ACND', 'ACND.U', 'ACND.WS', 'ACP', 'ACRE', 'ACV', 'ADC', 'ADCT', 'ADEX.U', 'ADM', 'ADNT', 'ADS', 'ADT', 'ADX', 'AEB', 'AEE', 'AEFC', 'AEG', 'AEL', 'AEL.PRA', 'AEL.PRB', 'AEM', 'AENZ', 'AEO', 'AER', 'AES', 'AFB', 'AFC', 'AFG', 'AFGB', 'AFGC', 'AFGD', 'AFGE', 'AFI', 'AFL', 'AFT', 'AG', 'AGCB', 'AGCO', 'AGD', 'AGI', 'AGM', 'AGM.A', 'AGM.PRC', 'AGM.PRD', 'AGM.PRE', 'AGM.PRF', 'AGO', 'AGO.PRB', 'AGO.PRE', 'AGO.PRF', 'AGR', 'AGRO', 'AGS', 'AGX', 'AHC', 'AHH', 'AHH.PRA', 'AHL.PRC', 'AHL.PRD', 'AHL.PRE', 'AHT', 'AHT.PRD', 'AHT.PRF', 'AHT.PRG', 'AHT.PRH', 'AHT.PRI', 'AI', 'AIC', 'AIF', 'AIG', 'AIG.PRA', 'AIN', 'AIO', 'AIR', 'AIRC', 'AIT', 'AIV', 'AIW', 'AIZ', 'AIZN', 'AIZP', 'AJAX', 'AJAX.U', 'AJAX.WS', 'AJG', 'AJRD', 'AJX', 'AJXA', 'AKO/A', 'AKO/B', 'AKR', 'AL', 'AL.PRA', 'ALB', 'ALC', 'ALE', 'ALEX', 'ALG', 'ALIN.PRA', 'ALIN.PRB', 'ALIN.PRE', 'ALK', 'ALL', 'ALL.PRB', 'ALL.PRG', 'ALL.PRH', 'ALL.PRI', 'ALLE', 'ALLY', 'ALLY.PRA', 'ALP.PRQ', 'ALSN', 'ALTG', 'ALTG.PRA', 'ALTG.WS', 'ALUS', 'ALUS.U', 'ALUS.WS', 'ALV', 'ALX', 'AM', 'AMBC', 'AMBC.WS', 'AMC', 'AMCR', 'AME', 'AMG', 'AMH', 'AMH.PRD', 'AMH.PRE', 'AMH.PRF', 'AMH.PRG', 'AMH.PRH', 'AMK', 'AMN', 'AMOV', 'AMP', 'AMPY', 'AMRC', 'AMRX', 'AMT', 'AMWL', 'AMX', 'AN', 'ANET', 'ANF', 'ANH', 'ANH.PRA', 'ANH.PRB', 'ANH.PRC', 'ANTM', 'AOD', 'AON', 'AONE', 'AONE.U', 'AONE.WS', 'AOS', 'AP', 'APAM', 'APD', 'APG', 'APH', 'APLE', 'APO', 'APO.PRA', 'APO.PRB', 'APRN', 'APSG', 'APSG.U', 'APSG.WS', 'APTS', 'APTV', 'APTV.PRA', 'AQN', 'AQNA', 'AQNB', 'AQUA', 'AR', 'ARC', 'ARCH', 'ARCO', 'ARD', 'ARDC', 'ARE', 'ARES', 'ARES.PRA', 'ARGD', 'ARGO', 'ARGO.PRA', 'ARI', 'ARL', 'ARLO', 'ARMK', 'ARNC', 'AROC', 'ARR', 'ARR.PRC', 'ARW', 'ASA', 'ASAN', 'ASAQ', 'ASAQ.U', 'ASAQ.WS', 'ASB', 'ASB.PRC', 'ASB.PRD', 'ASB.PRE', 'ASB.PRF', 'ASC', 'ASG', 'ASGI', 'ASGN', 'ASH', 'ASIX', 'ASPL', 'ASPL.U', 'ASPL.WS', 'ASPN', 'ASR', 'ASX', 'AT', 'ATA.U', 'ATAC', 'ATAC.U', 'ATAC.WS', 'ATCO', 'ATCO.PRD', 'ATCO.PRE', 'ATCO.PRG', 'ATCO.PRH', 'ATCO.PRI', 'ATEN', 'ATGE', 'ATH', 'ATH.PRA', 'ATH.PRB', 'ATH.PRC', 'ATH.PRD', 'ATHM', 'ATI', 'ATKR', 'ATO', 'ATR', 'ATTO', 'ATUS', 'ATV', 'AU', 'AUY', 'AVA', 'AVAL', 'AVAN', 'AVAN.U', 'AVAN.WS', 'AVB', 'AVD', 'AVK', 'AVLR', 'AVNS', 'AVNT', 'AVTR', 'AVTR.PRA', 'AVY', 'AVYA', 'AWF', 'AWI', 'AWK', 'AWP', 'AWR', 'AX', 'AXL', 'AXO', 'AXP', 'AXR', 'AXS', 'AXS.PRE', 'AXTA', 'AYI', 'AYX', 'AZEK', 'AZO', 'AZRE', 'AZUL', 'AZZ', 'B', 'BA', 'BABA', 'BAC', 'BAC.PRA', 'BAC.PRB', 'BAC.PRC', 'BAC.PRE', 'BAC.PRK', 'BAC.PRL', 'BAC.PRM', 'BAC.PRN', 'BAC.PRO', 'BAF', 'BAH', 'BAK', 'BALY', 'BAM', 'BAMH', 'BAMI', 'BANC', 'BANC.PRD', 'BANC.PRE', 'BAP', 'BAX', 'BB', 'BBAR', 'BBD', 'BBDC', 'BBDO', 'BBF', 'BBK', 'BBL', 'BBN', 'BBU', 'BBVA', 'BBW', 'BBY', 'BC', 'BC.PRA', 'BC.PRB', 'BC.PRC', 'BCAT', 'BCC', 'BCE', 'BCEI', 'BCH', 'BCO', 'BCS', 'BCSF', 'BCX', 'BDC', 'BDJ', 'BDN', 'BDX', 'BDXB', 'BE', 'BEDU', 'BEKE', 'BEN', 'BEP', 'BEP.PRA', 'BEPC', 'BERY', 'BEST', 'BF/A', 'BF/B', 'BFAM', 'BFK', 'BFS', 'BFS.PRD', 'BFS.PRE', 'BFT', 'BFT.U', 'BFT.WS', 'BFY', 'BFZ', 'BG', 'BGB', 'BGH', 'BGIO', 'BGR', 'BGS', 'BGSF', 'BGT', 'BGX', 'BGY', 'BH', 'BH.A', 'BHC', 'BHE', 'BHK', 'BHLB', 'BHP', 'BHR', 'BHR.PRB', 'BHR.PRD', 'BHV', 'BHVN', 'BIF', 'BIG', 'BILL', 'BIO', 'BIO/B', 'BIP', 'BIP.PRA', 'BIP.PRB', 'BIPC', 'BIT', 'BJ', 'BK', 'BKD', 'BKE', 'BKH', 'BKI', 'BKN', 'BKR', 'BKT', 'BKU', 'BLD', 'BLE', 'BLK', 'BLL', 'BLW', 'BLX', 'BMA', 'BME', 'BMEZ', 'BMI', 'BML.PRG', 'BML.PRH', 'BML.PRJ', 'BML.PRL', 'BMO', 'BMY', 'BNED', 'BNL', 'BNS', 'BNY', 'BOAC', 'BOAC.U', 'BOAC.WS', 'BOE', 'BOH', 'BOOT', 'BORR', 'BOX', 'BP', 'BPMP', 'BPT', 'BQ', 'BR', 'BRBR', 'BRC', 'BRFS', 'BRK/A', 'BRK/B', 'BRMK', 'BRO', 'BRT', 'BRX', 'BSA', 'BSAC', 'BSBR', 'BSD', 'BSE', 'BSIG', 'BSL', 'BSM', 'BSMX', 'BSN', 'BSN.U', 'BSN.WS', 'BST', 'BSTZ', 'BSX', 'BSX.PRA', 'BTA', 'BTI', 'BTO', 'BTT', 'BTU', 'BTZ', 'BUD', 'BUI', 'BUR', 'BURL', 'BV', 'BVH', 'BVN', 'BW', 'BWA', 'BWG', 'BWXT', 'BX', 'BXC', 'BXG', 'BXMT', 'BXMX', 'BXP', 'BXP.PRB', 'BXS', 'BXS.PRA', 'BY', 'BYD', 'BYM', 'BZH', 'BZM', 'C', 'C.PRJ', 'C.PRK', 'C.PRN', 'C.PRS', 'CAAP', 'CABO', 'CACI', 'CADE', 'CAE', 'CAF', 'CAG', 'CAH', 'CAI', 'CAI.PRA', 'CAI.PRB', 'CAJ', 'CAL', 'CALX', 'CANG', 'CAP', 'CAP.U', 'CAP.WS', 'CAPL', 'CARR', 'CARS', 'CAS', 'CAS.U', 'CAS.WS', 'CAT', 'CATO', 'CB', 'CBAH.U', 'CBB', 'CBB.PRB', 'CBD', 'CBH', 'CBRE', 'CBT', 'CBU', 'CBZ', 'CC', 'CCAC', 'CCAC.U', 'CCAC.WS', 'CCC', 'CCEP', 'CCI', 'CCIV', 'CCIV.U', 'CCIV.WS', 'CCJ', 'CCK', 'CCL', 'CCM', 'CCO', 'CCS', 'CCU', 'CCV.U', 'CCX', 'CCX.U', 'CCX.WS', 'CCZ', 'CDAY', 'CDE', 'CDR', 'CDR.PRB', 'CDR.PRC', 'CE', 'CEA', 'CEE', 'CEIX', 'CEL', 'CELG.RT', 'CELP', 'CEM', 'CEN', 'CEO', 'CEPU', 'CEQP', 'CEQP.PR', 'CF', 'CFG', 'CFG.PRD', 'CFG.PRE', 'CFR', 'CFR.PRB', 'CFX', 'CFXA', 'CGA', 'CHCT', 'CHD', 'CHE', 'CHGG', 'CHH', 'CHMI', 'CHMI.PRA', 'CHMI.PRB', 'CHN', 'CHRA', 'CHS', 'CHT', 'CHWY', 'CI', 'CIA', 'CIB', 'CIEN', 'CIF', 'CIG', 'CIG.C', 'CII', 'CIM', 'CIM.PRA', 'CIM.PRB', 'CIM.PRC', 'CIM.PRD', 'CINR', 'CIO', 'CIO.PRA', 'CIR', 'CIT', 'CIT.PRB', 'CIXX', 'CKH', 'CL', 'CLA', 'CLA.U', 'CLA.WS', 'CLAS.U', 'CLB', 'CLDR', 'CLDT', 'CLF', 'CLGX', 'CLH', 'CLI', 'CLII', 'CLII.U', 'CLII.WS', 'CLNC', 'CLNY', 'CLNY.PRG', 'CLNY.PRH', 'CLNY.PRI', 'CLNY.PRJ', 'CLPR', 'CLR', 'CLS', 'CLW', 'CLX', 'CM', 'CMA', 'CMC', 'CMCM', 'CMD', 'CMG', 'CMI', 'CMO', 'CMO.PRE', 'CMP', 'CMRE', 'CMRE.PRB', 'CMRE.PRC', 'CMRE.PRD', 'CMRE.PRE', 'CMS', 'CMS.PRB', 'CMSA', 'CMSC', 'CMSD', 'CMU', 'CNA', 'CNC', 'CND.U', 'CNF', 'CNHI', 'CNI', 'CNK', 'CNMD', 'CNNE', 'CNO', 'CNO.PRA', 'CNP', 'CNP.PRB', 'CNQ', 'CNR', 'CNS', 'CNX', 'CO', 'CODI', 'CODI.PRA', 'CODI.PRB', 'CODI.PRC', 'COE', 'COF', 'COF.PRG', 'COF.PRH', 'COF.PRI', 'COF.PRJ', 'COF.PRK', 'COG', 'COLD', 'COO', 'COP', 'COR', 'CORR', 'CORR.PRA', 'COTY', 'CP', 'CPA', 'CPAC', 'CPB', 'CPE', 'CPF', 'CPG', 'CPK', 'CPLG', 'CPRI', 'CPS', 'CPSR', 'CPSR.U', 'CPSR.WS', 'CPT', 'CR', 'CRC', 'CRD/A', 'CRD/B', 'CRH', 'CRHC', 'CRHC.U', 'CRHC.WS', 'CRI', 'CRK', 'CRL', 'CRM', 'CRS', 'CRT', 'CRU.U', 'CRY', 'CS', 'CSL', 'CSLT', 'CSPR', 'CSR', 'CSR.PRC', 'CSTM', 'CSU', 'CSV', 'CTA.PRA', 'CTA.PRB', 'CTAA', 'CTAC', 'CTAC.U', 'CTAC.WS', 'CTB', 'CTBB', 'CTDD', 'CTK', 'CTLT', 'CTR', 'CTRA', 'CTS', 'CTT', 'CTVA', 'CUB', 'CUBB', 'CUBE', 'CUBI', 'CUBI.PRC', 'CUBI.PRD', 'CUBI.PRE', 'CUBI.PRF', 'CUK', 'CULP', 'CURO', 'CUZ', 'CVA', 'CVE', 'CVE.WS', 'CVEO', 'CVI', 'CVNA', 'CVS', 'CVX', 'CW', 'CWEN', 'CWEN.A', 'CWH', 'CWK', 'CWT', 'CX', 'CXE', 'CXH', 'CXP', 'CXW', 'CYD', 'CYH', 'CZZ', 'D', 'DAC', 'DAL', 'DAN', 'DAO', 'DAR', 'DASH', 'DAVA', 'DB', 'DBD', 'DBI', 'DBL', 'DCF', 'DCI', 'DCO', 'DCP', 'DCP.PRB', 'DCP.PRC', 'DCUE', 'DD', 'DDD', 'DDF', 'DDS', 'DDT', 'DE', 'DEA', 'DECK', 'DEH', 'DEH.U', 'DEH.WS', 'DEI', 'DELL', 'DEN', 'DEO', 'DESP', 'DEX', 'DFIN', 'DFNS', 'DFNS.U', 'DFNS.WS', 'DFP', 'DFS', 'DG', 'DGNR', 'DGNR.U', 'DGNR.WS', 'DGX', 'DHF', 'DHI', 'DHR', 'DHR.PRA', 'DHR.PRB', 'DHT', 'DHX', 'DIAX', 'DIN', 'DIS', 'DK', 'DKL', 'DKS', 'DL', 'DLB', 'DLNG', 'DLNG.PRA', 'DLNG.PRB', 'DLR', 'DLR.PRC', 'DLR.PRJ', 'DLR.PRK', 'DLR.PRL', 'DLX', 'DLY', 'DM', 'DM.WS', 'DMB', 'DMO', 'DMS', 'DMS.WS', 'DMYD', 'DMYD.U', 'DMYD.WS', 'DMYI', 'DMYI.U', 'DMYI.WS', 'DNB', 'DNK', 'DNMR', 'DNMR.WS', 'DNOW', 'DNP', 'DNZ.U', 'DOC', 'DOOR', 'DOV', 'DOW', 'DPG', 'DPZ', 'DQ', 'DRD', 'DRE', 'DRH', 'DRH.PRA', 'DRI', 'DRQ', 'DRUA', 'DS', 'DS.PRB', 'DS.PRC', 'DS.PRD', 'DSE', 'DSL', 'DSM', 'DSSI', 'DSU', 'DSX', 'DSX.PRB', 'DT', 'DTB', 'DTE', 'DTF', 'DTJ', 'DTLA.PR', 'DTP', 'DTW', 'DTY', 'DUC', 'DUK', 'DUK.PRA', 'DUKB', 'DUKH', 'DVA', 'DVD', 'DVN', 'DWIN.U', 'DX', 'DX.PRB', 'DX.PRC', 'DXC', 'DY', 'DYFN', 'E', 'EAF', 'EAI', 'EARN', 'EAT', 'EB', 'EBF', 'EBR', 'EBR.B', 'EBS', 'EC', 'ECC', 'ECCB', 'ECCX', 'ECCY', 'ECL', 'ECOM', 'ED', 'EDD', 'EDF', 'EDI', 'EDN', 'EDU', 'EEA', 'EEX', 'EFC', 'EFC.PRA', 'EFF', 'EFL', 'EFR', 'EFT', 'EFX', 'EGF', 'EGHT', 'EGO', 'EGP', 'EGY', 'EHC', 'EHI', 'EHT', 'EIC', 'EIG', 'EIX', 'EL', 'ELAN', 'ELAT', 'ELC', 'ELF', 'ELP', 'ELS', 'ELVT', 'ELY', 'EMD', 'EME', 'EMF', 'EMN', 'EMO', 'EMP', 'EMPW', 'EMPW.U', 'EMPW.WS', 'EMR', 'ENB', 'ENBA', 'ENBL', 'ENIA', 'ENIC', 'ENJ', 'ENLC', 'ENO', 'ENPC', 'ENPC.U', 'ENPC.WS', 'ENR', 'ENR.PRA', 'ENS', 'ENV', 'ENVA', 'ENZ', 'EOD', 'EOG', 'EOI', 'EOS', 'EOT', 'EP.PRC', 'EPAC', 'EPAM', 'EPC', 'EPD', 'EPR', 'EPR.PRC', 'EPR.PRE', 'EPR.PRG', 'EPRT', 'EPWR.U', 'EQC', 'EQC.PRD', 'EQD', 'EQD.U', 'EQD.WS', 'EQH', 'EQH.PRA', 'EQH.PRC', 'EQNR', 'EQR', 'EQS', 'EQT', 'ERF', 'ERJ', 'ES', 'ESE', 'ESGC', 'ESI', 'ESNT', 'ESRT', 'ESS', 'ESTC', 'ESTE', 'ET', 'ETB', 'ETG', 'ETH', 'ETI.PR', 'ETJ', 'ETM', 'ETN', 'ETO', 'ETP.PRC', 'ETP.PRD', 'ETP.PRE', 'ETR', 'ETRN', 'ETV', 'ETW', 'ETX', 'ETY', 'EURN', 'EV', 'EVA', 'EVC', 'EVF', 'EVG', 'EVH', 'EVN', 'EVR', 'EVRG', 'EVRI', 'EVT', 'EVTC', 'EW', 'EXD', 'EXG', 'EXK', 'EXP', 'EXPR', 'EXR', 'EXTN', 'F', 'F.PRB', 'F.PRC', 'FAF', 'FAII', 'FAII.U', 'FAII.WS', 'FAM', 'FBC', 'FBHS', 'FBK', 'FBM', 'FBP', 'FC', 'FCAX.U', 'FCF', 'FCN', 'FCPT', 'FCRW', 'FCRZ', 'FCT', 'FCX', 'FDEU', 'FDP', 'FDX', 'FE', 'FEDU', 'FEI', 'FENG', 'FEO', 'FET', 'FF', 'FFA', 'FFC', 'FFG', 'FGB', 'FGNA', 'FGNA.U', 'FGNA.WS', 'FHI', 'FHN', 'FHN.PRA', 'FHN.PRB', 'FHN.PRC', 'FHN.PRD', 'FHN.PRE', 'FI', 'FICO', 'FIF', 'FINS', 'FINV', 'FIS', 'FIV', 'FIX', 'FL', 'FLC', 'FLNG', 'FLO', 'FLOW', 'FLR', 'FLS', 'FLT', 'FLY', 'FMAC', 'FMAC.U', 'FMAC.WS', 'FMC', 'FMN', 'FMO', 'FMS', 'FMX', 'FMY', 'FN', 'FNB', 'FNB.PRE', 'FND', 'FNF', 'FNV', 'FOE', 'FOF', 'FOR', 'FOUR', 'FPAC', 'FPAC.U', 'FPAC.WS', 'FPF', 'FPH', 'FPI', 'FPI.PRB', 'FPL', 'FR', 'FRA', 'FRC', 'FRC.PRG', 'FRC.PRH', 'FRC.PRI', 'FRC.PRJ', 'FRC.PRK', 'FRO', 'FRT', 'FRT.PRC', 'FRX', 'FRX.U', 'FRX.WS', 'FSD', 'FSK', 'FSKR', 'FSLF', 'FSLY', 'FSM', 'FSR', 'FSR.WS', 'FSS', 'FST', 'FST.U', 'FST.WS', 'FT', 'FTAI', 'FTAI.PRA', 'FTAI.PRB', 'FTCH', 'FTHY', 'FTI', 'FTK', 'FTS', 'FTV', 'FTV.PRA', 'FUBO', 'FUL', 'FUN', 'FUSE', 'FUSE.U', 'FUSE.WS', 'FVRR', 'FVT.U', 'G', 'GAB', 'GAB.PRG', 'GAB.PRH', 'GAB.PRJ', 'GAB.PRK', 'GAM', 'GAM.PRB', 'GATO', 'GATX', 'GB', 'GB.WS', 'GBAB', 'GBL', 'GBX', 'GCI', 'GCO', 'GCP', 'GCV', 'GD', 'GDDY', 'GDL', 'GDL.PRC', 'GDO', 'GDOT', 'GDV', 'GDV.PRG', 'GDV.PRH', 'GE', 'GEF', 'GEF.B', 'GEL', 'GEN', 'GEO', 'GER', 'GES', 'GF', 'GFF', 'GFI', 'GFL', 'GFLU', 'GFX.U', 'GGB', 'GGG', 'GGM', 'GGT', 'GGT.PRE', 'GGT.PRG', 'GGZ', 'GGZ.PRA', 'GHC', 'GHG', 'GHL', 'GHLD', 'GHM', 'GHY', 'GIB', 'GIK', 'GIK.U', 'GIK.WS', 'GIL', 'GIM', 'GIS', 'GIX', 'GIX.RT', 'GIX.U', 'GIX.WS', 'GJH', 'GJO', 'GJP', 'GJR', 'GJS', 'GJT', 'GKOS', 'GL', 'GL.PRC', 'GLEO', 'GLEO.U', 'GLEO.WS', 'GLOB', 'GLOG', 'GLOG.PRA', 'GLOP', 'GLOP.PRA', 'GLOP.PRB', 'GLOP.PRC', 'GLP', 'GLP.PRA', 'GLT', 'GLW', 'GM', 'GME', 'GMED', 'GMRE', 'GMRE.PRA', 'GMS', 'GMTA', 'GNE', 'GNE.PRA', 'GNK', 'GNL', 'GNL.PRA', 'GNL.PRB', 'GNPK', 'GNPK.U', 'GNPK.WS', 'GNRC', 'GNT', 'GNT.PRA', 'GNW', 'GOAC', 'GOAC.U', 'GOAC.WS', 'GOF', 'GOL', 'GOLD', 'GOLF', 'GOOS', 'GPC', 'GPI', 'GPJA', 'GPK', 'GPM', 'GPMT', 'GPN', 'GPRK', 'GPS', 'GPX', 'GRA', 'GRC', 'GRP.U', 'GRUB', 'GRX', 'GS', 'GS.PRA', 'GS.PRC', 'GS.PRD', 'GS.PRJ', 'GS.PRK', 'GS.PRN', 'GSAH', 'GSAH.U', 'GSAH.WS', 'GSBD', 'GSK', 'GSL', 'GSL.PRB', 'GSLD', 'GSX', 'GTES', 'GTN', 'GTN.A', 'GTS', 'GTT', 'GTY', 'GUT', 'GUT.PRA', 'GUT.PRC', 'GVA', 'GWB', 'GWRE', 'GWW', 'GYC', 'H', 'HAE', 'HAL', 'HASI', 'HBB', 'HBI', 'HBM', 'HCA', 'HCC', 'HCHC', 'HCI', 'HCXY', 'HCXZ', 'HD', 'HDB', 'HE', 'HEI', 'HEI/A', 'HEP', 'HEQ', 'HES', 'HESM', 'HEXO', 'HFC', 'HFRO', 'HFRO.PRA', 'HGH', 'HGLB', 'HGV', 'HHC', 'HI', 'HIE', 'HIG', 'HIG.PRG', 'HIGA', 'HIGA.U', 'HIGA.WS', 'HII', 'HIL', 'HIMS', 'HIMS.WS', 'HIO', 'HIW', 'HIX', 'HKIB', 'HL', 'HL.PRB', 'HLF', 'HLI', 'HLT', 'HLX', 'HMC', 'HMI', 'HMLP', 'HMLP.PRA', 'HMN', 'HMY', 'HNGR', 'HNI', 'HNP', 'HOG', 'HOME', 'HON', 'HOV', 'HP', 'HPE', 'HPF', 'HPI', 'HPP', 'HPQ', 'HPR', 'HPS', 'HPX', 'HPX.U', 'HPX.WS', 'HQH', 'HQL', 'HR', 'HRB', 'HRC', 'HRI', 'HRL', 'HRTG', 'HSBC', 'HSC', 'HSY', 'HT', 'HT.PRC', 'HT.PRD', 'HT.PRE', 'HTA', 'HTD', 'HTFA', 'HTGC', 'HTH', 'HTPA', 'HTPA.U', 'HTPA.WS', 'HTY', 'HUBB', 'HUBS', 'HUM', 'HUN', 'HUYA', 'HVT', 'HVT/A', 'HWM', 'HXL', 'HY', 'HYB', 'HYI', 'HYLN', 'HYT', 'HZAC', 'HZAC.U', 'HZAC.WS', 'HZN', 'HZO', 'HZON', 'HZON.U', 'HZON.WS', 'IAA', 'IACA', 'IACA.U', 'IACA.WS', 'IAE', 'IAG', 'IBA', 'IBM', 'IBN', 'IBP', 'ICD', 'ICE', 'ICL', 'IDA', 'IDE', 'IDT', 'IEX', 'IFF', 'IFF.WI', 'IFFT', 'IFN', 'IFS', 'IGA', 'IGD', 'IGI', 'IGR', 'IGT', 'IH', 'IHC', 'IHD', 'IHG', 'IHIT', 'IHTA', 'IIAC', 'IIAC.U', 'IIAC.WS', 'IID', 'IIF', 'IIM', 'IIPR', 'IIPR.PRA', 'IMAX', 'IMPX', 'IMPX.U', 'IMPX.WS', 'INFO', 'INFY', 'ING', 'INGR', 'INN', 'INN.PRD', 'INN.PRE', 'INSI', 'INSP', 'INSW', 'INSW.PRA', 'INT', 'INVH', 'IO', 'IP', 'IPG', 'IPI', 'IPOD', 'IPOD.U', 'IPOD.WS', 'IPOE', 'IPOE.U', 'IPOE.WS', 'IPOF', 'IPOF.U', 'IPOF.WS', 'IPV', 'IPV.U', 'IPV.WS', 'IQI', 'IQV', 'IR', 'IRL', 'IRM', 'IRR', 'IRS', 'IRT', 'ISD', 'IT', 'ITCB', 'ITGR', 'ITT', 'ITUB', 'ITW', 'IVAN.U', 'IVC', 'IVH', 'IVR', 'IVR.PRA', 'IVR.PRB', 'IVR.PRC', 'IVZ', 'IX', 'J', 'JAX', 'JBGS', 'JBK', 'JBL', 'JBT', 'JCE', 'JCI', 'JCO', 'JDD', 'JE', 'JEF', 'JELD', 'JEMD', 'JEQ', 'JFR', 'JGH', 'JHAA', 'JHB', 'JHG', 'JHI', 'JHS', 'JHX', 'JIH', 'JIH.U', 'JIH.WS', 'JILL', 'JKS', 'JLL', 'JLS', 'JMIA', 'JMM', 'JMP', 'JNJ', 'JNPR', 'JOE', 'JOF', 'JP', 'JPC', 'JPI', 'JPM', 'JPM.PRC', 'JPM.PRD', 'JPM.PRG', 'JPM.PRH', 'JPM.PRJ', 'JPS', 'JPT', 'JQC', 'JRI', 'JRO', 'JRS', 'JSD', 'JT', 'JTA', 'JTD', 'JW/A', 'JW/B', 'JWN', 'JWS', 'JWS.U', 'JWS.WS', 'K', 'KAI', 'KAMN', 'KAR', 'KB', 'KBH', 'KBR', 'KEN', 'KEP', 'KEX', 'KEY', 'KEY.PRI', 'KEY.PRJ', 'KEY.PRK', 'KEYS', 'KF', 'KFS', 'KFY', 'KGC', 'KIM', 'KIM.PRL', 'KIM.PRM', 'KIO', 'KKR', 'KKR.PRA', 'KKR.PRB', 'KKR.PRC', 'KL', 'KMB', 'KMF', 'KMI', 'KMPR', 'KMT', 'KMX', 'KN', 'KNL', 'KNOP', 'KNX', 'KO', 'KODK', 'KOF', 'KOP', 'KOS', 'KR', 'KRA', 'KRC', 'KREF', 'KRG', 'KRO', 'KRP', 'KSM', 'KSS', 'KSU', 'KSU.PR', 'KT', 'KTB', 'KTF', 'KTH', 'KTN', 'KUKE', 'KW', 'KWAC.U', 'KWR', 'KYN', 'L', 'LAC', 'LAD', 'LADR', 'LAIX', 'LAZ', 'LB', 'LBRT', 'LC', 'LCI', 'LCII', 'LDL', 'LDOS', 'LDP', 'LEA', 'LEAF', 'LEAP', 'LEAP.U', 'LEAP.WS', 'LEE', 'LEG', 'LEJU', 'LEN', 'LEN.B', 'LEO', 'LEVI', 'LFC', 'LFT', 'LGF.A', 'LGF.B', 'LGI', 'LGVW', 'LGVW.U', 'LGVW.WS', 'LH', 'LHC.U', 'LHX', 'LII', 'LIN', 'LINX', 'LITB', 'LL', 'LLY', 'LMND', 'LMT', 'LNC', 'LND', 'LNFA', 'LNFA.U', 'LNFA.WS', 'LNN', 'LOKB', 'LOKB.U', 'LOKB.WS', 'LOMA', 'LOW', 'LPG', 'LPI', 'LPL', 'LPX', 'LRN', 'LSI', 'LSPD', 'LTC', 'LTHM', 'LU', 'LUB', 'LUMN', 'LUV', 'LVS', 'LW', 'LXP', 'LXP.PRC', 'LXU', 'LYB', 'LYG', 'LYV', 'LZB', 'M', 'MA', 'MAA', 'MAA.PRI', 'MAC', 'MAIN', 'MAN', 'MANU', 'MAS', 'MATX', 'MAV', 'MAX', 'MAXR', 'MBI', 'MBT', 'MC', 'MCA', 'MCB', 'MCD', 'MCI', 'MCK', 'MCN', 'MCO', 'MCR', 'MCS', 'MCY', 'MD', 'MDC', 'MDLA', 'MDLQ', 'MDLX', 'MDLY', 'MDP', 'MDT', 'MDU', 'MEC', 'MED', 'MEG', 'MEI', 'MEN', 'MER.PRK', 'MET', 'MET.PRA', 'MET.PRE', 'MET.PRF', 'MFA', 'MFA.PRB', 'MFA.PRC', 'MFC', 'MFD', 'MFG', 'MFGP', 'MFL', 'MFM', 'MFT', 'MFV', 'MG', 'MGA', 'MGF', 'MGM', 'MGP', 'MGR', 'MGRB', 'MGU', 'MGY', 'MH.PRA', 'MH.PRC', 'MH.PRD', 'MHD', 'MHE', 'MHF', 'MHI', 'MHK', 'MHLA', 'MHN', 'MHNC', 'MHO', 'MIC', 'MIE', 'MIN', 'MITT', 'MITT.PRA', 'MITT.PRB', 'MITT.PRC', 'MIXT', 'MIY', 'MKC', 'MKC.V', 'MKL', 'MLI', 'MLM', 'MLP', 'MLR', 'MMC', 'MMD', 'MMI', 'MMM', 'MMP', 'MMS', 'MMT', 'MMU', 'MN', 'MNP', 'MNR', 'MNR.PRC', 'MNRL', 'MNSO', 'MO', 'MOD', 'MODN', 'MOG.A', 'MOG.B', 'MOGU', 'MOH', 'MOS', 'MOTV.U', 'MOV', 'MP', 'MP.WS', 'MPA', 'MPC', 'MPLN', 'MPLN.WS', 'MPLX', 'MPV', 'MPW', 'MPX', 'MQT', 'MQY', 'MRC', 'MRK', 'MRO', 'MS', 'MS.PRA', 'MS.PRE', 'MS.PRF', 'MS.PRI', 'MS.PRK', 'MS.PRL', 'MSA', 'MSB', 'MSC', 'MSCI', 'MSD', 'MSGE', 'MSGN', 'MSGS', 'MSI', 'MSM', 'MSP', 'MT', 'MTB', 'MTCN', 'MTD', 'MTDR', 'MTG', 'MTH', 'MTL', 'MTL.PR', 'MTN', 'MTOR', 'MTR', 'MTRN', 'MTT', 'MTW', 'MTX', 'MTZ', 'MUA', 'MUC', 'MUE', 'MUFG', 'MUH', 'MUI', 'MUJ', 'MUR', 'MUS', 'MUSA', 'MUX', 'MVF', 'MVO', 'MVT', 'MWA', 'MX', 'MXE', 'MXF', 'MXL', 'MYC', 'MYD', 'MYE', 'MYF', 'MYI', 'MYJ', 'MYN', 'MYOV', 'MYTE', 'MZA', 'NAC', 'NAD', 'NAN', 'NAT', 'NAV', 'NAV.PRD', 'NAZ', 'NBB', 'NBHC', 'NBR', 'NBR.PRA', 'NC', 'NCA', 'NCB', 'NCLH', 'NCR', 'NCV', 'NCV.PRA', 'NCZ', 'NCZ.PRA', 'NDMO', 'NDP', 'NEA', 'NEE', 'NEE.PRK', 'NEE.PRN', 'NEE.PRO', 'NEE.PRP', 'NEE.PRQ', 'NEM', 'NEP', 'NET', 'NEU', 'NEV', 'NEW', 'NEWR', 'NEX', 'NEXA', 'NFG', 'NFH', 'NFH.WS', 'NFJ', 'NGA', 'NGA.U', 'NGA.WS', 'NGAB.U', 'NGG', 'NGL', 'NGL.PRB', 'NGL.PRC', 'NGS', 'NGVC', 'NGVT', 'NHA', 'NHF', 'NHF.PRA', 'NHI', 'NI', 'NI.PRB', 'NID', 'NIE', 'NIM', 'NINE', 'NIO', 'NIQ', 'NJR', 'NJV', 'NKE', 'NKG', 'NKX', 'NL', 'NLS', 'NLSN', 'NLY', 'NLY.PRF', 'NLY.PRG', 'NLY.PRI', 'NM', 'NM.PRG', 'NM.PRH', 'NMCO', 'NMI', 'NMK.PRB', 'NMK.PRC', 'NMM', 'NMR', 'NMS', 'NMT', 'NMY', 'NMZ', 'NNA', 'NNI', 'NNN', 'NNN.PRF', 'NNY', 'NOA', 'NOAH', 'NOC', 'NOK', 'NOM', 'NOMD', 'NOV', 'NOVA', 'NOW', 'NP', 'NPK', 'NPN', 'NPO', 'NPTN', 'NPV', 'NQP', 'NR', 'NREF', 'NREF.PRA', 'NRG', 'NRGX', 'NRK', 'NRP', 'NRT', 'NRUC', 'NRZ', 'NRZ.PRA', 'NRZ.PRB', 'NRZ.PRC', 'NS', 'NS.PRA', 'NS.PRB', 'NS.PRC', 'NSA', 'NSA.PRA', 'NSC', 'NSCO', 'NSCO.WS', 'NSH', 'NSH.U', 'NSH.WS', 'NSL', 'NSP', 'NSS', 'NSTB.U', 'NTB', 'NTCO', 'NTG', 'NTP', 'NTR', 'NTST', 'NTZ', 'NUE', 'NUM', 'NUO', 'NUS', 'NUV', 'NUW', 'NVG', 'NVGS', 'NVO', 'NVR', 'NVRO', 'NVS', 'NVST', 'NVT', 'NVTA', 'NWG', 'NWHM', 'NWN', 'NX', 'NXC', 'NXJ', 'NXN', 'NXP', 'NXQ', 'NXR', 'NXRT', 'NYC', 'NYCB', 'NYCB.PRA', 'NYCB.PRU', 'NYT', 'NYV', 'NZF', 'O', 'OACB', 'OACB.U', 'OACB.WS', 'OAK.PRA', 'OAK.PRB', 'OC', 'OCA', 'OCA.U', 'OCA.WS', 'OCFT', 'OCN', 'ODC', 'OEC', 'OFC', 'OFG', 'OFG.PRA', 'OFG.PRB', 'OFG.PRD', 'OGE', 'OGS', 'OHI', 'OI', 'OIA', 'OIBR.C', 'OII', 'OIS', 'OKE', 'OLN', 'OLP', 'OMC', 'OMF', 'OMI', 'ONE', 'ONTO', 'OOMA', 'OPP', 'OPP.PRA', 'OPY', 'OR', 'ORA', 'ORAN', 'ORC', 'ORCC', 'ORCL', 'ORI', 'ORN', 'OSB', 'OSG', 'OSH', 'OSK', 'OTIS', 'OUT', 'OVV', 'OXM', 'OXY', 'OXY.WS', 'PAC', 'PACE', 'PACE.U', 'PACE.WS', 'PACK', 'PAG', 'PAGS', 'PAI', 'PAM', 'PANA', 'PANA.U', 'PANA.WS', 'PANW', 'PAR', 'PARR', 'PAYC', 'PB', 'PBA', 'PBB', 'PBC', 'PBF', 'PBFX', 'PBH', 'PBI', 'PBI.PRB', 'PBR', 'PBR.A', 'PBT', 'PBY', 'PCF', 'PCG', 'PCGU', 'PCI', 'PCK', 'PCM', 'PCN', 'PCPC.U', 'PCPL', 'PCPL.U', 'PCPL.WS', 'PCQ', 'PD', 'PDAC', 'PDAC.U', 'PDAC.WS', 'PDI', 'PDM', 'PDS', 'PDT', 'PEAK', 'PEB', 'PEB.PRC', 'PEB.PRD', 'PEB.PRE', 'PEB.PRF', 'PEG', 'PEI', 'PEI.PRB', 'PEI.PRC', 'PEI.PRD', 'PEN', 'PEO', 'PFD', 'PFE', 'PFGC', 'PFH', 'PFL', 'PFN', 'PFO', 'PFS', 'PFSI', 'PG', 'PGP', 'PGR', 'PGRE', 'PGTI', 'PGZ', 'PH', 'PHD', 'PHG', 'PHI', 'PHK', 'PHM', 'PHR', 'PHT', 'PHX', 'PIAI', 'PIAI.U', 'PIAI.WS', 'PII', 'PIM', 'PINE', 'PING', 'PINS', 'PIPP', 'PIPP.U', 'PIPP.WS', 'PIPR', 'PJT', 'PK', 'PKE', 'PKG', 'PKI', 'PKO', 'PKX', 'PLAN', 'PLD', 'PLNT', 'PLOW', 'PLT', 'PLTR', 'PLYM', 'PM', 'PMF', 'PML', 'PMM', 'PMO', 'PMT', 'PMT.PRA', 'PMT.PRB', 'PMVC', 'PMVC.U', 'PMVC.WS', 'PMX', 'PNC', 'PNC.PRP', 'PNF', 'PNI', 'PNM', 'PNR', 'PNTM.U', 'PNW', 'POR', 'POST', 'PPG', 'PPL', 'PPR', 'PPT', 'PPX', 'PQG', 'PRA', 'PRE.PRG', 'PRE.PRH', 'PRE.PRI', 'PRG', 'PRGO', 'PRI', 'PRIF.PRA', 'PRIF.PRB', 'PRIF.PRC', 'PRIF.PRD', 'PRIF.PRE', 'PRIF.PRF', 'PRLB', 'PRMW', 'PRO', 'PROS', 'PRPB', 'PRPB.U', 'PRPB.WS', 'PRS', 'PRSP', 'PRT', 'PRTY', 'PRU', 'PSA', 'PSA.PRC', 'PSA.PRD', 'PSA.PRE', 'PSA.PRF', 'PSA.PRG', 'PSA.PRH', 'PSA.PRI', 'PSA.PRJ', 'PSA.PRK', 'PSA.PRL', 'PSA.PRM', 'PSA.PRN', 'PSA.PRO', 'PSB', 'PSB.PRW', 'PSB.PRX', 'PSB.PRY', 'PSB.PRZ', 'PSF', 'PSN', 'PSO', 'PSTG', 'PSTH', 'PSTH.WS', 'PSTL', 'PSX', 'PSXP', 'PTA', 'PTR', 'PTY', 'PUK', 'PUK.PR', 'PUK.PRA', 'PUMP', 'PV.U', 'PVG', 'PVH', 'PVL', 'PWR', 'PXD', 'PYN', 'PYS', 'PYT', 'PZC', 'PZN', 'QD', 'QEP', 'QGEN', 'QS', 'QS.WS', 'QSR', 'QTS', 'QTS.PRA', 'QTS.PRB', 'QTWO', 'QUAD', 'QUOT', 'QVCC', 'QVCD', 'R', 'RA', 'RACE', 'RAD', 'RAMP', 'RBA', 'RBAC', 'RBAC.U', 'RBAC.WS', 'RBC', 'RC', 'RCA', 'RCB', 'RCI', 'RCL', 'RCP', 'RCS', 'RCUS', 'RDN', 'RDS.A', 'RDS/B', 'RDY', 'RE', 'RELX', 'RENN', 'RES', 'REV', 'REVG', 'REX', 'REXR', 'REXR.PRA', 'REXR.PRB', 'REXR.PRC', 'REZI', 'RF', 'RF.PRA', 'RF.PRB', 'RF.PRC', 'RFI', 'RFL', 'RFM', 'RFP', 'RGA', 'RGR', 'RGS', 'RGT', 'RH', 'RHI', 'RHP', 'RICE', 'RICE.U', 'RICE.WS', 'RIG', 'RIO', 'RIV', 'RJF', 'RKT', 'RL', 'RLGY', 'RLH', 'RLI', 'RLJ', 'RLJ.PRA', 'RLX', 'RM', 'RMAX', 'RMD', 'RMI', 'RMM', 'RMO', 'RMO.WS', 'RMPL.PR', 'RMT', 'RNG', 'RNGR', 'RNP', 'RNR', 'RNR.PRE', 'RNR.PRF', 'ROG', 'ROK', 'ROL', 'ROP', 'ROT.U', 'RPAI', 'RPLA', 'RPLA.U', 'RPLA.WS', 'RPM', 'RPT', 'RPT.PRD', 'RQI', 'RRC', 'RRD', 'RS', 'RSF', 'RSG', 'RSI', 'RSI.WS', 'RTP', 'RTP.U', 'RTP.WS', 'RTPZ', 'RTPZ.U', 'RTPZ.WS', 'RTX', 'RVI', 'RVLV', 'RVT', 'RWT', 'RXN', 'RY', 'RY.PRT', 'RYAM', 'RYB', 'RYI', 'RYN', 'RZA', 'RZB', 'SA', 'SAF', 'SAFE', 'SAH', 'SAIC', 'SAIL', 'SAK', 'SALT', 'SAM', 'SAN', 'SAND', 'SAP', 'SAR', 'SAVE', 'SB', 'SB.PRC', 'SB.PRD', 'SBBA', 'SBE', 'SBE.U', 'SBE.WS', 'SBG', 'SBG.U', 'SBG.WS', 'SBH', 'SBI', 'SBOW', 'SBR', 'SBS', 'SBSW', 'SC', 'SCA', 'SCCO', 'SCD', 'SCE.PRG', 'SCE.PRH', 'SCE.PRJ', 'SCE.PRK', 'SCE.PRL', 'SCHW', 'SCHW.PRC', 'SCHW.PRD', 'SCI', 'SCL', 'SCM', 'SCPE', 'SCPE.U', 'SCPE.WS', 'SCS', 'SCU', 'SCVX', 'SCVX.U', 'SCVX.WS', 'SCX', 'SD', 'SDHY', 'SE', 'SEAH', 'SEAH.U', 'SEAH.WS', 'SEAS', 'SEE', 'SEM', 'SF', 'SF.PRA', 'SF.PRB', 'SF.PRC', 'SFB', 'SFE', 'SFL', 'SFTW', 'SFTW.U', 'SFTW.WS', 'SFUN', 'SGU', 'SHAK', 'SHG', 'SHI', 'SHLX', 'SHO', 'SHO.PRE', 'SHO.PRF', 'SHOP', 'SHW', 'SI', 'SID', 'SIG', 'SII', 'SITC', 'SITC.PRA', 'SITC.PRK', 'SITE', 'SIX', 'SJI', 'SJIJ', 'SJIU', 'SJM', 'SJR', 'SJT', 'SJW', 'SKLZ', 'SKLZ.WS', 'SKM', 'SKT', 'SKX', 'SKY', 'SLB', 'SLCA', 'SLF', 'SLG', 'SLG.PRI', 'SLQT', 'SM', 'SMAR', 'SMFG', 'SMG', 'SMHI', 'SMLP', 'SMM', 'SMP', 'SNA', 'SNAP', 'SNDR', 'SNE', 'SNN', 'SNOW', 'SNP', 'SNPR', 'SNPR.U', 'SNPR.WS', 'SNR', 'SNV', 'SNV.PRD', 'SNV.PRE', 'SNX', 'SO', 'SOAC', 'SOAC.U', 'SOAC.WS', 'SOGO', 'SOI', 'SOJB', 'SOJC', 'SOJD', 'SOJE', 'SOL', 'SOLN', 'SON', 'SOR', 'SOS', 'SPB', 'SPCE', 'SPE', 'SPE.PRB', 'SPFR', 'SPFR.U', 'SPFR.WS', 'SPG', 'SPG.PRJ', 'SPGI', 'SPH', 'SPLP', 'SPLP.PRA', 'SPNV', 'SPNV.U', 'SPNV.WS', 'SPOT', 'SPR', 'SPRQ', 'SPRQ.U', 'SPRQ.WS', 'SPXC', 'SPXX', 'SQ', 'SQM', 'SQNS', 'SQZ', 'SR', 'SR.PRA', 'SRC', 'SRC.PRA', 'SRE', 'SRE.PRB', 'SREA', 'SRG', 'SRG.PRA', 'SRI', 'SRL', 'SRLP', 'SRT', 'SRV', 'SSD', 'SSL', 'SSTK', 'ST', 'STAG', 'STAG.PRC', 'STAR', 'STAR.PRD', 'STAR.PRG', 'STAR.PRI', 'STC', 'STE', 'STG', 'STIC', 'STIC.U', 'STIC.WS', 'STK', 'STL', 'STL.PRA', 'STLA', 'STM', 'STN', 'STNG', 'STON', 'STOR', 'STPC.U', 'STPK', 'STPK.U', 'STPK.WS', 'STT', 'STT.PRD', 'STT.PRG', 'STWD', 'STZ', 'STZ/B', 'SU', 'SUI', 'SUM', 'SUN', 'SUP', 'SUPV', 'SUZ', 'SWBK.U', 'SWCH', 'SWI', 'SWK', 'SWM', 'SWN', 'SWT', 'SWX', 'SWZ', 'SXC', 'SXI', 'SXT', 'SYF', 'SYF.PRA', 'SYK', 'SYX', 'SYY', 'SZC', 'T', 'T.PRA', 'T.PRC', 'TAC', 'TACA', 'TACA.U', 'TACA.WS', 'TAK', 'TAL', 'TALO', 'TAP', 'TAP.A', 'TARO', 'TBA', 'TBB', 'TBC', 'TBI', 'TCI', 'TCP', 'TCS', 'TD', 'TDA', 'TDC', 'TDE', 'TDF', 'TDG', 'TDI', 'TDJ', 'TDOC', 'TDS', 'TDW', 'TDW.WS.A', 'TDW.WS.B', 'TDY', 'TEAF', 'TECK', 'TEF', 'TEI', 'TEL', 'TEN', 'TEO', 'TEVA', 'TEX', 'TFC', 'TFC.PRF', 'TFC.PRG', 'TFC.PRH', 'TFC.PRI', 'TFC.PRO', 'TFC.PRR', 'TFII', 'TFX', 'TG', 'TGH', 'TGI', 'TGNA', 'TGP', 'TGP.PRA', 'TGP.PRB', 'TGS', 'TGT', 'THC', 'THG', 'THO', 'THQ', 'THR', 'THS', 'THW', 'TIMB', 'TINV', 'TINV.U', 'TINV.WS', 'TISI', 'TJX', 'TK', 'TKC', 'TKR', 'TLK', 'TLYS', 'TM', 'TME', 'TMHC', 'TMO', 'TMST', 'TMX', 'TNC', 'TNET', 'TNK', 'TNP', 'TNP.PRD', 'TNP.PRE', 'TNP.PRF', 'TOL', 'TOT', 'TPB', 'TPC', 'TPGY', 'TPGY.U', 'TPGY.WS', 'TPH', 'TPL', 'TPR', 'TPRE', 'TPVG', 'TPVY', 'TPX', 'TPZ', 'TR', 'TRC', 'TREB', 'TREB.U', 'TREB.WS', 'TREC', 'TREX', 'TRGP', 'TRI', 'TRN', 'TRNO', 'TROX', 'TRP', 'TRQ', 'TRTN', 'TRTN.PRA', 'TRTN.PRB', 'TRTN.PRC', 'TRTN.PRD', 'TRTX', 'TRU', 'TRV', 'TS', 'TSE', 'TSI', 'TSLX', 'TSM', 'TSN', 'TSQ', 'TT', 'TTC', 'TTI', 'TTM', 'TTP', 'TU', 'TUFN', 'TUP', 'TV', 'TVC', 'TVE', 'TWI', 'TWLO', 'TWN', 'TWND', 'TWND.U', 'TWND.WS', 'TWO', 'TWO.PRA', 'TWO.PRB', 'TWO.PRC', 'TWO.PRD', 'TWO.PRE', 'TWTR', 'TX', 'TXT', 'TY', 'TY.PR', 'TYG', 'TYL', 'U', 'UA', 'UAA', 'UAN', 'UBA', 'UBER', 'UBP', 'UBP.PRH', 'UBP.PRK', 'UBS', 'UDR', 'UE', 'UFI', 'UFS', 'UGI', 'UGP', 'UHS', 'UHT', 'UI', 'UIS', 'UL', 'UMC', 'UMH', 'UMH.PRC', 'UMH.PRD', 'UNF', 'UNFI', 'UNH', 'UNM', 'UNMA', 'UNP', 'UNVR', 'UPS', 'URI', 'USA', 'USAC', 'USB', 'USB.PRA', 'USB.PRH', 'USB.PRM', 'USB.PRP', 'USB.PRQ', 'USDP', 'USFD', 'USM', 'USNA', 'USPH', 'USX', 'UTF', 'UTI', 'UTL', 'UTZ', 'UVE', 'UVV', 'UWMC', 'UWMC.WS', 'UZA', 'UZB', 'UZC', 'UZD', 'UZE', 'V', 'VAC', 'VALE', 'VAPO', 'VAR', 'VBF', 'VCIF', 'VCRA', 'VCV', 'VEC', 'VEDL', 'VEEV', 'VEL', 'VER', 'VER.PRF', 'VET', 'VFC', 'VGAC', 'VGAC.U', 'VGAC.WS', 'VGI', 'VGM', 'VGR', 'VHC', 'VHI', 'VIAO', 'VICI', 'VIPS', 'VIST', 'VIV', 'VKQ', 'VLO', 'VLRS', 'VLT', 'VMC', 'VMI', 'VMO', 'VMW', 'VNCE', 'VNE', 'VNO', 'VNO.PRK', 'VNO.PRL', 'VNO.PRM', 'VNO.PRN', 'VNT', 'VNTR', 'VOC', 'VOYA', 'VOYA.PRB', 'VPG', 'VPV', 'VRS', 'VRT', 'VRTV', 'VSH', 'VST', 'VST.WS.A', 'VSTO', 'VTA', 'VTN', 'VTOL', 'VTR', 'VVI', 'VVNT', 'VVR', 'VVV', 'VYGG', 'VYGG.U', 'VYGG.WS', 'W', 'WAB', 'WAL', 'WALA', 'WAT', 'WBAI', 'WBK', 'WBS', 'WBS.PRF', 'WBT', 'WCC', 'WCC.PRA', 'WCN', 'WD', 'WDR', 'WEA', 'WEC', 'WEI', 'WELL', 'WES', 'WEX', 'WF', 'WFC', 'WFC.PRA', 'WFC.PRL', 'WFC.PRN', 'WFC.PRO', 'WFC.PRP', 'WFC.PRQ', 'WFC.PRR', 'WFC.PRW', 'WFC.PRX', 'WFC.PRY', 'WFC.PRZ', 'WGO', 'WH', 'WHD', 'WHG', 'WHR', 'WIA', 'WIT', 'WIW', 'WK', 'WLK', 'WLKP', 'WLL', 'WM', 'WMB', 'WMC', 'WMK', 'WMS', 'WMT', 'WNC', 'WNS', 'WOR', 'WORK', 'WOW', 'WPC', 'WPF', 'WPF.U', 'WPF.WS', 'WPG', 'WPG.PRH', 'WPG.PRI', 'WPM', 'WPP', 'WRB', 'WRB.PRC', 'WRB.PRD', 'WRB.PRE', 'WRB.PRF', 'WRB.PRG', 'WRE', 'WRI', 'WRK', 'WSM', 'WSO', 'WSO/B', 'WSR', 'WST', 'WTI', 'WTM', 'WTRG', 'WTRU', 'WTS', 'WTTR', 'WU', 'WWE', 'WWW', 'WY', 'WYND', 'X', 'XAN', 'XAN.PRC', 'XEC', 'XFLT', 'XHR', 'XIN', 'XL', 'XL.WS', 'XOM', 'XPEV', 'XPO', 'XPOA', 'XPOA.U', 'XPOA.WS', 'XRX', 'XYF', 'XYL', 'Y', 'YAC', 'YAC.U', 'YAC.WS', 'YALA', 'YELP', 'YETI', 'YEXT', 'YPF', 'YRD', 'YSG', 'YUM', 'YUMC', 'ZBH', 'ZEN', 'ZNH', 'ZTO', 'ZTR', 'ZTS', 'ZUO', 'ZYME']\n"
          ],
          "name": "stdout"
        }
      ]
    },
    {
      "cell_type": "code",
      "metadata": {
        "id": "rq6VfKW0YuZu",
        "colab": {
          "base_uri": "https://localhost:8080/"
        },
        "outputId": "1c692ce2-56cf-4e91-eb33-86560a0b8c3b"
      },
      "source": [
        "#Removing stopwords and some common slangs\n",
        "\n",
        "from nltk.corpus import stopwords\n",
        "nltk.download('stopwords')\n",
        "\n",
        "remove_alphabet=['A','B','C','D','E','F','G','H','I','J','K','L','M','N','O','P','Q','R','S','T','U','V','W','','Y','Z', \"YOLO\", \"TOS\", \"CEO\", \"CFO\", \"CTO\", \"DD\", \"BTFD\", \"WSB\", \"OK\", \"RH\",\n",
        "      \"KYS\", \"FD\", \"TYS\", \"US\", \"USA\", \"IT\", \"ATH\", \"RIP\", \"BMW\", \"GDP\",\n",
        "      \"OTM\", \"ATM\", \"ITM\", \"IMO\", \"LOL\", \"DOJ\", \"BE\", \"PR\", \"PC\", \"ICE\",\n",
        "      \"TYS\", \"ISIS\", \"PRAY\", \"PT\", \"FBI\", \"SEC\", \"GOD\", \"NOT\", \"POS\", \"COD\",\n",
        "      \"AYYMD\", \"FOMO\", \"TL;DR\", \"EDIT\", \"STILL\", \"LGMA\", \"WTF\", \"RAW\", \"PM\",\n",
        "      \"LMAO\", \"LMFAO\", \"ROFL\", \"EZ\", \"RED\", \"BEZOS\", \"TICK\", \"IS\", \"DOW\"\n",
        "      \"AM\", \"PM\", \"LPT\", \"GOAT\", \"FL\", \"CA\", \"IL\", \"PDFUA\", \"MACD\", \"HQ\",\n",
        "      \"OP\", \"DJIA\", \"PS\", \"AH\", \"TL\", \"DR\", \"JAN\", \"FEB\", \"JUL\", \"AUG\",\n",
        "      \"SEP\", \"SEPT\", \"OCT\", \"NOV\", \"DEC\", \"FDA\", \"IV\", \"ER\", \"IPO\", \"RISE\"\n",
        "      \"IPA\", \"URL\", \"MILF\", \"BUT\", \"SSN\", \"FIFA\", \"USD\", \"CPU\", \"AT\",'TH',\n",
        "      \"GG\", \"ELON\", 'HE']\n",
        "\n",
        "for i in remove_alphabet:\n",
        "  if i in products_list:\n",
        "    products_list.remove(i)\n",
        "\n",
        "# for i in stopwords.words('english'):\n",
        "#   if i in products_list:\n",
        "#     products_list.remove(i)"
      ],
      "execution_count": null,
      "outputs": [
        {
          "output_type": "stream",
          "text": [
            "[nltk_data] Downloading package stopwords to /root/nltk_data...\n",
            "[nltk_data]   Package stopwords is already up-to-date!\n"
          ],
          "name": "stdout"
        }
      ]
    },
    {
      "cell_type": "code",
      "metadata": {
        "id": "bGPPt0OKHlEb",
        "colab": {
          "base_uri": "https://localhost:8080/"
        },
        "outputId": "1b7d0836-d9b2-4c68-8527-873f69297b9b"
      },
      "source": [
        "# tickers={k: 0 for v, k in enumerate(products_list)}\n",
        "# print(tickers)\n",
        "\n",
        "import nltk\n",
        "nltk.download('punkt')"
      ],
      "execution_count": null,
      "outputs": [
        {
          "output_type": "stream",
          "text": [
            "[nltk_data] Downloading package punkt to /root/nltk_data...\n",
            "[nltk_data]   Package punkt is already up-to-date!\n"
          ],
          "name": "stdout"
        },
        {
          "output_type": "execute_result",
          "data": {
            "text/plain": [
              "True"
            ]
          },
          "metadata": {
            "tags": []
          },
          "execution_count": 121
        }
      ]
    },
    {
      "cell_type": "markdown",
      "metadata": {
        "id": "XGI3_qSA36sX"
      },
      "source": [
        "# *Creates sorted list of most used ticker*"
      ]
    },
    {
      "cell_type": "code",
      "metadata": {
        "id": "vxSyRK_rXCNN"
      },
      "source": [
        "#counter_list counts the number of times the word has been said (counted_word) per comment\n",
        "# NOTE: COUNTS ONE TIME EVEN THOUGH THE WORD APPEARS TWICE>IN THE SAME COMMENT\n",
        "\n",
        "#Goes through hot post comments\n",
        "# i being the comment\n",
        "#Tokenize the comment\n",
        "#Looks at each word said in the comment and count how many was said: example: I I am free ; \"I\" count will be 2, am is 1, free is 1\n",
        "\n",
        "sentiment_per_mention =[]\n",
        "counter_lst =[]\n",
        "vader = SentimentIntensityAnalyzer()\n",
        "\n",
        "for comment in hot_post_comments:\n",
        "  sentiment=vader.polarity_scores(comment)['compound']\n",
        "  sentiment_per_mention.append(sentiment)\n",
        "  token=nltk.word_tokenize(comment)\n",
        "  for ticker in products_list:\n",
        "    if ticker in token: \n",
        "      counter_lst.append(ticker)\n",
        "\n",
        "#Creates a dataframe of each comment said the ticker + the sentiment of the comment\n",
        "df = pd.DataFrame(counter_lst,columns=['tickers'])\n",
        "df['sentiment'] = pd.DataFrame(sentiment_per_mention)\n"
      ],
      "execution_count": null,
      "outputs": []
    },
    {
      "cell_type": "code",
      "metadata": {
        "colab": {
          "base_uri": "https://localhost:8080/"
        },
        "id": "pxg6C4FyX3N0",
        "outputId": "ef03c187-461d-43ac-8540-bf08a958939a"
      },
      "source": [
        "#Creates two dictionary - number of times the word is said and the number of the cumulative sentiment\n",
        "wordfreq = {}\n",
        "wordsentiment = {}\n",
        "counter = 0\n",
        "for word in df['tickers']:\n",
        "    if word not in wordfreq:\n",
        "        wordfreq[word] = 0 \n",
        "        wordsentiment[word] = 0 \n",
        "    wordsentiment[word] += df['sentiment'][counter]\n",
        "    wordfreq[word] +=1\n",
        "    counter += 1\n",
        "\n",
        "#Check cumulative sentiment \n",
        "wordsentiment"
      ],
      "execution_count": null,
      "outputs": [
        {
          "output_type": "execute_result",
          "data": {
            "text/plain": [
              "{'AAPL': -0.5766,\n",
              " 'ALL': 0.4215,\n",
              " 'AM': 0.0,\n",
              " 'AMC': 2.8411,\n",
              " 'AMD': 1.8352,\n",
              " 'AMZN': 0.6956,\n",
              " 'APHA': 0.5994,\n",
              " 'ARE': 0.4019,\n",
              " 'BABA': 0.4404,\n",
              " 'BB': 0.4998,\n",
              " 'BIG': 0.0,\n",
              " 'BJ': 0.6361,\n",
              " 'CAN': 0.0,\n",
              " 'CC': 0.8225,\n",
              " 'CLOV': 0.0,\n",
              " 'CM': -0.6908,\n",
              " 'CMLF': -0.5574,\n",
              " 'COKE': -0.5574,\n",
              " 'CRSR': -0.128,\n",
              " 'CRTO': 0.3182,\n",
              " 'CVS': 0.1316,\n",
              " 'DIS': 0.0,\n",
              " 'DM': 0.0,\n",
              " 'EOD': -0.8402,\n",
              " 'ET': 0.8885,\n",
              " 'FAT': 0.0,\n",
              " 'FOR': 0.5574,\n",
              " 'GME': 8.635900000000001,\n",
              " 'GO': -0.04749999999999999,\n",
              " 'HA': -0.4804,\n",
              " 'HEXO': 0.0,\n",
              " 'IBKR': 0.0,\n",
              " 'IMAX': 0.8818,\n",
              " 'IQ': -0.2813,\n",
              " 'IRS': 0.4019,\n",
              " 'LEAP': -1.1636,\n",
              " 'LMND': -0.15659999999999996,\n",
              " 'LOVE': 0.9209,\n",
              " 'MAN': 1.0229,\n",
              " 'MGNI': 0.4448,\n",
              " 'MO': 0.0,\n",
              " 'MSFT': 0.2023,\n",
              " 'MT': 1.2827000000000002,\n",
              " 'MU': -0.3818,\n",
              " 'NIO': 0.0,\n",
              " 'NKLA': 0.4588,\n",
              " 'NOK': 0.7269,\n",
              " 'NVAX': 0.6369,\n",
              " 'OC': -0.25,\n",
              " 'OCGN': 0.0,\n",
              " 'OI': 0.0,\n",
              " 'ON': 0.4384,\n",
              " 'ONE': -0.6761999999999999,\n",
              " 'OR': 0.0,\n",
              " 'OUT': -0.5106,\n",
              " 'PDT': 0.0,\n",
              " 'PENN': 0.861,\n",
              " 'PLAY': 0.5719,\n",
              " 'PLTR': 3.2396999999999996,\n",
              " 'PLUG': 0.8501,\n",
              " 'PRCH': -0.5965,\n",
              " 'PRPL': 0.0258,\n",
              " 'QS': 0.0,\n",
              " 'RMO': 0.6369,\n",
              " 'ROOT': 0.3612,\n",
              " 'RS': 0.0,\n",
              " 'RSI': 0.4588,\n",
              " 'SE': 0.0,\n",
              " 'SENS': -0.1027,\n",
              " 'SKLZ': 0.4019,\n",
              " 'SNAP': 0.4404,\n",
              " 'SNDL': 0.0047000000000000375,\n",
              " 'SPCE': 0.6808,\n",
              " 'TA': 0.4685,\n",
              " 'TELL': -0.6486,\n",
              " 'TIGR': 0.016800000000000037,\n",
              " 'TLRY': 0.2227,\n",
              " 'TSLA': 0.802,\n",
              " 'TV': -0.4019,\n",
              " 'UK': 0.0,\n",
              " 'VIAC': -0.2263,\n",
              " 'WOW': 0.8038,\n",
              " 'X': 0.5106,\n",
              " 'ZI': 0.3502}"
            ]
          },
          "metadata": {
            "tags": []
          },
          "execution_count": 123
        }
      ]
    },
    {
      "cell_type": "code",
      "metadata": {
        "colab": {
          "base_uri": "https://localhost:8080/"
        },
        "id": "T7EYEswodRxa",
        "outputId": "f7b77557-71ca-491c-d4d8-2ca27aed3a17"
      },
      "source": [
        "#Check word freq\n",
        "wordfreq"
      ],
      "execution_count": null,
      "outputs": [
        {
          "output_type": "execute_result",
          "data": {
            "text/plain": [
              "{'AAPL': 4,\n",
              " 'ALL': 1,\n",
              " 'AM': 1,\n",
              " 'AMC': 11,\n",
              " 'AMD': 6,\n",
              " 'AMZN': 1,\n",
              " 'APHA': 1,\n",
              " 'ARE': 3,\n",
              " 'BABA': 1,\n",
              " 'BB': 5,\n",
              " 'BIG': 1,\n",
              " 'BJ': 1,\n",
              " 'CAN': 1,\n",
              " 'CC': 3,\n",
              " 'CLOV': 1,\n",
              " 'CM': 1,\n",
              " 'CMLF': 1,\n",
              " 'COKE': 3,\n",
              " 'CRSR': 1,\n",
              " 'CRTO': 1,\n",
              " 'CVS': 1,\n",
              " 'DIS': 1,\n",
              " 'DM': 2,\n",
              " 'EOD': 1,\n",
              " 'ET': 1,\n",
              " 'FAT': 1,\n",
              " 'FOR': 2,\n",
              " 'GME': 74,\n",
              " 'GO': 2,\n",
              " 'HA': 2,\n",
              " 'HEXO': 1,\n",
              " 'IBKR': 1,\n",
              " 'IMAX': 1,\n",
              " 'IQ': 2,\n",
              " 'IRS': 1,\n",
              " 'LEAP': 2,\n",
              " 'LMND': 3,\n",
              " 'LOVE': 1,\n",
              " 'MAN': 4,\n",
              " 'MGNI': 4,\n",
              " 'MO': 1,\n",
              " 'MSFT': 1,\n",
              " 'MT': 3,\n",
              " 'MU': 2,\n",
              " 'NIO': 1,\n",
              " 'NKLA': 1,\n",
              " 'NOK': 2,\n",
              " 'NVAX': 1,\n",
              " 'OC': 2,\n",
              " 'OCGN': 1,\n",
              " 'OI': 1,\n",
              " 'ON': 5,\n",
              " 'ONE': 4,\n",
              " 'OR': 1,\n",
              " 'OUT': 1,\n",
              " 'PDT': 2,\n",
              " 'PENN': 1,\n",
              " 'PLAY': 1,\n",
              " 'PLTR': 10,\n",
              " 'PLUG': 1,\n",
              " 'PRCH': 3,\n",
              " 'PRPL': 1,\n",
              " 'QS': 1,\n",
              " 'RMO': 1,\n",
              " 'ROOT': 2,\n",
              " 'RS': 1,\n",
              " 'RSI': 1,\n",
              " 'SE': 1,\n",
              " 'SENS': 1,\n",
              " 'SKLZ': 2,\n",
              " 'SNAP': 1,\n",
              " 'SNDL': 4,\n",
              " 'SPCE': 3,\n",
              " 'TA': 2,\n",
              " 'TELL': 1,\n",
              " 'TIGR': 2,\n",
              " 'TLRY': 2,\n",
              " 'TSLA': 4,\n",
              " 'TV': 1,\n",
              " 'UK': 1,\n",
              " 'VIAC': 1,\n",
              " 'WOW': 2,\n",
              " 'X': 1,\n",
              " 'ZI': 4}"
            ]
          },
          "metadata": {
            "tags": []
          },
          "execution_count": 124
        }
      ]
    },
    {
      "cell_type": "code",
      "metadata": {
        "colab": {
          "base_uri": "https://localhost:8080/",
          "height": 1000
        },
        "id": "ikunI35SbOqC",
        "outputId": "492310bd-9338-4685-bb48-8145035bc346"
      },
      "source": [
        "#Creates a dataFrame of the frequency and the average of the sentiment (sentiment per comment/number of comments)\n",
        "test=pd.DataFrame.from_dict(wordfreq,orient='index',columns = ['freq'])\n",
        "test['sentiment_cumulative'] = pd.DataFrame.from_dict(wordsentiment,orient='index',columns = ['freq'])\n",
        "test['final_sentiment'] = test['sentiment_cumulative']/test['freq']\n",
        "test=test.sort_values(by=['freq'],ascending=False)\n",
        "test"
      ],
      "execution_count": null,
      "outputs": [
        {
          "output_type": "execute_result",
          "data": {
            "text/html": [
              "<div>\n",
              "<style scoped>\n",
              "    .dataframe tbody tr th:only-of-type {\n",
              "        vertical-align: middle;\n",
              "    }\n",
              "\n",
              "    .dataframe tbody tr th {\n",
              "        vertical-align: top;\n",
              "    }\n",
              "\n",
              "    .dataframe thead th {\n",
              "        text-align: right;\n",
              "    }\n",
              "</style>\n",
              "<table border=\"1\" class=\"dataframe\">\n",
              "  <thead>\n",
              "    <tr style=\"text-align: right;\">\n",
              "      <th></th>\n",
              "      <th>freq</th>\n",
              "      <th>sentiment_cumulative</th>\n",
              "      <th>final_sentiment</th>\n",
              "    </tr>\n",
              "  </thead>\n",
              "  <tbody>\n",
              "    <tr>\n",
              "      <th>GME</th>\n",
              "      <td>74</td>\n",
              "      <td>8.6359</td>\n",
              "      <td>0.116701</td>\n",
              "    </tr>\n",
              "    <tr>\n",
              "      <th>AMC</th>\n",
              "      <td>11</td>\n",
              "      <td>2.8411</td>\n",
              "      <td>0.258282</td>\n",
              "    </tr>\n",
              "    <tr>\n",
              "      <th>PLTR</th>\n",
              "      <td>10</td>\n",
              "      <td>3.2397</td>\n",
              "      <td>0.323970</td>\n",
              "    </tr>\n",
              "    <tr>\n",
              "      <th>AMD</th>\n",
              "      <td>6</td>\n",
              "      <td>1.8352</td>\n",
              "      <td>0.305867</td>\n",
              "    </tr>\n",
              "    <tr>\n",
              "      <th>ON</th>\n",
              "      <td>5</td>\n",
              "      <td>0.4384</td>\n",
              "      <td>0.087680</td>\n",
              "    </tr>\n",
              "    <tr>\n",
              "      <th>BB</th>\n",
              "      <td>5</td>\n",
              "      <td>0.4998</td>\n",
              "      <td>0.099960</td>\n",
              "    </tr>\n",
              "    <tr>\n",
              "      <th>TSLA</th>\n",
              "      <td>4</td>\n",
              "      <td>0.8020</td>\n",
              "      <td>0.200500</td>\n",
              "    </tr>\n",
              "    <tr>\n",
              "      <th>MAN</th>\n",
              "      <td>4</td>\n",
              "      <td>1.0229</td>\n",
              "      <td>0.255725</td>\n",
              "    </tr>\n",
              "    <tr>\n",
              "      <th>MGNI</th>\n",
              "      <td>4</td>\n",
              "      <td>0.4448</td>\n",
              "      <td>0.111200</td>\n",
              "    </tr>\n",
              "    <tr>\n",
              "      <th>ZI</th>\n",
              "      <td>4</td>\n",
              "      <td>0.3502</td>\n",
              "      <td>0.087550</td>\n",
              "    </tr>\n",
              "    <tr>\n",
              "      <th>AAPL</th>\n",
              "      <td>4</td>\n",
              "      <td>-0.5766</td>\n",
              "      <td>-0.144150</td>\n",
              "    </tr>\n",
              "    <tr>\n",
              "      <th>ONE</th>\n",
              "      <td>4</td>\n",
              "      <td>-0.6762</td>\n",
              "      <td>-0.169050</td>\n",
              "    </tr>\n",
              "    <tr>\n",
              "      <th>SNDL</th>\n",
              "      <td>4</td>\n",
              "      <td>0.0047</td>\n",
              "      <td>0.001175</td>\n",
              "    </tr>\n",
              "    <tr>\n",
              "      <th>PRCH</th>\n",
              "      <td>3</td>\n",
              "      <td>-0.5965</td>\n",
              "      <td>-0.198833</td>\n",
              "    </tr>\n",
              "    <tr>\n",
              "      <th>MT</th>\n",
              "      <td>3</td>\n",
              "      <td>1.2827</td>\n",
              "      <td>0.427567</td>\n",
              "    </tr>\n",
              "    <tr>\n",
              "      <th>ARE</th>\n",
              "      <td>3</td>\n",
              "      <td>0.4019</td>\n",
              "      <td>0.133967</td>\n",
              "    </tr>\n",
              "    <tr>\n",
              "      <th>COKE</th>\n",
              "      <td>3</td>\n",
              "      <td>-0.5574</td>\n",
              "      <td>-0.185800</td>\n",
              "    </tr>\n",
              "    <tr>\n",
              "      <th>SPCE</th>\n",
              "      <td>3</td>\n",
              "      <td>0.6808</td>\n",
              "      <td>0.226933</td>\n",
              "    </tr>\n",
              "    <tr>\n",
              "      <th>CC</th>\n",
              "      <td>3</td>\n",
              "      <td>0.8225</td>\n",
              "      <td>0.274167</td>\n",
              "    </tr>\n",
              "    <tr>\n",
              "      <th>LMND</th>\n",
              "      <td>3</td>\n",
              "      <td>-0.1566</td>\n",
              "      <td>-0.052200</td>\n",
              "    </tr>\n",
              "    <tr>\n",
              "      <th>TIGR</th>\n",
              "      <td>2</td>\n",
              "      <td>0.0168</td>\n",
              "      <td>0.008400</td>\n",
              "    </tr>\n",
              "    <tr>\n",
              "      <th>PDT</th>\n",
              "      <td>2</td>\n",
              "      <td>0.0000</td>\n",
              "      <td>0.000000</td>\n",
              "    </tr>\n",
              "    <tr>\n",
              "      <th>MU</th>\n",
              "      <td>2</td>\n",
              "      <td>-0.3818</td>\n",
              "      <td>-0.190900</td>\n",
              "    </tr>\n",
              "    <tr>\n",
              "      <th>TA</th>\n",
              "      <td>2</td>\n",
              "      <td>0.4685</td>\n",
              "      <td>0.234250</td>\n",
              "    </tr>\n",
              "    <tr>\n",
              "      <th>TLRY</th>\n",
              "      <td>2</td>\n",
              "      <td>0.2227</td>\n",
              "      <td>0.111350</td>\n",
              "    </tr>\n",
              "    <tr>\n",
              "      <th>DM</th>\n",
              "      <td>2</td>\n",
              "      <td>0.0000</td>\n",
              "      <td>0.000000</td>\n",
              "    </tr>\n",
              "    <tr>\n",
              "      <th>HA</th>\n",
              "      <td>2</td>\n",
              "      <td>-0.4804</td>\n",
              "      <td>-0.240200</td>\n",
              "    </tr>\n",
              "    <tr>\n",
              "      <th>LEAP</th>\n",
              "      <td>2</td>\n",
              "      <td>-1.1636</td>\n",
              "      <td>-0.581800</td>\n",
              "    </tr>\n",
              "    <tr>\n",
              "      <th>ROOT</th>\n",
              "      <td>2</td>\n",
              "      <td>0.3612</td>\n",
              "      <td>0.180600</td>\n",
              "    </tr>\n",
              "    <tr>\n",
              "      <th>GO</th>\n",
              "      <td>2</td>\n",
              "      <td>-0.0475</td>\n",
              "      <td>-0.023750</td>\n",
              "    </tr>\n",
              "    <tr>\n",
              "      <th>IQ</th>\n",
              "      <td>2</td>\n",
              "      <td>-0.2813</td>\n",
              "      <td>-0.140650</td>\n",
              "    </tr>\n",
              "    <tr>\n",
              "      <th>SKLZ</th>\n",
              "      <td>2</td>\n",
              "      <td>0.4019</td>\n",
              "      <td>0.200950</td>\n",
              "    </tr>\n",
              "    <tr>\n",
              "      <th>FOR</th>\n",
              "      <td>2</td>\n",
              "      <td>0.5574</td>\n",
              "      <td>0.278700</td>\n",
              "    </tr>\n",
              "    <tr>\n",
              "      <th>OC</th>\n",
              "      <td>2</td>\n",
              "      <td>-0.2500</td>\n",
              "      <td>-0.125000</td>\n",
              "    </tr>\n",
              "    <tr>\n",
              "      <th>WOW</th>\n",
              "      <td>2</td>\n",
              "      <td>0.8038</td>\n",
              "      <td>0.401900</td>\n",
              "    </tr>\n",
              "    <tr>\n",
              "      <th>NOK</th>\n",
              "      <td>2</td>\n",
              "      <td>0.7269</td>\n",
              "      <td>0.363450</td>\n",
              "    </tr>\n",
              "    <tr>\n",
              "      <th>VIAC</th>\n",
              "      <td>1</td>\n",
              "      <td>-0.2263</td>\n",
              "      <td>-0.226300</td>\n",
              "    </tr>\n",
              "    <tr>\n",
              "      <th>HEXO</th>\n",
              "      <td>1</td>\n",
              "      <td>0.0000</td>\n",
              "      <td>0.000000</td>\n",
              "    </tr>\n",
              "    <tr>\n",
              "      <th>MO</th>\n",
              "      <td>1</td>\n",
              "      <td>0.0000</td>\n",
              "      <td>0.000000</td>\n",
              "    </tr>\n",
              "    <tr>\n",
              "      <th>SE</th>\n",
              "      <td>1</td>\n",
              "      <td>0.0000</td>\n",
              "      <td>0.000000</td>\n",
              "    </tr>\n",
              "    <tr>\n",
              "      <th>NIO</th>\n",
              "      <td>1</td>\n",
              "      <td>0.0000</td>\n",
              "      <td>0.000000</td>\n",
              "    </tr>\n",
              "    <tr>\n",
              "      <th>MSFT</th>\n",
              "      <td>1</td>\n",
              "      <td>0.2023</td>\n",
              "      <td>0.202300</td>\n",
              "    </tr>\n",
              "    <tr>\n",
              "      <th>RS</th>\n",
              "      <td>1</td>\n",
              "      <td>0.0000</td>\n",
              "      <td>0.000000</td>\n",
              "    </tr>\n",
              "    <tr>\n",
              "      <th>IBKR</th>\n",
              "      <td>1</td>\n",
              "      <td>0.0000</td>\n",
              "      <td>0.000000</td>\n",
              "    </tr>\n",
              "    <tr>\n",
              "      <th>X</th>\n",
              "      <td>1</td>\n",
              "      <td>0.5106</td>\n",
              "      <td>0.510600</td>\n",
              "    </tr>\n",
              "    <tr>\n",
              "      <th>CRTO</th>\n",
              "      <td>1</td>\n",
              "      <td>0.3182</td>\n",
              "      <td>0.318200</td>\n",
              "    </tr>\n",
              "    <tr>\n",
              "      <th>IRS</th>\n",
              "      <td>1</td>\n",
              "      <td>0.4019</td>\n",
              "      <td>0.401900</td>\n",
              "    </tr>\n",
              "    <tr>\n",
              "      <th>NVAX</th>\n",
              "      <td>1</td>\n",
              "      <td>0.6369</td>\n",
              "      <td>0.636900</td>\n",
              "    </tr>\n",
              "    <tr>\n",
              "      <th>FAT</th>\n",
              "      <td>1</td>\n",
              "      <td>0.0000</td>\n",
              "      <td>0.000000</td>\n",
              "    </tr>\n",
              "    <tr>\n",
              "      <th>RMO</th>\n",
              "      <td>1</td>\n",
              "      <td>0.6369</td>\n",
              "      <td>0.636900</td>\n",
              "    </tr>\n",
              "    <tr>\n",
              "      <th>BIG</th>\n",
              "      <td>1</td>\n",
              "      <td>0.0000</td>\n",
              "      <td>0.000000</td>\n",
              "    </tr>\n",
              "    <tr>\n",
              "      <th>CMLF</th>\n",
              "      <td>1</td>\n",
              "      <td>-0.5574</td>\n",
              "      <td>-0.557400</td>\n",
              "    </tr>\n",
              "    <tr>\n",
              "      <th>CM</th>\n",
              "      <td>1</td>\n",
              "      <td>-0.6908</td>\n",
              "      <td>-0.690800</td>\n",
              "    </tr>\n",
              "    <tr>\n",
              "      <th>CVS</th>\n",
              "      <td>1</td>\n",
              "      <td>0.1316</td>\n",
              "      <td>0.131600</td>\n",
              "    </tr>\n",
              "    <tr>\n",
              "      <th>TELL</th>\n",
              "      <td>1</td>\n",
              "      <td>-0.6486</td>\n",
              "      <td>-0.648600</td>\n",
              "    </tr>\n",
              "    <tr>\n",
              "      <th>OI</th>\n",
              "      <td>1</td>\n",
              "      <td>0.0000</td>\n",
              "      <td>0.000000</td>\n",
              "    </tr>\n",
              "    <tr>\n",
              "      <th>CAN</th>\n",
              "      <td>1</td>\n",
              "      <td>0.0000</td>\n",
              "      <td>0.000000</td>\n",
              "    </tr>\n",
              "    <tr>\n",
              "      <th>CLOV</th>\n",
              "      <td>1</td>\n",
              "      <td>0.0000</td>\n",
              "      <td>0.000000</td>\n",
              "    </tr>\n",
              "    <tr>\n",
              "      <th>IMAX</th>\n",
              "      <td>1</td>\n",
              "      <td>0.8818</td>\n",
              "      <td>0.881800</td>\n",
              "    </tr>\n",
              "    <tr>\n",
              "      <th>LOVE</th>\n",
              "      <td>1</td>\n",
              "      <td>0.9209</td>\n",
              "      <td>0.920900</td>\n",
              "    </tr>\n",
              "    <tr>\n",
              "      <th>ET</th>\n",
              "      <td>1</td>\n",
              "      <td>0.8885</td>\n",
              "      <td>0.888500</td>\n",
              "    </tr>\n",
              "    <tr>\n",
              "      <th>AMZN</th>\n",
              "      <td>1</td>\n",
              "      <td>0.6956</td>\n",
              "      <td>0.695600</td>\n",
              "    </tr>\n",
              "    <tr>\n",
              "      <th>ALL</th>\n",
              "      <td>1</td>\n",
              "      <td>0.4215</td>\n",
              "      <td>0.421500</td>\n",
              "    </tr>\n",
              "    <tr>\n",
              "      <th>EOD</th>\n",
              "      <td>1</td>\n",
              "      <td>-0.8402</td>\n",
              "      <td>-0.840200</td>\n",
              "    </tr>\n",
              "    <tr>\n",
              "      <th>QS</th>\n",
              "      <td>1</td>\n",
              "      <td>0.0000</td>\n",
              "      <td>0.000000</td>\n",
              "    </tr>\n",
              "    <tr>\n",
              "      <th>RSI</th>\n",
              "      <td>1</td>\n",
              "      <td>0.4588</td>\n",
              "      <td>0.458800</td>\n",
              "    </tr>\n",
              "    <tr>\n",
              "      <th>SNAP</th>\n",
              "      <td>1</td>\n",
              "      <td>0.4404</td>\n",
              "      <td>0.440400</td>\n",
              "    </tr>\n",
              "    <tr>\n",
              "      <th>UK</th>\n",
              "      <td>1</td>\n",
              "      <td>0.0000</td>\n",
              "      <td>0.000000</td>\n",
              "    </tr>\n",
              "    <tr>\n",
              "      <th>BJ</th>\n",
              "      <td>1</td>\n",
              "      <td>0.6361</td>\n",
              "      <td>0.636100</td>\n",
              "    </tr>\n",
              "    <tr>\n",
              "      <th>OCGN</th>\n",
              "      <td>1</td>\n",
              "      <td>0.0000</td>\n",
              "      <td>0.000000</td>\n",
              "    </tr>\n",
              "    <tr>\n",
              "      <th>PRPL</th>\n",
              "      <td>1</td>\n",
              "      <td>0.0258</td>\n",
              "      <td>0.025800</td>\n",
              "    </tr>\n",
              "    <tr>\n",
              "      <th>PENN</th>\n",
              "      <td>1</td>\n",
              "      <td>0.8610</td>\n",
              "      <td>0.861000</td>\n",
              "    </tr>\n",
              "    <tr>\n",
              "      <th>DIS</th>\n",
              "      <td>1</td>\n",
              "      <td>0.0000</td>\n",
              "      <td>0.000000</td>\n",
              "    </tr>\n",
              "    <tr>\n",
              "      <th>CRSR</th>\n",
              "      <td>1</td>\n",
              "      <td>-0.1280</td>\n",
              "      <td>-0.128000</td>\n",
              "    </tr>\n",
              "    <tr>\n",
              "      <th>AM</th>\n",
              "      <td>1</td>\n",
              "      <td>0.0000</td>\n",
              "      <td>0.000000</td>\n",
              "    </tr>\n",
              "    <tr>\n",
              "      <th>TV</th>\n",
              "      <td>1</td>\n",
              "      <td>-0.4019</td>\n",
              "      <td>-0.401900</td>\n",
              "    </tr>\n",
              "    <tr>\n",
              "      <th>BABA</th>\n",
              "      <td>1</td>\n",
              "      <td>0.4404</td>\n",
              "      <td>0.440400</td>\n",
              "    </tr>\n",
              "    <tr>\n",
              "      <th>NKLA</th>\n",
              "      <td>1</td>\n",
              "      <td>0.4588</td>\n",
              "      <td>0.458800</td>\n",
              "    </tr>\n",
              "    <tr>\n",
              "      <th>PLAY</th>\n",
              "      <td>1</td>\n",
              "      <td>0.5719</td>\n",
              "      <td>0.571900</td>\n",
              "    </tr>\n",
              "    <tr>\n",
              "      <th>SENS</th>\n",
              "      <td>1</td>\n",
              "      <td>-0.1027</td>\n",
              "      <td>-0.102700</td>\n",
              "    </tr>\n",
              "    <tr>\n",
              "      <th>PLUG</th>\n",
              "      <td>1</td>\n",
              "      <td>0.8501</td>\n",
              "      <td>0.850100</td>\n",
              "    </tr>\n",
              "    <tr>\n",
              "      <th>OUT</th>\n",
              "      <td>1</td>\n",
              "      <td>-0.5106</td>\n",
              "      <td>-0.510600</td>\n",
              "    </tr>\n",
              "    <tr>\n",
              "      <th>OR</th>\n",
              "      <td>1</td>\n",
              "      <td>0.0000</td>\n",
              "      <td>0.000000</td>\n",
              "    </tr>\n",
              "    <tr>\n",
              "      <th>APHA</th>\n",
              "      <td>1</td>\n",
              "      <td>0.5994</td>\n",
              "      <td>0.599400</td>\n",
              "    </tr>\n",
              "  </tbody>\n",
              "</table>\n",
              "</div>"
            ],
            "text/plain": [
              "      freq  sentiment_cumulative  final_sentiment\n",
              "GME     74                8.6359         0.116701\n",
              "AMC     11                2.8411         0.258282\n",
              "PLTR    10                3.2397         0.323970\n",
              "AMD      6                1.8352         0.305867\n",
              "ON       5                0.4384         0.087680\n",
              "BB       5                0.4998         0.099960\n",
              "TSLA     4                0.8020         0.200500\n",
              "MAN      4                1.0229         0.255725\n",
              "MGNI     4                0.4448         0.111200\n",
              "ZI       4                0.3502         0.087550\n",
              "AAPL     4               -0.5766        -0.144150\n",
              "ONE      4               -0.6762        -0.169050\n",
              "SNDL     4                0.0047         0.001175\n",
              "PRCH     3               -0.5965        -0.198833\n",
              "MT       3                1.2827         0.427567\n",
              "ARE      3                0.4019         0.133967\n",
              "COKE     3               -0.5574        -0.185800\n",
              "SPCE     3                0.6808         0.226933\n",
              "CC       3                0.8225         0.274167\n",
              "LMND     3               -0.1566        -0.052200\n",
              "TIGR     2                0.0168         0.008400\n",
              "PDT      2                0.0000         0.000000\n",
              "MU       2               -0.3818        -0.190900\n",
              "TA       2                0.4685         0.234250\n",
              "TLRY     2                0.2227         0.111350\n",
              "DM       2                0.0000         0.000000\n",
              "HA       2               -0.4804        -0.240200\n",
              "LEAP     2               -1.1636        -0.581800\n",
              "ROOT     2                0.3612         0.180600\n",
              "GO       2               -0.0475        -0.023750\n",
              "IQ       2               -0.2813        -0.140650\n",
              "SKLZ     2                0.4019         0.200950\n",
              "FOR      2                0.5574         0.278700\n",
              "OC       2               -0.2500        -0.125000\n",
              "WOW      2                0.8038         0.401900\n",
              "NOK      2                0.7269         0.363450\n",
              "VIAC     1               -0.2263        -0.226300\n",
              "HEXO     1                0.0000         0.000000\n",
              "MO       1                0.0000         0.000000\n",
              "SE       1                0.0000         0.000000\n",
              "NIO      1                0.0000         0.000000\n",
              "MSFT     1                0.2023         0.202300\n",
              "RS       1                0.0000         0.000000\n",
              "IBKR     1                0.0000         0.000000\n",
              "X        1                0.5106         0.510600\n",
              "CRTO     1                0.3182         0.318200\n",
              "IRS      1                0.4019         0.401900\n",
              "NVAX     1                0.6369         0.636900\n",
              "FAT      1                0.0000         0.000000\n",
              "RMO      1                0.6369         0.636900\n",
              "BIG      1                0.0000         0.000000\n",
              "CMLF     1               -0.5574        -0.557400\n",
              "CM       1               -0.6908        -0.690800\n",
              "CVS      1                0.1316         0.131600\n",
              "TELL     1               -0.6486        -0.648600\n",
              "OI       1                0.0000         0.000000\n",
              "CAN      1                0.0000         0.000000\n",
              "CLOV     1                0.0000         0.000000\n",
              "IMAX     1                0.8818         0.881800\n",
              "LOVE     1                0.9209         0.920900\n",
              "ET       1                0.8885         0.888500\n",
              "AMZN     1                0.6956         0.695600\n",
              "ALL      1                0.4215         0.421500\n",
              "EOD      1               -0.8402        -0.840200\n",
              "QS       1                0.0000         0.000000\n",
              "RSI      1                0.4588         0.458800\n",
              "SNAP     1                0.4404         0.440400\n",
              "UK       1                0.0000         0.000000\n",
              "BJ       1                0.6361         0.636100\n",
              "OCGN     1                0.0000         0.000000\n",
              "PRPL     1                0.0258         0.025800\n",
              "PENN     1                0.8610         0.861000\n",
              "DIS      1                0.0000         0.000000\n",
              "CRSR     1               -0.1280        -0.128000\n",
              "AM       1                0.0000         0.000000\n",
              "TV       1               -0.4019        -0.401900\n",
              "BABA     1                0.4404         0.440400\n",
              "NKLA     1                0.4588         0.458800\n",
              "PLAY     1                0.5719         0.571900\n",
              "SENS     1               -0.1027        -0.102700\n",
              "PLUG     1                0.8501         0.850100\n",
              "OUT      1               -0.5106        -0.510600\n",
              "OR       1                0.0000         0.000000\n",
              "APHA     1                0.5994         0.599400"
            ]
          },
          "metadata": {
            "tags": []
          },
          "execution_count": 125
        }
      ]
    },
    {
      "cell_type": "code",
      "metadata": {
        "id": "Z2nhH3CRiCK2"
      },
      "source": [
        "#Sentiment analysis per comment\n",
        "# f = lambda title: vader.polarity_scores(title)['compound']\n",
        "# df = pd.DataFrame(hot_post_comments, columns=['title'])\n",
        "# df['compound'] = df['title'].apply(f)\n",
        "# df"
      ],
      "execution_count": null,
      "outputs": []
    }
  ]
}